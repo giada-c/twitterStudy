{
 "cells": [
  {
   "cell_type": "markdown",
   "id": "822372f4",
   "metadata": {},
   "source": [
    "# Preparation list users\n",
    "This file prepare the list that contains all the users studied directly on twitter \"by hand\""
   ]
  },
  {
   "cell_type": "markdown",
   "id": "7f0ec33b",
   "metadata": {},
   "source": [
    "## Import"
   ]
  },
  {
   "cell_type": "code",
   "execution_count": 1,
   "id": "54697710",
   "metadata": {},
   "outputs": [],
   "source": [
    "import pandas as pd"
   ]
  },
  {
   "cell_type": "markdown",
   "id": "a4cb5c61",
   "metadata": {},
   "source": [
    "# URL classification "
   ]
  },
  {
   "cell_type": "code",
   "execution_count": 2,
   "id": "56f6ae98",
   "metadata": {},
   "outputs": [],
   "source": [
    "df_cred = pd.read_csv('data/Credibility.csv').groupby('Domain').first()\n",
    "df_cred.drop(['a.msn.com','rt.com','apa.org','news.sky.com','news.yahoo.co','news.yahoo.com']\n",
    "             ,inplace=True,errors='ignore')"
   ]
  },
  {
   "cell_type": "code",
   "execution_count": 3,
   "id": "b9a9215c",
   "metadata": {},
   "outputs": [],
   "source": [
    "linkhigh = []\n",
    "linklow = []"
   ]
  },
  {
   "cell_type": "code",
   "execution_count": 4,
   "id": "e992f259",
   "metadata": {},
   "outputs": [
    {
     "data": {
      "text/html": [
       "<div>\n",
       "<style scoped>\n",
       "    .dataframe tbody tr th:only-of-type {\n",
       "        vertical-align: middle;\n",
       "    }\n",
       "\n",
       "    .dataframe tbody tr th {\n",
       "        vertical-align: top;\n",
       "    }\n",
       "\n",
       "    .dataframe thead th {\n",
       "        text-align: right;\n",
       "    }\n",
       "</style>\n",
       "<table border=\"1\" class=\"dataframe\">\n",
       "  <thead>\n",
       "    <tr style=\"text-align: right;\">\n",
       "      <th></th>\n",
       "      <th>Sub_ID</th>\n",
       "      <th>Class</th>\n",
       "      <th>Source</th>\n",
       "      <th>Orientation</th>\n",
       "      <th>Infos</th>\n",
       "      <th>Dataset</th>\n",
       "    </tr>\n",
       "    <tr>\n",
       "      <th>Domain</th>\n",
       "      <th></th>\n",
       "      <th></th>\n",
       "      <th></th>\n",
       "      <th></th>\n",
       "      <th></th>\n",
       "      <th></th>\n",
       "    </tr>\n",
       "  </thead>\n",
       "  <tbody>\n",
       "    <tr>\n",
       "      <th>100percentfedup.com</th>\n",
       "      <td>0</td>\n",
       "      <td>low</td>\n",
       "      <td>None</td>\n",
       "      <td>None</td>\n",
       "      <td>Low with media bias</td>\n",
       "      <td>US</td>\n",
       "    </tr>\n",
       "    <tr>\n",
       "      <th>10news.one</th>\n",
       "      <td>0</td>\n",
       "      <td>low</td>\n",
       "      <td>None</td>\n",
       "      <td>None</td>\n",
       "      <td>Low with media bias</td>\n",
       "      <td>US</td>\n",
       "    </tr>\n",
       "    <tr>\n",
       "      <th>12minutos.com</th>\n",
       "      <td>0</td>\n",
       "      <td>low</td>\n",
       "      <td>None</td>\n",
       "      <td>None</td>\n",
       "      <td>Low with media bias</td>\n",
       "      <td>US</td>\n",
       "    </tr>\n",
       "    <tr>\n",
       "      <th>12news.com</th>\n",
       "      <td>0</td>\n",
       "      <td>high</td>\n",
       "      <td>None</td>\n",
       "      <td>None</td>\n",
       "      <td>High</td>\n",
       "      <td>US</td>\n",
       "    </tr>\n",
       "    <tr>\n",
       "      <th>21stcenturywire.com</th>\n",
       "      <td>0</td>\n",
       "      <td>low</td>\n",
       "      <td>None</td>\n",
       "      <td>None</td>\n",
       "      <td>Low with media bias</td>\n",
       "      <td>US</td>\n",
       "    </tr>\n",
       "    <tr>\n",
       "      <th>...</th>\n",
       "      <td>...</td>\n",
       "      <td>...</td>\n",
       "      <td>...</td>\n",
       "      <td>...</td>\n",
       "      <td>...</td>\n",
       "      <td>...</td>\n",
       "    </tr>\n",
       "    <tr>\n",
       "      <th>zapping2017.myblog.it</th>\n",
       "      <td>6</td>\n",
       "      <td>low</td>\n",
       "      <td>VaccinItaly</td>\n",
       "      <td>None</td>\n",
       "      <td>Low with media bias</td>\n",
       "      <td>VaccinItaly</td>\n",
       "    </tr>\n",
       "    <tr>\n",
       "      <th>zazoom.it</th>\n",
       "      <td>-1</td>\n",
       "      <td>low</td>\n",
       "      <td>None</td>\n",
       "      <td>None</td>\n",
       "      <td>aggregatore di fonti dubbie (anche astrologia ...</td>\n",
       "      <td>VaccinItaly</td>\n",
       "    </tr>\n",
       "    <tr>\n",
       "      <th>zerohedge.com</th>\n",
       "      <td>0</td>\n",
       "      <td>low</td>\n",
       "      <td>None</td>\n",
       "      <td>None</td>\n",
       "      <td>Low with media bias</td>\n",
       "      <td>US</td>\n",
       "    </tr>\n",
       "    <tr>\n",
       "      <th>ziare.com</th>\n",
       "      <td>-1</td>\n",
       "      <td>low</td>\n",
       "      <td>None</td>\n",
       "      <td>None</td>\n",
       "      <td>sito in lungua non nazionale (forse rumeno): d...</td>\n",
       "      <td>VaccinItaly</td>\n",
       "    </tr>\n",
       "    <tr>\n",
       "      <th>zmescience.com</th>\n",
       "      <td>0</td>\n",
       "      <td>high</td>\n",
       "      <td>None</td>\n",
       "      <td>Pro Science</td>\n",
       "      <td>None</td>\n",
       "      <td>US</td>\n",
       "    </tr>\n",
       "  </tbody>\n",
       "</table>\n",
       "<p>782 rows × 6 columns</p>\n",
       "</div>"
      ],
      "text/plain": [
       "                      Sub_ID Class       Source  Orientation  \\\n",
       "Domain                                                         \n",
       "100percentfedup.com        0   low         None         None   \n",
       "10news.one                 0   low         None         None   \n",
       "12minutos.com              0   low         None         None   \n",
       "12news.com                 0  high         None         None   \n",
       "21stcenturywire.com        0   low         None         None   \n",
       "...                      ...   ...          ...          ...   \n",
       "zapping2017.myblog.it      6   low  VaccinItaly         None   \n",
       "zazoom.it                 -1   low         None         None   \n",
       "zerohedge.com              0   low         None         None   \n",
       "ziare.com                 -1   low         None         None   \n",
       "zmescience.com             0  high         None  Pro Science   \n",
       "\n",
       "                                                                   Infos  \\\n",
       "Domain                                                                     \n",
       "100percentfedup.com                                  Low with media bias   \n",
       "10news.one                                           Low with media bias   \n",
       "12minutos.com                                        Low with media bias   \n",
       "12news.com                                                          High   \n",
       "21stcenturywire.com                                  Low with media bias   \n",
       "...                                                                  ...   \n",
       "zapping2017.myblog.it                                Low with media bias   \n",
       "zazoom.it              aggregatore di fonti dubbie (anche astrologia ...   \n",
       "zerohedge.com                                        Low with media bias   \n",
       "ziare.com              sito in lungua non nazionale (forse rumeno): d...   \n",
       "zmescience.com                                                      None   \n",
       "\n",
       "                           Dataset  \n",
       "Domain                              \n",
       "100percentfedup.com             US  \n",
       "10news.one                      US  \n",
       "12minutos.com                   US  \n",
       "12news.com                      US  \n",
       "21stcenturywire.com             US  \n",
       "...                            ...  \n",
       "zapping2017.myblog.it  VaccinItaly  \n",
       "zazoom.it              VaccinItaly  \n",
       "zerohedge.com                   US  \n",
       "ziare.com              VaccinItaly  \n",
       "zmescience.com                  US  \n",
       "\n",
       "[782 rows x 6 columns]"
      ]
     },
     "execution_count": 4,
     "metadata": {},
     "output_type": "execute_result"
    }
   ],
   "source": [
    "df_cred"
   ]
  },
  {
   "cell_type": "code",
   "execution_count": 5,
   "id": "94d472a5",
   "metadata": {},
   "outputs": [],
   "source": [
    "dfHighCred = pd.DataFrame(index=linkhigh)\n",
    "dfHighCred['linkHigh'] = True\n",
    "\n",
    "dfLowCred = pd.DataFrame(index=linklow)\n",
    "dfLowCred['linkLow'] = True"
   ]
  },
  {
   "cell_type": "markdown",
   "id": "d0b6b746",
   "metadata": {},
   "source": [
    "#  Novax users"
   ]
  },
  {
   "cell_type": "code",
   "execution_count": 6,
   "id": "bbcd6d71",
   "metadata": {},
   "outputs": [],
   "source": [
    "listSuspect = ['IacobellisT','Piero42395724', 'TommyBrain','xenonian1', 'Z3r0Rules','Pietro_Otto',\n",
    "               'MarySpes','manu_etoile','CarpaneseSilva1','il_brigante07','Sakurauchi_Hime','MinervaMcGrani1',\n",
    "              'marchesaangeli','lucabattanta',\n",
    "              'gael99','LPinicia','Mariang47614228','SoniaLaVera','valy_s','Samira1577','daniele19921','d_essere'\n",
    "              'anto_galli4','LuigiF97101292','EureosCriss','vaniacavi',\n",
    "              'markred17','RenzoCianchetti','12qbert','ManuQ24916888','bisagnino','thewaterflea',\n",
    "              'BarbaraRaval','noitre32','intuslegens','pbecchi','miia_2018','ladyonorato','cris_cersei','RadioSavana',\n",
    "              'lameduck1960','a_meluzzi','francescatotolo','Mr_Ozymandias','FmMosca','LaVeritaWeb','Bluefidel47',\n",
    "              'fdragoni','byoblu','MinutemanItaly','TarroGiulio','NicolaPorro','25O319','sabrina__sf','liliaragnar',\n",
    "              'FabioFranchi1','EliseiNicole','borghi_claudio']"
   ]
  },
  {
   "cell_type": "code",
   "execution_count": 7,
   "id": "2feb24c5",
   "metadata": {},
   "outputs": [],
   "source": [
    "dfMalicious = pd.DataFrame(index=listSuspect)\n",
    "dfMalicious ['malicious'] = True"
   ]
  },
  {
   "cell_type": "markdown",
   "id": "45dcaea1",
   "metadata": {},
   "source": [
    "# Provax users"
   ]
  },
  {
   "cell_type": "code",
   "execution_count": 8,
   "id": "403dd767",
   "metadata": {},
   "outputs": [],
   "source": [
    "listProvax = ['RobertoBurioni','Cartabellotta','GIMBE','robersperanza','MinisteroSalute','Aifa_ufficiale',\n",
    "              'Palazzo_Chigi','istsupsan','WRicciardi','ISSalute_it','GiacomoGorini','antonellaviol17','Quirinale',\n",
    "              'MedBunker','DarioBressanini','MassimoGalli51','BiologiScienza','ilariacapua','ProfLopalco',\n",
    "              'MedicalFactsIT','bgallavotti','INMISpallanzani','ScaltritiLab','DrMCecconi']"
   ]
  },
  {
   "cell_type": "raw",
   "id": "cb15877b",
   "metadata": {},
   "source": [
    "listHighCred =  ['tagadala7', 'La7tv', 'Corriere', 'tg2rai', 'TgrRaiPuglia', 'Linkiesta', 'ilfoglio_it', \n",
    "                 'fanpage', 'LaStampa', 'RaiNews', 'fattoquotidiano', 'TgrRaiVeneto', 'agorarai', 'TgrRaiSicilia', \n",
    "                 'UnioneSarda', 'SkyTG24', 'repubblica', 'TgrRai', 'Agenzia_Ansa', 'Tg3web', 'TgrRaiToscana', \n",
    "                 'Affaritaliani', 'TgrRaiTrentino', 'PiazzapulitaLA7', 'Adnkronos', 'agerpres', 'RepubblicaTv', \n",
    "                 'TgrRaiFVG', 'ilpost', 'Open_gol', 'Radio1Rai', 'MediasetTgcom24', 'TgLa7', 'RaiStudio24', \n",
    "                 'TgrRaiMolise', 'sole24ore', 'Ticinonline', 'ricpuglisi', 'SimoneCosimi', 'giusmo1', 'RobertoBurioni',\n",
    "                 'rtl1025', 'messveneto', 'HuffPostItalia', 'Agenzia_Italia', 'ItaliaViva', 'iltirreno', 'Agenzia_Dire',\n",
    "                 'stebellentani', 'eziomauro', 'QRepubblica', 'lucianocapone', 'robersperanza', 'vocedelpatriota', \n",
    "                 'GiovaQuez', 'Cartabellotta', 'istsupsan', 'christianrocca', 'Zeta_Luiss', 'radioanchio', '24Mattino', \n",
    "                 'sottoinchiesta', 'riotta']"
   ]
  },
  {
   "cell_type": "raw",
   "id": "0a47e4da",
   "metadata": {},
   "source": [
    "listHighCred.append('sole24ore')\n",
    "listHighCred.append('Ticinonline')\n",
    "listHighCred.append('ricpuglisi')\n",
    "listHighCred.append('SimoneCosimi')\n",
    "listHighCred.append('giusmo1')\n",
    "listHighCred.append('RobertoBurioni')\n",
    "listHighCred.append('rtl1025')\n",
    "listHighCred.append('messveneto')\n",
    "listHighCred.append('HuffPostItalia')\n",
    "listHighCred.append('Agenzia_Italia')\n",
    "listHighCred.append('ItaliaViva')\n",
    "listHighCred.append('iltirreno')\n",
    "listHighCred.append('Agenzia_Dire')\n",
    "listHighCred.append('stebellentani')\n",
    "listHighCred.append('eziomauro')\n",
    "listHighCred.append('QRepubblica')\n",
    "listHighCred.append('lucianocapone')\n",
    "listHighCred.append('robersperanza')\n",
    "listHighCred.append('vocedelpatriota')\n",
    "listHighCred.append('GiovaQuez')\n",
    "listHighCred.append('Cartabellotta')\n",
    "listHighCred.append('istsupsan')\n",
    "listHighCred.append('christianrocca')\n",
    "listHighCred.append('Zeta_Luiss')\n",
    "listHighCred.append('radioanchio')\n",
    "listHighCred.append('24Mattino')\n",
    "listHighCred.append('sottoinchiesta')\n",
    "listHighCred.append('riotta')"
   ]
  },
  {
   "cell_type": "code",
   "execution_count": 9,
   "id": "9ba7c25d",
   "metadata": {},
   "outputs": [],
   "source": [
    "dfBenevolent = pd.DataFrame(index=listProvax)\n",
    "dfBenevolent['benevolent'] = True"
   ]
  },
  {
   "cell_type": "markdown",
   "id": "8f433135",
   "metadata": {},
   "source": [
    "# Export on external lists"
   ]
  },
  {
   "cell_type": "raw",
   "id": "298724c3",
   "metadata": {},
   "source": [
    "import json\n",
    "data = {'Provax':listProvax,'Novax':listSuspect,'link_low':linklow}\n",
    "json_string = json.dumps(data)\n",
    "datastore = json.loads(json_string)\n",
    "with open('listControlledUsers.json', 'w') as f:\n",
    "        json.dump(datastore, f)"
   ]
  },
  {
   "cell_type": "code",
   "execution_count": 10,
   "id": "cb37a54b",
   "metadata": {},
   "outputs": [],
   "source": [
    "df =  dfMalicious.append([dfBenevolent,dfHighCred,dfLowCred])\n",
    "df = df.fillna(False)    \n",
    "df.to_csv('listControlledUsers.csv')  "
   ]
  }
 ],
 "metadata": {
  "interpreter": {
   "hash": "1f708736793de3fc0c02bbe85b1c7aa3dac1d3a33c8c658a64d0d602cb53d4fc"
  },
  "kernelspec": {
   "display_name": "Python 3",
   "language": "python",
   "name": "python3"
  },
  "language_info": {
   "codemirror_mode": {
    "name": "ipython",
    "version": 3
   },
   "file_extension": ".py",
   "mimetype": "text/x-python",
   "name": "python",
   "nbconvert_exporter": "python",
   "pygments_lexer": "ipython3",
   "version": "3.8.10"
  }
 },
 "nbformat": 4,
 "nbformat_minor": 5
}
