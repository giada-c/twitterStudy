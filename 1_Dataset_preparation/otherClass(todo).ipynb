{
 "cells": [
  {
   "cell_type": "markdown",
   "id": "ea30ca55",
   "metadata": {},
   "source": [
    "## Filtered by hashtag"
   ]
  },
  {
   "cell_type": "code",
   "execution_count": null,
   "id": "6544ccfc",
   "metadata": {},
   "outputs": [],
   "source": [
    "hashtagsNoVax = ['5g','billgates','dittatura*.','disobbedisco','nessunacorrelazione','byoblu*.']"
   ]
  },
  {
   "cell_type": "raw",
   "id": "84a442fb",
   "metadata": {},
   "source": [
    "hashtagsPolitics = ['.*lombardia.*','draghi','conte','m5s','mattarella','salvini','speranza','renzi','lega'\n",
    "                    ,'.*governo.*','.*moratti.*','zingaretti','scanzi','burioni','crisanti']"
   ]
  },
  {
   "cell_type": "markdown",
   "id": "6a22ddb5",
   "metadata": {},
   "source": [
    "### NoVax"
   ]
  },
  {
   "cell_type": "code",
   "execution_count": null,
   "id": "05707a8b",
   "metadata": {},
   "outputs": [],
   "source": [
    "userNoVaxHt = ut.process_df_hashtags(dfPosts,hashtagsNoVax)\n",
    "userNoVaxHt"
   ]
  },
  {
   "cell_type": "code",
   "execution_count": null,
   "id": "8ece844c",
   "metadata": {},
   "outputs": [],
   "source": [
    "dfNovaxHt = dfPosts[dfPosts.isin(userNoVaxHt)['user_screen_name']]"
   ]
  },
  {
   "cell_type": "raw",
   "id": "9d394dbe",
   "metadata": {},
   "source": [
    "### Politics"
   ]
  },
  {
   "cell_type": "raw",
   "id": "07a627c9",
   "metadata": {},
   "source": [
    "userPoliticHt = ut.process_df_hashtags(dfPosts,hashtagsPolitics)\n",
    "userPoliticHt"
   ]
  },
  {
   "cell_type": "raw",
   "id": "e9c18a47",
   "metadata": {
    "scrolled": true
   },
   "source": [
    "dfPoliticHt = pd.DataFrame()\n",
    "for u in userPoliticHt:\n",
    "    df1 = dfPosts[dfPosts['user_screen_name']==u]\n",
    "    dfPoliticHt = pd.concat([dfPoliticHt,df1])\n",
    "    del df1\n",
    "dfPoliticHt"
   ]
  },
  {
   "cell_type": "markdown",
   "id": "79e8944b",
   "metadata": {},
   "source": [
    "## Filtered by URL"
   ]
  },
  {
   "cell_type": "code",
   "execution_count": null,
   "id": "6b667300",
   "metadata": {},
   "outputs": [],
   "source": [
    "dfUrl = dfPosts.groupby('user_screen_name').first()\n",
    "dfUrl.drop(dfUrl.columns.difference(['user_credibility']), 1, inplace=True)"
   ]
  },
  {
   "cell_type": "code",
   "execution_count": null,
   "id": "c8aaebae",
   "metadata": {},
   "outputs": [],
   "source": [
    "fig = px.histogram(x=dfUrl['user_credibility'].dropna()[dfUrl['user_credibility']>0],nbins=100,\n",
    "                 histnorm='percent',title=\"Suspect rate on URL shared\")\n",
    "fig.show()"
   ]
  },
  {
   "cell_type": "markdown",
   "id": "bc6c51c7",
   "metadata": {},
   "source": [
    "### NoVax"
   ]
  },
  {
   "cell_type": "code",
   "execution_count": null,
   "id": "8c43a4b3",
   "metadata": {},
   "outputs": [],
   "source": [
    "dfUsernovaxURL = dfUrl[(dfUrl['user_credibility'].notna())&(dfUrl['user_credibility']<0.3)]\n",
    "dfUsernovaxURL"
   ]
  },
  {
   "cell_type": "markdown",
   "id": "3d7becf9",
   "metadata": {},
   "source": [
    "#### Comparison of users found with retweets and with URLs"
   ]
  },
  {
   "cell_type": "code",
   "execution_count": null,
   "id": "cc842053",
   "metadata": {},
   "outputs": [],
   "source": [
    "countSuspect = Counter(list(dfUsernovaxURL.index) + list(dfNovaxSus['user_screen_name'].unique()))\n",
    "\n",
    "inTwoDf = dict(takewhile(lambda i: i[1] == 2, countSuspect.most_common()))\n",
    "inOneDf = dict(dropwhile(lambda i: i[1] == 2, countSuspect.most_common()))"
   ]
  },
  {
   "cell_type": "code",
   "execution_count": null,
   "id": "c84f267f",
   "metadata": {},
   "outputs": [],
   "source": [
    "c = Counter(list(inOneDf.keys()) + list(dfUsernovaxURL.index))\n",
    "suspectInUrl = dict(takewhile(lambda i: i[1] == 2, c.most_common())).keys()\n",
    "(len(suspectInUrl) / len(dfUsernovaxURL)) * 100"
   ]
  },
  {
   "cell_type": "markdown",
   "id": "ea7a5997",
   "metadata": {},
   "source": [
    "### High credibility"
   ]
  },
  {
   "cell_type": "code",
   "execution_count": null,
   "id": "15c4294b",
   "metadata": {},
   "outputs": [],
   "source": [
    "dfUserHighURL = dfUrl[(dfUrl['user_credibility'].notna())&(dfUrl['user_credibility']<=0.2)]\n",
    "dfUserHighURL"
   ]
  },
  {
   "cell_type": "markdown",
   "id": "bc6ca701",
   "metadata": {},
   "source": [
    "#### Comparison of users found with retweets and with URLs"
   ]
  },
  {
   "cell_type": "code",
   "execution_count": null,
   "id": "7f18c752",
   "metadata": {},
   "outputs": [],
   "source": [
    "countUser = Counter(list(dfUserHighURL.index) + list(dfHighRate['user_screen_name'].unique()))\n",
    "\n",
    "inTwoDf = dict(takewhile(lambda i: i[1] == 2, countUser.most_common()))\n",
    "inOneDf = dict(dropwhile(lambda i: i[1] == 2, countUser.most_common()))\n",
    "\n",
    "(len(inTwoDf) / len(countUser)) * 100"
   ]
  },
  {
   "cell_type": "code",
   "execution_count": null,
   "id": "f4e3b87d",
   "metadata": {},
   "outputs": [],
   "source": [
    "c = Counter(list(inOneDf.keys()) + list(dfUserHighURL.index))\n",
    "userInUrl = dict(takewhile(lambda i: i[1] == 2, c.most_common())).keys()\n",
    "(len(userInUrl) / len(dfHighRate)) * 100"
   ]
  },
  {
   "cell_type": "code",
   "execution_count": null,
   "id": "82d8f0b5",
   "metadata": {},
   "outputs": [],
   "source": []
  }
 ],
 "metadata": {
  "kernelspec": {
   "display_name": "Python 3",
   "language": "python",
   "name": "python3"
  },
  "language_info": {
   "codemirror_mode": {
    "name": "ipython",
    "version": 3
   },
   "file_extension": ".py",
   "mimetype": "text/x-python",
   "name": "python",
   "nbconvert_exporter": "python",
   "pygments_lexer": "ipython3",
   "version": "3.8.10"
  }
 },
 "nbformat": 4,
 "nbformat_minor": 5
}
