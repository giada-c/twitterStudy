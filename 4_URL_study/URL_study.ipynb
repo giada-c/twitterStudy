{
 "cells": [
  {
   "cell_type": "markdown",
   "id": "607f5bd3",
   "metadata": {},
   "source": [
    "# Hashtags study"
   ]
  },
  {
   "cell_type": "markdown",
   "id": "8f95f8ed",
   "metadata": {},
   "source": [
    "## Import"
   ]
  },
  {
   "cell_type": "code",
   "execution_count": null,
   "id": "6fd03770",
   "metadata": {},
   "outputs": [],
   "source": [
    "import pandas as pd\n",
    "import json\n",
    "\n",
    "import plotly.express as px\n",
    "import plotly.graph_objects as go\n",
    "\n",
    "import os\n",
    "from pathlib import Path\n",
    "\n",
    "import importlib\n",
    "import sys\n",
    "import url_util as ut\n",
    "sys.path.insert(0, '../')\n",
    "import general_utils as gen_ut"
   ]
  },
  {
   "cell_type": "markdown",
   "id": "eaf3b72f",
   "metadata": {},
   "source": [
    "## Dataset preparation"
   ]
  },
  {
   "cell_type": "code",
   "execution_count": null,
   "id": "330b2511",
   "metadata": {},
   "outputs": [],
   "source": [
    "df = pd.read_csv('../tweets.csv',low_memory=False,\n",
    "                 usecols=['urls','created_at'])"
   ]
  },
  {
   "cell_type": "code",
   "execution_count": null,
   "id": "a31e29d5",
   "metadata": {},
   "outputs": [],
   "source": [
    "df['created_at'] = pd.to_datetime(df['created_at'], format=\"%a %b %d %X %z %Y\")"
   ]
  },
  {
   "cell_type": "markdown",
   "id": "4d18719b",
   "metadata": {},
   "source": [
    "### Visualizaiton by histogram"
   ]
  },
  {
   "cell_type": "code",
   "execution_count": null,
   "id": "567bd164",
   "metadata": {},
   "outputs": [],
   "source": [
    "dfUrls = ut.df_url_counter(df)\n",
    "dfUrls = ut.url_credibility('../1_Dataset_preparation/data/credibility.csv',dfUrls)\n",
    "dfUrls"
   ]
  },
  {
   "cell_type": "code",
   "execution_count": null,
   "id": "522667f6",
   "metadata": {},
   "outputs": [],
   "source": [
    "total = sum(dfUrls['count'])\n",
    "print('Credibility:')\n",
    "\n",
    "for c in dfUrls['Class'].unique():\n",
    "    summation = sum(dfUrls.loc[dfUrls['Class']==c,'count'])\n",
    "    print('\\t%s:\\t %d  \\t %d%%'%(c,summation,summation*100/total))"
   ]
  },
  {
   "cell_type": "code",
   "execution_count": null,
   "id": "e0c212a7",
   "metadata": {},
   "outputs": [],
   "source": [
    "for i in (10,20,40,50): \n",
    "    fig = go.Figure()\n",
    "    if i>25:\n",
    "        n = i//2\n",
    "        fig = px.histogram(dfUrls.head(i-n),y=dfUrls.head(i-n).index,x='count',\n",
    "                title=\"The most %d url used in the tweets (first %d)\"% (i, i-n),orientation = 'h',color='Class')\n",
    "        fig.update_yaxes(title='URL name')\n",
    "        fig.update_yaxes(categoryorder='total descending')\n",
    "        fig.show()\n",
    "        \n",
    "        fig = px.histogram(dfUrls.head(i).tail(n),y=dfUrls.head(i).tail(n).index,x='count',\n",
    "                title=\"The most %d url used in the tweets (last %d)\"% (i, n),orientation = 'h',color='Class')\n",
    "    else:\n",
    "        fig = px.histogram(dfUrls.head(i),y=dfUrls.head(i).index,x='count',\n",
    "                title=\"The most %d url used in the tweets\"% i,orientation = 'h',color='Class')\n",
    "    fig.update_yaxes(title='URL name')\n",
    "    fig.update_yaxes(categoryorder='total descending')\n",
    "    fig.show()"
   ]
  },
  {
   "cell_type": "code",
   "execution_count": null,
   "id": "60727ce6",
   "metadata": {},
   "outputs": [],
   "source": [
    "dfUseUrl = ut.process_dfUse(df)\n",
    "dfUseUrl"
   ]
  },
  {
   "cell_type": "code",
   "execution_count": null,
   "id": "d1719a84",
   "metadata": {},
   "outputs": [],
   "source": [
    "#All in the same graphic\n",
    "fig = go.Figure()\n",
    "\n",
    "for w in dfUrls.head().index:\n",
    "    mask = dfUseUrl['url'] == w\n",
    "    fig.add_trace(go.Scatter(x=dfUseUrl.loc[mask,'Week/Year'], y=dfUseUrl.loc[mask,'count'],\n",
    "                    mode='lines+markers',\n",
    "                    name=w))\n",
    "fig.update_layout(title='All url history use',xaxis_title='Date',yaxis_title='use count')\n",
    "\n",
    "fig.show()"
   ]
  },
  {
   "cell_type": "code",
   "execution_count": null,
   "id": "6068c113",
   "metadata": {},
   "outputs": [],
   "source": [
    "#All in different graphic\n",
    "for w in dfUrls.head().index:\n",
    "    fig = go.Figure()\n",
    "    mask = dfUseUrl['url'] == w\n",
    "    fig.add_trace(go.Scatter(x=dfUseUrl.loc[mask,'Week/Year'], y=dfUseUrl.loc[mask,'count'],\n",
    "                    mode='lines+markers',\n",
    "                    name=w))\n",
    "    fig.update_layout(title=\"History use of url '%s'\"%w,xaxis_title='Date',yaxis_title='use count')\n",
    "\n",
    "    fig.show()"
   ]
  }
 ],
 "metadata": {
  "interpreter": {
   "hash": "1f708736793de3fc0c02bbe85b1c7aa3dac1d3a33c8c658a64d0d602cb53d4fc"
  },
  "kernelspec": {
   "display_name": "Python 3.8.10 64-bit ('TwitterStudy': conda)",
   "name": "python3"
  },
  "language_info": {
   "codemirror_mode": {
    "name": "ipython",
    "version": 3
   },
   "file_extension": ".py",
   "mimetype": "text/x-python",
   "name": "python",
   "nbconvert_exporter": "python",
   "pygments_lexer": "ipython3",
   "version": "3.8.10"
  }
 },
 "nbformat": 4,
 "nbformat_minor": 5
}
