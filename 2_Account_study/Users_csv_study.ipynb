{
 "cells": [
  {
   "cell_type": "markdown",
   "metadata": {},
   "source": [
    "## Import"
   ]
  },
  {
   "cell_type": "code",
   "execution_count": null,
   "metadata": {},
   "outputs": [],
   "source": [
    "import math\n",
    "import json\n",
    "\n",
    "import numpy as np\n",
    "import pandas as pd\n",
    "import seaborn as sb\n",
    "\n",
    "from collections import Counter\n",
    "from datetime import datetime\n",
    "\n",
    "from plotly.subplots import make_subplots\n",
    "import plotly.graph_objects as go\n",
    "import matplotlib.pyplot as plt\n",
    "import plotly.express as px"
   ]
  },
  {
   "cell_type": "markdown",
   "metadata": {},
   "source": [
    "## Dataset preparation"
   ]
  },
  {
   "cell_type": "code",
   "execution_count": null,
   "metadata": {},
   "outputs": [],
   "source": [
    "df=pd.read_csv('../users.csv',low_memory=False,lineterminator='\\n')"
   ]
  },
  {
   "cell_type": "code",
   "execution_count": null,
   "metadata": {},
   "outputs": [],
   "source": [
    "df['created_at'] = pd.to_datetime(df['created_at'], format=\"%a %b %d %X %z %Y\")"
   ]
  },
  {
   "cell_type": "markdown",
   "metadata": {},
   "source": [
    "## Initial dataset study"
   ]
  },
  {
   "cell_type": "code",
   "execution_count": null,
   "metadata": {},
   "outputs": [],
   "source": [
    "df.info()\n",
    "df"
   ]
  },
  {
   "cell_type": "code",
   "execution_count": null,
   "metadata": {},
   "outputs": [],
   "source": [
    "#Print aggregate statistics on features\n",
    "print('Aggregated statistics on features')\n",
    "df.describe()"
   ]
  },
  {
   "cell_type": "raw",
   "metadata": {
    "scrolled": true
   },
   "source": [
    "print('Heatmap dataframe')\n",
    "\n",
    "plt.figure(figsize=(20, 20))\n",
    "sb.heatmap(df.corr(),linewidths=0.1,annot=True)"
   ]
  },
  {
   "cell_type": "markdown",
   "metadata": {},
   "source": [
    "## Boolean info visualization"
   ]
  },
  {
   "cell_type": "code",
   "execution_count": null,
   "metadata": {},
   "outputs": [],
   "source": [
    "fig = make_subplots(rows=2,cols=2,specs=[[{'type':'domain'}, {'type':'domain'}], \n",
    "                                         [{'type':'domain'}, {'type':'domain'}],])\n",
    "names = ['Yes', 'No']\n",
    "\n",
    "#protected\n",
    "values = [sum(df['protected']), len(df) - sum(df['protected'])]\n",
    "fig.add_trace(go.Pie(labels = names, values = values,title=\"Is the user protected?\",textposition='inside')\n",
    "              ,row=1,col=1)\n",
    "\n",
    "#geo_enabled\n",
    "values = [sum(df['geo_enabled']), len(df) - sum(df['geo_enabled'])]\n",
    "fig.add_trace(go.Pie(labels = names, values = values,title=\"Is geolocation enabled?\",textposition='inside')\n",
    "              ,row=1,col=2)\n",
    "\n",
    "#verified\n",
    "values = [sum(df['verified']), len(df) - sum(df['verified'])]\n",
    "fig.add_trace(go.Pie(labels = names, values = values,title=\"Is user verified?\",textposition='inside')\n",
    "              ,row=2,col=1)\n",
    "\n",
    "#contributors_enabled\n",
    "values = [sum(df['contributors_enabled']), len(df) - sum(df['contributors_enabled'])]\n",
    "fig.add_trace(go.Pie(labels = names, values = values,title=\"Is contributors enabled?\",textposition='inside')\n",
    "              ,row=2,col=2)\n",
    "\n",
    "fig.update_layout(title=\"Boolean info visualization\")\n",
    "fig.show()\n",
    "fig = make_subplots(rows=2,cols=2,specs=[[{'type':'domain'}, {'type':'domain'}], \n",
    "                                         [{'type':'domain'}, {'type':'domain'}]])\n",
    "\n",
    "                                         \n",
    "#default_profile\n",
    "values = [sum(df['default_profile']), len(df) - sum(df['default_profile'])]\n",
    "fig.add_trace(go.Pie(labels = names, values = values,title=\"Is a default profile?\",textposition='inside')\n",
    "              ,row=1,col=1)\n",
    "\n",
    "#default_profile_image\n",
    "values = [sum(df['default_profile_image']), len(df) - sum(df['default_profile_image'])]\n",
    "fig.add_trace(go.Pie(labels = names, values = values,title=\"Is the user using the default image profile?\",textposition='inside')\n",
    "              ,row=1,col=2)\n",
    "\n",
    "\n",
    "#description\n",
    "values = [sum(df['description'].isna()), len(df) - sum(df['description'].isna())]\n",
    "fig.add_trace(go.Pie(labels = names, values = values,title=\"Has the user a desription?\",textposition='inside')\n",
    "              ,row=2,col=1)\n",
    "\n",
    "#url\n",
    "values = [sum(df['url'].isna()), len(df) - sum(df['url'].isna())]\n",
    "fig.add_trace(go.Pie(labels = names, values = values,title=\"Has the user an url?\",textposition='inside')\n",
    "              ,row=2,col=2)\n",
    "\n",
    "fig.show()\n",
    "fig = make_subplots(rows=2,cols=2,specs=[[{'type':'domain'}, {'type':'domain'}], \n",
    "                                         [{'type':'domain'}, {'type':'domain'}]])\n",
    "#Error code\n",
    "values = [sum(df['code'].isna()),df.loc[df['code']==63,'code'].count(),df.loc[df['code']==50,'code'].count()]\n",
    "fig.add_trace(go.Pie(labels = ['Nan','63','54'], values = values,title=\"Error codes\",\n",
    "              textposition='inside'),row=1,col=1)\n",
    "values = [df.loc[df['code']==63,'code'].count(),df.loc[df['code']==50,'code'].count()]\n",
    "fig.add_trace(go.Pie(labels = ['63','54'], values = values,title=\"Error codes without nan\",\n",
    "              textposition='inside'),row=1,col=2)\n",
    "\n",
    "fig.show()"
   ]
  },
  {
   "cell_type": "markdown",
   "metadata": {},
   "source": [
    "## List of the account with the most interanction"
   ]
  },
  {
   "cell_type": "markdown",
   "metadata": {},
   "source": [
    "### Most follower"
   ]
  },
  {
   "cell_type": "code",
   "execution_count": null,
   "metadata": {},
   "outputs": [],
   "source": [
    "n =20\n",
    "\n",
    "dfGroupUsername = df.groupby(by=['name']).sum()\n",
    "dfGroupUsername.sort_values(by=['followers_count'],ascending=False,inplace=True)\n",
    "\n",
    "fig = px.histogram(dfGroupUsername.head(n),y=dfGroupUsername.head(n).index,x='followers_count',orientation='h')\n",
    "fig.update_layout(title = \"The %d users with most follower\"%n)\n",
    "fig.update_yaxes(title = \"Username\")\n",
    "\n",
    "fig.show()"
   ]
  },
  {
   "cell_type": "markdown",
   "metadata": {},
   "source": [
    "### Most friends"
   ]
  },
  {
   "cell_type": "code",
   "execution_count": null,
   "metadata": {},
   "outputs": [],
   "source": [
    "n =20\n",
    "\n",
    "dfGroupUsername = df.groupby(by=['name']).sum()\n",
    "dfGroupUsername.sort_values(by=['friends_count'],ascending=False,inplace=True)\n",
    "\n",
    "fig = px.histogram(dfGroupUsername.head(n),y=dfGroupUsername.head(n).index,x='friends_count',orientation='h')\n",
    "fig.update_layout(title = \"The %d users with most friends\"%n)\n",
    "fig.update_yaxes(title = \"Username\")\n",
    "\n",
    "fig.show()"
   ]
  },
  {
   "cell_type": "markdown",
   "metadata": {},
   "source": [
    "### Most statues"
   ]
  },
  {
   "cell_type": "code",
   "execution_count": null,
   "metadata": {},
   "outputs": [],
   "source": [
    "n =20\n",
    "\n",
    "dfGroupUsername = df.groupby(by=['name']).sum()\n",
    "dfGroupUsername.sort_values(by=['statuses_count'],ascending=False,inplace=True)\n",
    "\n",
    "fig = px.histogram(dfGroupUsername.head(n),y=dfGroupUsername.head(n).index,x='statuses_count',orientation='h')\n",
    "fig.update_layout(title = \"The %d users with most statues\"%n)\n",
    "fig.update_yaxes(title = \"Username\")\n",
    "\n",
    "fig.show()"
   ]
  },
  {
   "cell_type": "markdown",
   "metadata": {},
   "source": [
    "## When the most user are created"
   ]
  },
  {
   "cell_type": "code",
   "execution_count": null,
   "metadata": {},
   "outputs": [],
   "source": [
    "dfCreation = df.resample('W', on='created_at').count().iloc[:,1].to_frame()\n",
    "\n",
    "fig = px.histogram(dfCreation,x=dfCreation.index,y='id_str')\n",
    "fig.show()"
   ]
  }
 ],
 "metadata": {
  "interpreter": {
   "hash": "1f708736793de3fc0c02bbe85b1c7aa3dac1d3a33c8c658a64d0d602cb53d4fc"
  },
  "kernelspec": {
   "display_name": "Python 3.8.10 64-bit ('TwitterStudy': conda)",
   "name": "python3"
  },
  "language_info": {
   "codemirror_mode": {
    "name": "ipython",
    "version": 3
   },
   "file_extension": ".py",
   "mimetype": "text/x-python",
   "name": "python",
   "nbconvert_exporter": "python",
   "pygments_lexer": "ipython3",
   "version": "3.8.10"
  }
 },
 "nbformat": 4,
 "nbformat_minor": 4
}
