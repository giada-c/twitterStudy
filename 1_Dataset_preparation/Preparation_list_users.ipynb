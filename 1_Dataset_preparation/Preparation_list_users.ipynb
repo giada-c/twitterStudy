{
 "cells": [
  {
   "cell_type": "markdown",
   "id": "822372f4",
   "metadata": {},
   "source": [
    "# Preparation list users\n",
    "This file prepare the list that contains all the users studied directly on twitter \"by hand\""
   ]
  },
  {
   "cell_type": "markdown",
   "id": "7f0ec33b",
   "metadata": {},
   "source": [
    "## Import"
   ]
  },
  {
   "cell_type": "code",
   "execution_count": null,
   "id": "54697710",
   "metadata": {},
   "outputs": [],
   "source": [
    "import pandas as pd"
   ]
  },
  {
   "cell_type": "markdown",
   "id": "a4cb5c61",
   "metadata": {},
   "source": [
    "# URL classification "
   ]
  },
  {
   "cell_type": "code",
   "execution_count": null,
   "id": "56f6ae98",
   "metadata": {},
   "outputs": [],
   "source": [
    "df_cred = pd.read_csv('data/Credibility.csv').groupby('Domain').first()\n",
    "df_cred.drop(['a.msn.com','rt.com','apa.org','news.sky.com','news.yahoo.co','news.yahoo.com']\n",
    "             ,inplace=True,errors='ignore')"
   ]
  },
  {
   "cell_type": "code",
   "execution_count": null,
   "id": "b9a9215c",
   "metadata": {},
   "outputs": [],
   "source": [
    "linkhigh = []\n",
    "linklow = []\n",
    "\n",
    "accountToControl = ['24Mattino', 'Adnkronos', 'Affaritaliani', 'Agenzia_Ansa', 'Agenzia_Dire', 'Agenzia_Italia',\n",
    "                    'Antonio_Tajani', 'Cartabellotta', 'Corriere', 'Ettore_Rosato', 'FDI_Parlamento', 'FratellidItalia',\n",
    "                    'GDS_it', 'GiovaQuez', 'GruppoFICamera', 'HuffPostItalia', 'ItaliaViva', 'La7tv', 'LaStampa',\n",
    "                    'LegaSalvini', 'Linkiesta', 'MediasetTgcom24', 'NFratoianni', 'Noiconsalvini', 'PiazzapulitaLA7', \n",
    "                    'Quirinale', 'Radio1Rai', 'RaiNews', 'RaiStudio24', 'RepubblicaTv','Open_gol',\n",
    "                    'RobertoBurioni', 'S_Giacomoni', 'SimoneCosimi', 'SkyTG24', 'Tg3web', 'TgLa7', 'TgrRai',\n",
    "                    'TgrRaiFVG', 'TgrRaiMolise', 'TgrRaiPuglia', 'TgrRaiSicilia', 'TgrRaiToscana', 'TgrRaiTrentino',\n",
    "                    'TgrRaiVeneto', 'Ticinonline', 'UnioneSarda', 'Zeta_Luiss', '_DAGOSPIA_', 'agerpres', 'agorarai',\n",
    "                    'borghi_claudio', 'chetempochefa', 'christianrocca', 'eziomauro', 'fanpage', 'fattoquotidiano',\n",
    "                    'forza_italia', 'giusmo1', 'ilfoglio_it', 'ilmeteoit', 'ilpost', 'iltirreno', 'istsupsan',\n",
    "                    'lucianocapone', 'mandelli_andrea', 'marcodimaio', 'matteorenzi', 'matteosalvinimi',\n",
    "                    'messveneto', 'msgelmini', 'nzingaretti', 'radioanchio', 'raffaellapaita', 'regionetoscana',\n",
    "                    'repubblica', 'ricpuglisi', 'riotta', 'robersperanza', 'rtl1025', 'sole24ore', 'sottoinchiesta',\n",
    "                    'stebellentani', 'tagadala7', 'tg2rai', 'vocedelpatriota', 'you_trend']\n",
    "\n",
    "for u in accountToControl:\n",
    "    for d in df_cred.index:\n",
    "        if (d.split('.')[0].lower() in u.lower()) & ('high' in df_cred.loc[d,'Class']):\n",
    "            linkhigh.append(u)\n",
    "        elif (d.split('.')[0].lower() in u.lower()) & ('low' in df_cred.loc[d,'Class']):\n",
    "            linklow.append(u)"
   ]
  },
  {
   "cell_type": "markdown",
   "id": "d0b6b746",
   "metadata": {},
   "source": [
    "#  Novax users"
   ]
  },
  {
   "cell_type": "code",
   "execution_count": null,
   "id": "bbcd6d71",
   "metadata": {},
   "outputs": [],
   "source": [
    "listSuspect = ['IacobellisT','Piero42395724', 'TommyBrain','xenonian1', 'Z3r0Rules','Pietro_Otto',\n",
    "               'MarySpes','manu_etoile','CarpaneseSilva1','il_brigante07','Sakurauchi_Hime','MinervaMcGrani1',\n",
    "              'marchesaangeli','lucabattanta',\n",
    "              'gael99','LPinicia','Mariang47614228','SoniaLaVera','valy_s','Samira1577','daniele19921','d_essere'\n",
    "              'anto_galli4','LuigiF97101292','EureosCriss','vaniacavi',\n",
    "              'markred17','RenzoCianchetti','12qbert','ManuQ24916888','bisagnino','thewaterflea',\n",
    "              'BarbaraRaval','noitre32','intuslegens','pbecchi','miia_2018','ladyonorato','cris_cersei','RadioSavana',\n",
    "              'lameduck1960','a_meluzzi','francescatotolo','Mr_Ozymandias','FmMosca','LaVeritaWeb','Bluefidel47',\n",
    "              'fdragoni','byoblu','MinutemanItaly','TarroGiulio','NicolaPorro','25O319','sabrina__sf','liliaragnar',\n",
    "              'FabioFranchi1','EliseiNicole','borghi_claudio']"
   ]
  },
  {
   "cell_type": "markdown",
   "id": "45dcaea1",
   "metadata": {},
   "source": [
    "# Provax users"
   ]
  },
  {
   "cell_type": "code",
   "execution_count": null,
   "id": "bc452eb5",
   "metadata": {},
   "outputs": [],
   "source": [
    "listHighCred =  ['tagadala7', 'La7tv', 'Corriere', 'tg2rai', 'TgrRaiPuglia', 'Linkiesta', 'ilfoglio_it', \n",
    "                 'fanpage', 'LaStampa', 'RaiNews', 'fattoquotidiano', 'TgrRaiVeneto', 'agorarai', 'TgrRaiSicilia', \n",
    "                 'UnioneSarda', 'SkyTG24', 'repubblica', 'TgrRai', 'Agenzia_Ansa', 'Tg3web', 'TgrRaiToscana', \n",
    "                 'Affaritaliani', 'TgrRaiTrentino', 'PiazzapulitaLA7', 'Adnkronos', 'agerpres', 'RepubblicaTv', \n",
    "                 'TgrRaiFVG', 'ilpost', 'Open_gol', 'Radio1Rai', 'MediasetTgcom24', 'TgLa7', 'RaiStudio24', \n",
    "                 'TgrRaiMolise', 'sole24ore', 'Ticinonline', 'ricpuglisi', 'SimoneCosimi', 'giusmo1', 'RobertoBurioni',\n",
    "                 'rtl1025', 'messveneto', 'HuffPostItalia', 'Agenzia_Italia', 'ItaliaViva', 'iltirreno', 'Agenzia_Dire',\n",
    "                 'stebellentani', 'eziomauro', 'QRepubblica', 'lucianocapone', 'robersperanza', 'vocedelpatriota', \n",
    "                 'GiovaQuez', 'Cartabellotta', 'istsupsan', 'christianrocca', 'Zeta_Luiss', 'radioanchio', '24Mattino', \n",
    "                 'sottoinchiesta', 'riotta']"
   ]
  },
  {
   "cell_type": "code",
   "execution_count": null,
   "id": "c42fe52a",
   "metadata": {},
   "outputs": [],
   "source": [
    "listProvax = list(set(listHighCred + linkhigh))"
   ]
  },
  {
   "cell_type": "markdown",
   "id": "8f433135",
   "metadata": {},
   "source": [
    "# Export on external lists"
   ]
  },
  {
   "cell_type": "code",
   "execution_count": null,
   "id": "d29fa00a",
   "metadata": {},
   "outputs": [],
   "source": [
    "import json\n",
    "data = {'Provax':listProvax,'Novax':listSuspect,'link_low':linklow}\n",
    "json_string = json.dumps(data)\n",
    "datastore = json.loads(json_string)\n",
    "with open('listControlledUsers.json', 'w') as f:\n",
    "        json.dump(datastore, f)"
   ]
  }
 ],
 "metadata": {
  "interpreter": {
   "hash": "1f708736793de3fc0c02bbe85b1c7aa3dac1d3a33c8c658a64d0d602cb53d4fc"
  },
  "kernelspec": {
   "display_name": "Python 3.8.10 64-bit ('TwitterStudy': conda)",
   "name": "python3"
  },
  "language_info": {
   "codemirror_mode": {
    "name": "ipython",
    "version": 3
   },
   "file_extension": ".py",
   "mimetype": "text/x-python",
   "name": "python",
   "nbconvert_exporter": "python",
   "pygments_lexer": "ipython3",
   "version": "3.8.10"
  }
 },
 "nbformat": 4,
 "nbformat_minor": 5
}
