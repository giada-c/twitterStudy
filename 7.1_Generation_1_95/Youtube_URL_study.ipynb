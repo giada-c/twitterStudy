{
 "cells": [
  {
   "cell_type": "markdown",
   "id": "607f5bd3",
   "metadata": {},
   "source": [
    "# Youtube URL study"
   ]
  },
  {
   "cell_type": "markdown",
   "id": "8f95f8ed",
   "metadata": {},
   "source": [
    "## Import"
   ]
  },
  {
   "cell_type": "code",
   "execution_count": 1,
   "id": "6fd03770",
   "metadata": {},
   "outputs": [],
   "source": [
    "import pandas as pd\n",
    "import numpy as np\n",
    "\n",
    "from matplotlib.pyplot import figure\n",
    "import matplotlib.pyplot as plt\n",
    "\n",
    "import sys\n",
    "sys.path.insert(0, '../4_URL_study')\n",
    "import url_util as ut\n",
    "sys.path.insert(0, '../')\n",
    "import general_utils as gen_ut"
   ]
  },
  {
   "cell_type": "markdown",
   "id": "eaf3b72f",
   "metadata": {},
   "source": [
    "## Dataset preparation"
   ]
  },
  {
   "cell_type": "code",
   "execution_count": 2,
   "id": "330b2511",
   "metadata": {},
   "outputs": [
    {
     "data": {
      "text/html": [
       "<div>\n",
       "<style scoped>\n",
       "    .dataframe tbody tr th:only-of-type {\n",
       "        vertical-align: middle;\n",
       "    }\n",
       "\n",
       "    .dataframe tbody tr th {\n",
       "        vertical-align: top;\n",
       "    }\n",
       "\n",
       "    .dataframe thead th {\n",
       "        text-align: right;\n",
       "    }\n",
       "</style>\n",
       "<table border=\"1\" class=\"dataframe\">\n",
       "  <thead>\n",
       "    <tr style=\"text-align: right;\">\n",
       "      <th></th>\n",
       "      <th>title</th>\n",
       "      <th>description</th>\n",
       "      <th>type</th>\n",
       "      <th>available</th>\n",
       "      <th>reason</th>\n",
       "      <th>occurrency</th>\n",
       "    </tr>\n",
       "    <tr>\n",
       "      <th>url</th>\n",
       "      <th></th>\n",
       "      <th></th>\n",
       "      <th></th>\n",
       "      <th></th>\n",
       "      <th></th>\n",
       "      <th></th>\n",
       "    </tr>\n",
       "  </thead>\n",
       "  <tbody>\n",
       "    <tr>\n",
       "      <th>https://www.youtube.com/watch?v=U-kC9XkT7Eo</th>\n",
       "      <td>I LOCKDOWNS: DISTRUGGERANNO PIU' VITE DI QUANT...</td>\n",
       "      <td>Intervista all'epidemiologa di punta della Har...</td>\n",
       "      <td>decompressed</td>\n",
       "      <td>True</td>\n",
       "      <td>Parsed</td>\n",
       "      <td>508</td>\n",
       "    </tr>\n",
       "    <tr>\n",
       "      <th>https://www.youtube.com/watch?v=xgfQfDh4puk</th>\n",
       "      <td>DAL TOP DI HARVARD, LE INCOGNITE DI CoV-2, IMM...</td>\n",
       "      <td>David R. Walt della Harvard University Medical...</td>\n",
       "      <td>decompressed</td>\n",
       "      <td>True</td>\n",
       "      <td>Parsed</td>\n",
       "      <td>346</td>\n",
       "    </tr>\n",
       "    <tr>\n",
       "      <th>https://www.youtube.com/watch?v=-BbnIlxaqJM</th>\n",
       "      <td>VACCINI OBBLIGATORI AGGRAVEREBBERO LA SITUAZIO...</td>\n",
       "      <td>ISCRIVITI AL NOSTRO CANALE YOUTUBE: https://bi...</td>\n",
       "      <td>decompressed</td>\n",
       "      <td>True</td>\n",
       "      <td>Parsed</td>\n",
       "      <td>265</td>\n",
       "    </tr>\n",
       "    <tr>\n",
       "      <th>https://youtu.be/kHGtn_vnrJ8</th>\n",
       "      <td>IL PARERE DEL PREMIO NOBEL LUC MONTAGNIER SULL...</td>\n",
       "      <td>- Vi farete vaccinare oggi contro il #Covid?\\n...</td>\n",
       "      <td>compressed</td>\n",
       "      <td>True</td>\n",
       "      <td>Parsed</td>\n",
       "      <td>192</td>\n",
       "    </tr>\n",
       "    <tr>\n",
       "      <th>https://youtu.be/GJrC0xAAXoU</th>\n",
       "      <td>VACCINO: i dubbi più grossi</td>\n",
       "      <td>Ho cercato di fare da tramite tra gli enti per...</td>\n",
       "      <td>compressed</td>\n",
       "      <td>True</td>\n",
       "      <td>Parsed</td>\n",
       "      <td>165</td>\n",
       "    </tr>\n",
       "  </tbody>\n",
       "</table>\n",
       "</div>"
      ],
      "text/plain": [
       "                                                                                         title  \\\n",
       "url                                                                                              \n",
       "https://www.youtube.com/watch?v=U-kC9XkT7Eo  I LOCKDOWNS: DISTRUGGERANNO PIU' VITE DI QUANT...   \n",
       "https://www.youtube.com/watch?v=xgfQfDh4puk  DAL TOP DI HARVARD, LE INCOGNITE DI CoV-2, IMM...   \n",
       "https://www.youtube.com/watch?v=-BbnIlxaqJM  VACCINI OBBLIGATORI AGGRAVEREBBERO LA SITUAZIO...   \n",
       "https://youtu.be/kHGtn_vnrJ8                 IL PARERE DEL PREMIO NOBEL LUC MONTAGNIER SULL...   \n",
       "https://youtu.be/GJrC0xAAXoU                                       VACCINO: i dubbi più grossi   \n",
       "\n",
       "                                                                                   description  \\\n",
       "url                                                                                              \n",
       "https://www.youtube.com/watch?v=U-kC9XkT7Eo  Intervista all'epidemiologa di punta della Har...   \n",
       "https://www.youtube.com/watch?v=xgfQfDh4puk  David R. Walt della Harvard University Medical...   \n",
       "https://www.youtube.com/watch?v=-BbnIlxaqJM  ISCRIVITI AL NOSTRO CANALE YOUTUBE: https://bi...   \n",
       "https://youtu.be/kHGtn_vnrJ8                 - Vi farete vaccinare oggi contro il #Covid?\\n...   \n",
       "https://youtu.be/GJrC0xAAXoU                 Ho cercato di fare da tramite tra gli enti per...   \n",
       "\n",
       "                                                     type  available  reason  \\\n",
       "url                                                                            \n",
       "https://www.youtube.com/watch?v=U-kC9XkT7Eo  decompressed       True  Parsed   \n",
       "https://www.youtube.com/watch?v=xgfQfDh4puk  decompressed       True  Parsed   \n",
       "https://www.youtube.com/watch?v=-BbnIlxaqJM  decompressed       True  Parsed   \n",
       "https://youtu.be/kHGtn_vnrJ8                   compressed       True  Parsed   \n",
       "https://youtu.be/GJrC0xAAXoU                   compressed       True  Parsed   \n",
       "\n",
       "                                             occurrency  \n",
       "url                                                      \n",
       "https://www.youtube.com/watch?v=U-kC9XkT7Eo         508  \n",
       "https://www.youtube.com/watch?v=xgfQfDh4puk         346  \n",
       "https://www.youtube.com/watch?v=-BbnIlxaqJM         265  \n",
       "https://youtu.be/kHGtn_vnrJ8                        192  \n",
       "https://youtu.be/GJrC0xAAXoU                        165  "
      ]
     },
     "execution_count": 2,
     "metadata": {},
     "output_type": "execute_result"
    }
   ],
   "source": [
    "df_yt_complete = pd.read_csv('../4_URL_study/Youtube_URL.csv',low_memory=False)\n",
    "df_yt_complete = df_yt_complete.groupby('url').first().sort_values(by='occurrency',ascending=False)\n",
    "df_yt_complete.head()"
   ]
  },
  {
   "cell_type": "raw",
   "id": "2bd5bd80",
   "metadata": {},
   "source": [
    "df = pd.read_csv('../Tweets.csv',low_memory=False,usecols=['user_screen_name','urls'])\n",
    "df.head()"
   ]
  },
  {
   "cell_type": "raw",
   "id": "c9b04394",
   "metadata": {},
   "source": [
    "data = pd.read_csv('../1_Dataset_preparation/listControlledUsers.csv')  \n",
    "listNovax = list(data[data['malicious']].iloc[:,0])\n",
    "listProvax = list(data[data['benevolent']].iloc[:,0])"
   ]
  },
  {
   "cell_type": "code",
   "execution_count": 3,
   "id": "268fe406",
   "metadata": {},
   "outputs": [
    {
     "ename": "FileNotFoundError",
     "evalue": "[Errno 2] No such file or directory: 'tweets_novax_100.csv.csv'",
     "output_type": "error",
     "traceback": [
      "\u001b[1;31m---------------------------------------------------------------------------\u001b[0m",
      "\u001b[1;31mFileNotFoundError\u001b[0m                         Traceback (most recent call last)",
      "\u001b[1;32m<ipython-input-3-f108e2943f6d>\u001b[0m in \u001b[0;36m<module>\u001b[1;34m\u001b[0m\n\u001b[1;32m----> 1\u001b[1;33m \u001b[0mdf_novax\u001b[0m \u001b[1;33m=\u001b[0m \u001b[0mpd\u001b[0m\u001b[1;33m.\u001b[0m\u001b[0mread_csv\u001b[0m\u001b[1;33m(\u001b[0m\u001b[1;34m'tweets_novax_100.csv.csv'\u001b[0m\u001b[1;33m,\u001b[0m\u001b[0mlow_memory\u001b[0m\u001b[1;33m=\u001b[0m\u001b[1;32mFalse\u001b[0m\u001b[1;33m,\u001b[0m\u001b[0musecols\u001b[0m\u001b[1;33m=\u001b[0m\u001b[1;33m[\u001b[0m\u001b[1;34m'user_screen_name'\u001b[0m\u001b[1;33m,\u001b[0m\u001b[1;34m'urls'\u001b[0m\u001b[1;33m]\u001b[0m\u001b[1;33m)\u001b[0m\u001b[1;33m\u001b[0m\u001b[1;33m\u001b[0m\u001b[0m\n\u001b[0m\u001b[0;32m      2\u001b[0m \u001b[0mdf_provax\u001b[0m \u001b[1;33m=\u001b[0m \u001b[0mpd\u001b[0m\u001b[1;33m.\u001b[0m\u001b[0mread_csv\u001b[0m\u001b[1;33m(\u001b[0m\u001b[1;34m'tweets_provax_100.csv.csv'\u001b[0m\u001b[1;33m,\u001b[0m\u001b[0mlow_memory\u001b[0m\u001b[1;33m=\u001b[0m\u001b[1;32mFalse\u001b[0m\u001b[1;33m,\u001b[0m\u001b[0musecols\u001b[0m\u001b[1;33m=\u001b[0m\u001b[1;33m[\u001b[0m\u001b[1;34m'user_screen_name'\u001b[0m\u001b[1;33m,\u001b[0m\u001b[1;34m'urls'\u001b[0m\u001b[1;33m]\u001b[0m\u001b[1;33m)\u001b[0m\u001b[1;33m\u001b[0m\u001b[1;33m\u001b[0m\u001b[0m\n",
      "\u001b[1;32m~\\anaconda3\\envs\\TwitterStudy\\lib\\site-packages\\pandas\\io\\parsers.py\u001b[0m in \u001b[0;36mread_csv\u001b[1;34m(filepath_or_buffer, sep, delimiter, header, names, index_col, usecols, squeeze, prefix, mangle_dupe_cols, dtype, engine, converters, true_values, false_values, skipinitialspace, skiprows, skipfooter, nrows, na_values, keep_default_na, na_filter, verbose, skip_blank_lines, parse_dates, infer_datetime_format, keep_date_col, date_parser, dayfirst, cache_dates, iterator, chunksize, compression, thousands, decimal, lineterminator, quotechar, quoting, doublequote, escapechar, comment, encoding, dialect, error_bad_lines, warn_bad_lines, delim_whitespace, low_memory, memory_map, float_precision, storage_options)\u001b[0m\n\u001b[0;32m    608\u001b[0m     \u001b[0mkwds\u001b[0m\u001b[1;33m.\u001b[0m\u001b[0mupdate\u001b[0m\u001b[1;33m(\u001b[0m\u001b[0mkwds_defaults\u001b[0m\u001b[1;33m)\u001b[0m\u001b[1;33m\u001b[0m\u001b[1;33m\u001b[0m\u001b[0m\n\u001b[0;32m    609\u001b[0m \u001b[1;33m\u001b[0m\u001b[0m\n\u001b[1;32m--> 610\u001b[1;33m     \u001b[1;32mreturn\u001b[0m \u001b[0m_read\u001b[0m\u001b[1;33m(\u001b[0m\u001b[0mfilepath_or_buffer\u001b[0m\u001b[1;33m,\u001b[0m \u001b[0mkwds\u001b[0m\u001b[1;33m)\u001b[0m\u001b[1;33m\u001b[0m\u001b[1;33m\u001b[0m\u001b[0m\n\u001b[0m\u001b[0;32m    611\u001b[0m \u001b[1;33m\u001b[0m\u001b[0m\n\u001b[0;32m    612\u001b[0m \u001b[1;33m\u001b[0m\u001b[0m\n",
      "\u001b[1;32m~\\anaconda3\\envs\\TwitterStudy\\lib\\site-packages\\pandas\\io\\parsers.py\u001b[0m in \u001b[0;36m_read\u001b[1;34m(filepath_or_buffer, kwds)\u001b[0m\n\u001b[0;32m    460\u001b[0m \u001b[1;33m\u001b[0m\u001b[0m\n\u001b[0;32m    461\u001b[0m     \u001b[1;31m# Create the parser.\u001b[0m\u001b[1;33m\u001b[0m\u001b[1;33m\u001b[0m\u001b[1;33m\u001b[0m\u001b[0m\n\u001b[1;32m--> 462\u001b[1;33m     \u001b[0mparser\u001b[0m \u001b[1;33m=\u001b[0m \u001b[0mTextFileReader\u001b[0m\u001b[1;33m(\u001b[0m\u001b[0mfilepath_or_buffer\u001b[0m\u001b[1;33m,\u001b[0m \u001b[1;33m**\u001b[0m\u001b[0mkwds\u001b[0m\u001b[1;33m)\u001b[0m\u001b[1;33m\u001b[0m\u001b[1;33m\u001b[0m\u001b[0m\n\u001b[0m\u001b[0;32m    463\u001b[0m \u001b[1;33m\u001b[0m\u001b[0m\n\u001b[0;32m    464\u001b[0m     \u001b[1;32mif\u001b[0m \u001b[0mchunksize\u001b[0m \u001b[1;32mor\u001b[0m \u001b[0miterator\u001b[0m\u001b[1;33m:\u001b[0m\u001b[1;33m\u001b[0m\u001b[1;33m\u001b[0m\u001b[0m\n",
      "\u001b[1;32m~\\anaconda3\\envs\\TwitterStudy\\lib\\site-packages\\pandas\\io\\parsers.py\u001b[0m in \u001b[0;36m__init__\u001b[1;34m(self, f, engine, **kwds)\u001b[0m\n\u001b[0;32m    817\u001b[0m             \u001b[0mself\u001b[0m\u001b[1;33m.\u001b[0m\u001b[0moptions\u001b[0m\u001b[1;33m[\u001b[0m\u001b[1;34m\"has_index_names\"\u001b[0m\u001b[1;33m]\u001b[0m \u001b[1;33m=\u001b[0m \u001b[0mkwds\u001b[0m\u001b[1;33m[\u001b[0m\u001b[1;34m\"has_index_names\"\u001b[0m\u001b[1;33m]\u001b[0m\u001b[1;33m\u001b[0m\u001b[1;33m\u001b[0m\u001b[0m\n\u001b[0;32m    818\u001b[0m \u001b[1;33m\u001b[0m\u001b[0m\n\u001b[1;32m--> 819\u001b[1;33m         \u001b[0mself\u001b[0m\u001b[1;33m.\u001b[0m\u001b[0m_engine\u001b[0m \u001b[1;33m=\u001b[0m \u001b[0mself\u001b[0m\u001b[1;33m.\u001b[0m\u001b[0m_make_engine\u001b[0m\u001b[1;33m(\u001b[0m\u001b[0mself\u001b[0m\u001b[1;33m.\u001b[0m\u001b[0mengine\u001b[0m\u001b[1;33m)\u001b[0m\u001b[1;33m\u001b[0m\u001b[1;33m\u001b[0m\u001b[0m\n\u001b[0m\u001b[0;32m    820\u001b[0m \u001b[1;33m\u001b[0m\u001b[0m\n\u001b[0;32m    821\u001b[0m     \u001b[1;32mdef\u001b[0m \u001b[0mclose\u001b[0m\u001b[1;33m(\u001b[0m\u001b[0mself\u001b[0m\u001b[1;33m)\u001b[0m\u001b[1;33m:\u001b[0m\u001b[1;33m\u001b[0m\u001b[1;33m\u001b[0m\u001b[0m\n",
      "\u001b[1;32m~\\anaconda3\\envs\\TwitterStudy\\lib\\site-packages\\pandas\\io\\parsers.py\u001b[0m in \u001b[0;36m_make_engine\u001b[1;34m(self, engine)\u001b[0m\n\u001b[0;32m   1048\u001b[0m             )\n\u001b[0;32m   1049\u001b[0m         \u001b[1;31m# error: Too many arguments for \"ParserBase\"\u001b[0m\u001b[1;33m\u001b[0m\u001b[1;33m\u001b[0m\u001b[1;33m\u001b[0m\u001b[0m\n\u001b[1;32m-> 1050\u001b[1;33m         \u001b[1;32mreturn\u001b[0m \u001b[0mmapping\u001b[0m\u001b[1;33m[\u001b[0m\u001b[0mengine\u001b[0m\u001b[1;33m]\u001b[0m\u001b[1;33m(\u001b[0m\u001b[0mself\u001b[0m\u001b[1;33m.\u001b[0m\u001b[0mf\u001b[0m\u001b[1;33m,\u001b[0m \u001b[1;33m**\u001b[0m\u001b[0mself\u001b[0m\u001b[1;33m.\u001b[0m\u001b[0moptions\u001b[0m\u001b[1;33m)\u001b[0m  \u001b[1;31m# type: ignore[call-arg]\u001b[0m\u001b[1;33m\u001b[0m\u001b[1;33m\u001b[0m\u001b[0m\n\u001b[0m\u001b[0;32m   1051\u001b[0m \u001b[1;33m\u001b[0m\u001b[0m\n\u001b[0;32m   1052\u001b[0m     \u001b[1;32mdef\u001b[0m \u001b[0m_failover_to_python\u001b[0m\u001b[1;33m(\u001b[0m\u001b[0mself\u001b[0m\u001b[1;33m)\u001b[0m\u001b[1;33m:\u001b[0m\u001b[1;33m\u001b[0m\u001b[1;33m\u001b[0m\u001b[0m\n",
      "\u001b[1;32m~\\anaconda3\\envs\\TwitterStudy\\lib\\site-packages\\pandas\\io\\parsers.py\u001b[0m in \u001b[0;36m__init__\u001b[1;34m(self, src, **kwds)\u001b[0m\n\u001b[0;32m   1865\u001b[0m \u001b[1;33m\u001b[0m\u001b[0m\n\u001b[0;32m   1866\u001b[0m         \u001b[1;31m# open handles\u001b[0m\u001b[1;33m\u001b[0m\u001b[1;33m\u001b[0m\u001b[1;33m\u001b[0m\u001b[0m\n\u001b[1;32m-> 1867\u001b[1;33m         \u001b[0mself\u001b[0m\u001b[1;33m.\u001b[0m\u001b[0m_open_handles\u001b[0m\u001b[1;33m(\u001b[0m\u001b[0msrc\u001b[0m\u001b[1;33m,\u001b[0m \u001b[0mkwds\u001b[0m\u001b[1;33m)\u001b[0m\u001b[1;33m\u001b[0m\u001b[1;33m\u001b[0m\u001b[0m\n\u001b[0m\u001b[0;32m   1868\u001b[0m         \u001b[1;32massert\u001b[0m \u001b[0mself\u001b[0m\u001b[1;33m.\u001b[0m\u001b[0mhandles\u001b[0m \u001b[1;32mis\u001b[0m \u001b[1;32mnot\u001b[0m \u001b[1;32mNone\u001b[0m\u001b[1;33m\u001b[0m\u001b[1;33m\u001b[0m\u001b[0m\n\u001b[0;32m   1869\u001b[0m         \u001b[1;32mfor\u001b[0m \u001b[0mkey\u001b[0m \u001b[1;32min\u001b[0m \u001b[1;33m(\u001b[0m\u001b[1;34m\"storage_options\"\u001b[0m\u001b[1;33m,\u001b[0m \u001b[1;34m\"encoding\"\u001b[0m\u001b[1;33m,\u001b[0m \u001b[1;34m\"memory_map\"\u001b[0m\u001b[1;33m,\u001b[0m \u001b[1;34m\"compression\"\u001b[0m\u001b[1;33m)\u001b[0m\u001b[1;33m:\u001b[0m\u001b[1;33m\u001b[0m\u001b[1;33m\u001b[0m\u001b[0m\n",
      "\u001b[1;32m~\\anaconda3\\envs\\TwitterStudy\\lib\\site-packages\\pandas\\io\\parsers.py\u001b[0m in \u001b[0;36m_open_handles\u001b[1;34m(self, src, kwds)\u001b[0m\n\u001b[0;32m   1360\u001b[0m         \u001b[0mLet\u001b[0m \u001b[0mthe\u001b[0m \u001b[0mreaders\u001b[0m \u001b[0mopen\u001b[0m \u001b[0mIOHanldes\u001b[0m \u001b[0mafter\u001b[0m \u001b[0mthey\u001b[0m \u001b[0mare\u001b[0m \u001b[0mdone\u001b[0m \u001b[1;32mwith\u001b[0m \u001b[0mtheir\u001b[0m \u001b[0mpotential\u001b[0m \u001b[0mraises\u001b[0m\u001b[1;33m.\u001b[0m\u001b[1;33m\u001b[0m\u001b[1;33m\u001b[0m\u001b[0m\n\u001b[0;32m   1361\u001b[0m         \"\"\"\n\u001b[1;32m-> 1362\u001b[1;33m         self.handles = get_handle(\n\u001b[0m\u001b[0;32m   1363\u001b[0m             \u001b[0msrc\u001b[0m\u001b[1;33m,\u001b[0m\u001b[1;33m\u001b[0m\u001b[1;33m\u001b[0m\u001b[0m\n\u001b[0;32m   1364\u001b[0m             \u001b[1;34m\"r\"\u001b[0m\u001b[1;33m,\u001b[0m\u001b[1;33m\u001b[0m\u001b[1;33m\u001b[0m\u001b[0m\n",
      "\u001b[1;32m~\\anaconda3\\envs\\TwitterStudy\\lib\\site-packages\\pandas\\io\\common.py\u001b[0m in \u001b[0;36mget_handle\u001b[1;34m(path_or_buf, mode, encoding, compression, memory_map, is_text, errors, storage_options)\u001b[0m\n\u001b[0;32m    645\u001b[0m                 \u001b[0merrors\u001b[0m \u001b[1;33m=\u001b[0m \u001b[1;34m\"replace\"\u001b[0m\u001b[1;33m\u001b[0m\u001b[1;33m\u001b[0m\u001b[0m\n\u001b[0;32m    646\u001b[0m             \u001b[1;31m# Encoding\u001b[0m\u001b[1;33m\u001b[0m\u001b[1;33m\u001b[0m\u001b[1;33m\u001b[0m\u001b[0m\n\u001b[1;32m--> 647\u001b[1;33m             handle = open(\n\u001b[0m\u001b[0;32m    648\u001b[0m                 \u001b[0mhandle\u001b[0m\u001b[1;33m,\u001b[0m\u001b[1;33m\u001b[0m\u001b[1;33m\u001b[0m\u001b[0m\n\u001b[0;32m    649\u001b[0m                 \u001b[0mioargs\u001b[0m\u001b[1;33m.\u001b[0m\u001b[0mmode\u001b[0m\u001b[1;33m,\u001b[0m\u001b[1;33m\u001b[0m\u001b[1;33m\u001b[0m\u001b[0m\n",
      "\u001b[1;31mFileNotFoundError\u001b[0m: [Errno 2] No such file or directory: 'tweets_novax_100.csv.csv'"
     ]
    }
   ],
   "source": [
    "df_novax = pd.read_csv('tweets_novax_100.csv.csv',low_memory=False,usecols=['user_screen_name','urls'])\n",
    "df_provax = pd.read_csv('tweets_provax_100.csv.csv',low_memory=False,usecols=['user_screen_name','urls'])"
   ]
  },
  {
   "cell_type": "markdown",
   "id": "ff1d2fee",
   "metadata": {},
   "source": [
    "## General info about the video shared"
   ]
  },
  {
   "cell_type": "code",
   "execution_count": null,
   "id": "2df8e2c5",
   "metadata": {},
   "outputs": [],
   "source": [
    "df_yt_summary = df_yt_complete.groupby(['reason']).count()\n",
    "df_yt_summary"
   ]
  },
  {
   "cell_type": "code",
   "execution_count": null,
   "id": "d320ca3a",
   "metadata": {},
   "outputs": [],
   "source": [
    "plt.figure(figsize=(20,10))\n",
    "s = df_yt_summary['occurrency'].sum()\n",
    "plt.pie(df_yt_summary['occurrency'], labels=df_yt_summary.index, shadow=True, startangle=100,\n",
    "       autopct=lambda p:f'{p:.2f}% ({p*(s)/100 :,.0f})'.replace(',', '\\''),\n",
    "       explode = [0.25,0.0,0.25,0.0,0.0])\n",
    "plt.show()"
   ]
  },
  {
   "cell_type": "code",
   "execution_count": null,
   "id": "08412a08",
   "metadata": {},
   "outputs": [],
   "source": [
    "df_yt = df_yt_complete[np.logical_or(df_yt_complete['reason']=='Parsed' , df_yt_complete['reason']=='Unavailable')]\n",
    "df_yt"
   ]
  },
  {
   "cell_type": "markdown",
   "id": "cb2ecd23",
   "metadata": {},
   "source": [
    "## Tracking user with type youtbe video shared\n",
    "Done only for unavailbe and parsed video"
   ]
  },
  {
   "cell_type": "markdown",
   "id": "83a22856",
   "metadata": {},
   "source": [
    "### Novax users"
   ]
  },
  {
   "cell_type": "code",
   "execution_count": null,
   "id": "6e4b4a78",
   "metadata": {},
   "outputs": [],
   "source": [
    "df_url_novax = df_novax[df_novax['urls'] != '[]'].copy()\n",
    "\n",
    "df_url_novax = ut.get_dfYt_line(df_url_novax,df_yt.index)\n",
    "df_url_novax = df_url_novax[df_url_novax['yt']]\n",
    "\n",
    "df_url_novax"
   ]
  },
  {
   "cell_type": "code",
   "execution_count": null,
   "id": "636e0d9a",
   "metadata": {},
   "outputs": [],
   "source": [
    "df_user_novax_yt = pd.DataFrame(columns=['name','url','type'])\n",
    "\n",
    "for i in df_url_novax.index:\n",
    "    user = df_novax.at[i, 'user_screen_name']\n",
    "    s = df_novax.at[i, 'urls']\n",
    "    urls = gen_ut.get_string_json(s, 'expanded_url')\n",
    "    for url in urls:\n",
    "        if url in df_yt.index:\n",
    "            df_user_novax_yt.loc[df_user_novax_yt.shape[0]] = [user,url,df_yt.loc[url,'reason']]\n",
    "            \n",
    "\n",
    "df_user_novax_yt        "
   ]
  },
  {
   "cell_type": "code",
   "execution_count": null,
   "id": "2fe901b7",
   "metadata": {},
   "outputs": [],
   "source": [
    "df_user_novax_yt['total'] = 1\n",
    "df_user_novax_yt['isParsed'] = 0\n",
    "df_user_novax_yt.loc[df_user_novax_yt['type']=='Parsed','isParsed'] = 1\n",
    "\n",
    "\n",
    "df_user_novax_group = df_user_novax_yt.groupby(['name']).sum().sort_values(['total'],ascending=False)"
   ]
  },
  {
   "cell_type": "code",
   "execution_count": null,
   "id": "5ab6926c",
   "metadata": {},
   "outputs": [],
   "source": [
    "plt.figure(figsize=(15,10))\n",
    "plt.barh(df_user_novax_group.head(20).index,df_user_novax_group.head(20).total,label='Total')\n",
    "plt.barh(df_user_novax_group.head(20).index,df_user_novax_group.head(20).total-df_user_novax_group.head(20).isParsed\n",
    "        ,label='Unavailbe')\n",
    "plt.legend()\n",
    "plt.title('Number of youtube video shared (malicious)')"
   ]
  },
  {
   "cell_type": "markdown",
   "id": "4cba84c5",
   "metadata": {},
   "source": [
    "### Provax users"
   ]
  },
  {
   "cell_type": "code",
   "execution_count": null,
   "id": "965a1cef",
   "metadata": {},
   "outputs": [],
   "source": [
    "df_url_provax = df_provax[df_provax['urls'] != '[]'].copy()\n",
    "\n",
    "df_url_provax = ut.get_dfYt_line(df_url_provax,df_yt.index)\n",
    "df_url_provax = df_url_provax[df_url_provax['yt']]\n",
    "\n",
    "df_url_provax"
   ]
  },
  {
   "cell_type": "code",
   "execution_count": null,
   "id": "4020a209",
   "metadata": {},
   "outputs": [],
   "source": [
    "df_user_provax_yt = pd.DataFrame(columns=['name','url','type'])\n",
    "\n",
    "for i in df_url_provax.index:\n",
    "    user = df_provax.at[i, 'user_screen_name']\n",
    "    s = df_provax.at[i, 'urls']\n",
    "    urls = gen_ut.get_string_json(s, 'expanded_url')\n",
    "    for url in urls:\n",
    "        if url in df_yt.index:\n",
    "            df_user_provax_yt.loc[df_user_provax_yt.shape[0]] = [user,url,df_yt.loc[url,'reason']]        "
   ]
  },
  {
   "cell_type": "code",
   "execution_count": null,
   "id": "47ae32b5",
   "metadata": {},
   "outputs": [],
   "source": [
    "df_user_provax_yt['total'] = 1\n",
    "df_user_provax_yt['isParsed'] = 0\n",
    "df_user_provax_yt.loc[df_user_provax_yt['type']=='Parsed','isParsed'] = 1\n",
    "\n",
    "\n",
    "df_user_provax_group = df_user_provax_yt.groupby(['name']).sum().sort_values(['total'],ascending=False)\n",
    "df_user_provax_group"
   ]
  },
  {
   "cell_type": "code",
   "execution_count": null,
   "id": "5e890e02",
   "metadata": {},
   "outputs": [],
   "source": [
    "plt.figure(figsize=(15,10))\n",
    "plt.barh(df_user_provax_group.head(20).index,df_user_provax_group.head(20).total,label='Total')\n",
    "plt.barh(df_user_provax_group.head(20).index,df_user_provax_group.head(20).total-df_user_provax_group.head(20).isParsed\n",
    "        ,label='Unavailbe')\n",
    "plt.legend()\n",
    "plt.title('Number of youtube video shared (benevolent)')"
   ]
  }
 ],
 "metadata": {
  "kernelspec": {
   "display_name": "Python 3",
   "language": "python",
   "name": "python3"
  },
  "language_info": {
   "codemirror_mode": {
    "name": "ipython",
    "version": 3
   },
   "file_extension": ".py",
   "mimetype": "text/x-python",
   "name": "python",
   "nbconvert_exporter": "python",
   "pygments_lexer": "ipython3",
   "version": "3.8.10"
  }
 },
 "nbformat": 4,
 "nbformat_minor": 5
}
