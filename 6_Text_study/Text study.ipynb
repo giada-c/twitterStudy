{
 "cells": [
  {
   "cell_type": "markdown",
   "id": "607f5bd3",
   "metadata": {},
   "source": [
    "# Hashtags study"
   ]
  },
  {
   "cell_type": "markdown",
   "id": "8f95f8ed",
   "metadata": {},
   "source": [
    "## Import"
   ]
  },
  {
   "cell_type": "code",
   "execution_count": null,
   "id": "6fd03770",
   "metadata": {},
   "outputs": [],
   "source": [
    "import pandas as pd\n",
    "import spacy\n",
    "import re\n",
    "\n",
    "import plotly.express as px\n",
    "import plotly.graph_objects as go\n",
    "\n",
    "import importlib\n",
    "import text_util as ut"
   ]
  },
  {
   "cell_type": "markdown",
   "id": "eaf3b72f",
   "metadata": {},
   "source": [
    "## Dataset preparation"
   ]
  },
  {
   "cell_type": "code",
   "execution_count": null,
   "id": "330b2511",
   "metadata": {},
   "outputs": [],
   "source": [
    "df = pd.read_csv('../tweets.csv',low_memory=False,\n",
    "                 usecols=['text','created_at'])"
   ]
  },
  {
   "cell_type": "code",
   "execution_count": null,
   "id": "41e8fd7f",
   "metadata": {},
   "outputs": [],
   "source": [
    "df['created_at'] = pd.to_datetime(df['created_at'], format=\"%a %b %d %X %z %Y\")"
   ]
  },
  {
   "cell_type": "markdown",
   "id": "d9da4fd6",
   "metadata": {},
   "source": [
    "## Start analysis"
   ]
  },
  {
   "cell_type": "code",
   "execution_count": null,
   "id": "76d24840",
   "metadata": {},
   "outputs": [],
   "source": [
    "dfWords = ut.process_df_count(df)"
   ]
  },
  {
   "cell_type": "code",
   "execution_count": null,
   "id": "699213dd",
   "metadata": {},
   "outputs": [],
   "source": [
    "#Dataframe without words shorter than three letters\n",
    "mask = [len(x) > 3 for x in dfWords['word']]\n",
    "dfWords = dfWords[mask]\n",
    "dfWords"
   ]
  },
  {
   "cell_type": "code",
   "execution_count": null,
   "id": "2cf6f596",
   "metadata": {},
   "outputs": [],
   "source": [
    "n = 20\n",
    "fig = px.histogram(dfWords.head(n),y='word',x='count',\n",
    "            title=\"The most %d words used in the tweets\"% n,orientation = 'h')\n",
    "fig.show()"
   ]
  },
  {
   "cell_type": "code",
   "execution_count": null,
   "id": "8bdd773f",
   "metadata": {},
   "outputs": [],
   "source": [
    "ut.visual_histogram(dfWords,95000,80000,70000,60000,50000)"
   ]
  },
  {
   "cell_type": "code",
   "execution_count": null,
   "id": "fc03145b",
   "metadata": {},
   "outputs": [],
   "source": [
    "dfUseWords = ut.process_words_use(df,\n",
    "                                  ['vaccino','vaccini','covid','vaccinazione','virus','vaccinare','vaccinazione','dosi'])\n",
    "dfUseWords"
   ]
  },
  {
   "cell_type": "code",
   "execution_count": null,
   "id": "7b4f21c4",
   "metadata": {},
   "outputs": [],
   "source": [
    "ut.visual_by_date_together(dfUseWords)"
   ]
  },
  {
   "cell_type": "code",
   "execution_count": null,
   "id": "1efbfd5a",
   "metadata": {},
   "outputs": [],
   "source": [
    "ut.visual_by_date_split(dfUseWords)"
   ]
  }
 ],
 "metadata": {
  "interpreter": {
   "hash": "1f708736793de3fc0c02bbe85b1c7aa3dac1d3a33c8c658a64d0d602cb53d4fc"
  },
  "kernelspec": {
   "display_name": "Python 3",
   "language": "python",
   "name": "python3"
  },
  "language_info": {
   "codemirror_mode": {
    "name": "ipython",
    "version": 3
   },
   "file_extension": ".py",
   "mimetype": "text/x-python",
   "name": "python",
   "nbconvert_exporter": "python",
   "pygments_lexer": "ipython3",
   "version": "3.8.10"
  }
 },
 "nbformat": 4,
 "nbformat_minor": 5
}
