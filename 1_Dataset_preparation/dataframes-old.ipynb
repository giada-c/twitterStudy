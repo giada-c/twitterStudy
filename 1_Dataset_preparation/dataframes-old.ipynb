{
 "cells": [
  {
   "cell_type": "markdown",
   "id": "510d652f",
   "metadata": {},
   "source": [
    "## Import"
   ]
  },
  {
   "cell_type": "code",
   "execution_count": null,
   "id": "bccdfbda",
   "metadata": {},
   "outputs": [],
   "source": [
    "import pandas as pd\n",
    "import glob\n",
    "import os\n",
    "\n",
    "from itertools import takewhile, dropwhile\n",
    "from collections import Counter\n",
    "\n",
    "import plotly.express as px\n",
    "import plotly.graph_objects as go\n",
    "from plotly.subplots import make_subplots\n",
    "\n",
    "import importlib\n",
    "import dataframes_util as ut"
   ]
  },
  {
   "cell_type": "markdown",
   "id": "8ebf11ca",
   "metadata": {},
   "source": [
    "## General information definition"
   ]
  },
  {
   "cell_type": "code",
   "execution_count": null,
   "id": "95290356",
   "metadata": {},
   "outputs": [],
   "source": [
    "importlib.reload(ut)\n",
    "datapath_get = \"../../data\"\n",
    "datapath_set = \"..\""
   ]
  },
  {
   "cell_type": "markdown",
   "id": "51ae0d27",
   "metadata": {},
   "source": [
    "# Post dataframe"
   ]
  },
  {
   "cell_type": "markdown",
   "id": "cba38d26",
   "metadata": {},
   "source": [
    "## Concatenate all dataframes"
   ]
  },
  {
   "cell_type": "code",
   "execution_count": null,
   "id": "59ee3434",
   "metadata": {},
   "outputs": [],
   "source": [
    "dfPosts = ut.read_all_csv(datapath_get+\"/**/tweets.csv\")"
   ]
  },
  {
   "cell_type": "code",
   "execution_count": null,
   "id": "0c09bcc3",
   "metadata": {},
   "outputs": [],
   "source": [
    "dfPosts.info()"
   ]
  },
  {
   "cell_type": "markdown",
   "id": "aa9f8c79",
   "metadata": {},
   "source": [
    "## Adding features to post dataframe"
   ]
  },
  {
   "cell_type": "markdown",
   "id": "26b705a9",
   "metadata": {},
   "source": [
    "### Adding info about user error"
   ]
  },
  {
   "cell_type": "code",
   "execution_count": null,
   "id": "3f8610d1",
   "metadata": {},
   "outputs": [],
   "source": [
    "dfUsersErrors = ut.read_all_csv(datapath_get+\"/**/not_found_users/users_not_found_inspected.csv\")\n",
    "dfPosts['user_code_error'] = float('nan')\n",
    "\n",
    "for i,r in dfUsersErrors.iterrows():\n",
    "    mask = dfPosts['user_id'] == r['id']\n",
    "    dfPosts.loc[mask,'user_code_error'] = r['code']"
   ]
  },
  {
   "cell_type": "code",
   "execution_count": null,
   "id": "ff84597f",
   "metadata": {},
   "outputs": [],
   "source": [
    "dfPosts"
   ]
  },
  {
   "cell_type": "markdown",
   "id": "47a3b1b3",
   "metadata": {},
   "source": [
    "### Adding info about self-retweet"
   ]
  },
  {
   "cell_type": "code",
   "execution_count": null,
   "id": "ba278b03",
   "metadata": {},
   "outputs": [],
   "source": [
    "dfPosts['is_self_rt'] = dfPosts['user_id'] == dfPosts['rt_user_id']"
   ]
  },
  {
   "cell_type": "markdown",
   "id": "121ba8e0",
   "metadata": {},
   "source": [
    "### Adding info about url credibility "
   ]
  },
  {
   "cell_type": "code",
   "execution_count": null,
   "id": "93bc4618",
   "metadata": {},
   "outputs": [],
   "source": [
    "dfUsersCredibility = pd.read_csv(datapath_get+\"../result_cred_score_thresh_10_user.csv\",\n",
    "                                 usecols=['user_id','conspiracy_score'])\n",
    "dfPosts['user_credibility'] = float('nan')\n",
    "\n",
    "for i,r in dfUsersCredibility.iterrows():\n",
    "    mask = dfPosts['user_id'] == r['user_id']\n",
    "    dfPosts.loc[mask,'user_credibility'] = 1 - r['conspiracy_score']"
   ]
  },
  {
   "cell_type": "code",
   "execution_count": null,
   "id": "25b33162",
   "metadata": {},
   "outputs": [],
   "source": [
    "dfPosts"
   ]
  },
  {
   "cell_type": "markdown",
   "id": "26bdefcf",
   "metadata": {},
   "source": [
    "# Users dataframe"
   ]
  },
  {
   "cell_type": "code",
   "execution_count": null,
   "id": "aede00f9",
   "metadata": {},
   "outputs": [],
   "source": [
    "dfUsers = ut.read_all_csv(datapath_get+\"/**/not_found_users/users_not_found.csv\")\n",
    "dfUsers.drop_duplicates(subset=['id'],inplace=True)"
   ]
  },
  {
   "cell_type": "code",
   "execution_count": null,
   "id": "f7a8e6d2",
   "metadata": {},
   "outputs": [],
   "source": [
    "dfUsers.info()"
   ]
  },
  {
   "cell_type": "markdown",
   "id": "4a8e068a",
   "metadata": {},
   "source": [
    "## Control user"
   ]
  },
  {
   "cell_type": "markdown",
   "id": "9cf37c0f",
   "metadata": {},
   "source": [
    "### Control if all the users have a code error"
   ]
  },
  {
   "cell_type": "code",
   "execution_count": null,
   "id": "5f7b2613",
   "metadata": {},
   "outputs": [],
   "source": [
    "data_folders = glob.glob(datapath + \"/**\")\n",
    "for folder in data_folders:\n",
    "    not_matched = ut.inspect_users(folder)\n",
    "    if len(not_matched) > 0:\n",
    "        print(not_matched)\n",
    "    else:\n",
    "        print(f\"{folder} is ok\")"
   ]
  },
  {
   "cell_type": "markdown",
   "id": "8aa28f53",
   "metadata": {},
   "source": [
    "### Control if the users in post.csv and user.csv are the same"
   ]
  },
  {
   "cell_type": "raw",
   "id": "05411e26",
   "metadata": {},
   "source": [
    "df = pd.read_csv('tweets.csv',low_memory=False,\n",
    "                 usecols=['user_screen_name','in_reply_to_screen_name','rt_user_screen_name'])\n",
    "\n",
    "listusers = []\n",
    "listusers.extend(df['user_screen_name'].unique().tolist())\n",
    "listusers.extend(df['in_reply_to_screen_name'].unique().tolist())\n",
    "listusers.extend(df['rt_user_screen_name'].unique().tolist())\n",
    "\n",
    "listusers = [x for x in set(listusers) if str(x) != 'nan']\n",
    "\n",
    "print('Differenece between users in post and users in user: %d'%(len(listusers) - len(dfUsers)))"
   ]
  },
  {
   "cell_type": "markdown",
   "id": "172682ab",
   "metadata": {},
   "source": [
    "# Write to file .csv the complete dataframes"
   ]
  },
  {
   "cell_type": "code",
   "execution_count": null,
   "id": "63e6ceba",
   "metadata": {},
   "outputs": [],
   "source": [
    "dfPosts.to_csv('tweets.csv', index=False)"
   ]
  },
  {
   "cell_type": "code",
   "execution_count": null,
   "id": "3c4fff02",
   "metadata": {},
   "outputs": [],
   "source": [
    "dfUsers.to_csv('users.csv', index=False)"
   ]
  },
  {
   "cell_type": "markdown",
   "id": "a716d065",
   "metadata": {},
   "source": [
    "# Concatenate to .csv only specific"
   ]
  },
  {
   "cell_type": "markdown",
   "id": "cae025bd",
   "metadata": {},
   "source": [
    "**Use example**"
   ]
  },
  {
   "cell_type": "code",
   "execution_count": null,
   "id": "55b81214",
   "metadata": {},
   "outputs": [],
   "source": [
    "#concatBaseFileToFiles('tweets.csv',['data/2020-10/tweets.csv'])                           # One file\n",
    "#concatBaseFileToFiles('tweets.csv',['data/2020-10/tweets.csv','data/2020-11/tweets.csv']) # Multiple file"
   ]
  },
  {
   "cell_type": "markdown",
   "id": "d4196de7",
   "metadata": {},
   "source": [
    "# Create differents groups"
   ]
  },
  {
   "cell_type": "code",
   "execution_count": null,
   "id": "f992d31e",
   "metadata": {},
   "outputs": [],
   "source": [
    "dfPosts = pd.read_csv(datapath_set+'tweets.csv',low_memory=False)"
   ]
  },
  {
   "cell_type": "markdown",
   "id": "867fe57c",
   "metadata": {},
   "source": [
    "## Info from retweet network"
   ]
  },
  {
   "cell_type": "code",
   "execution_count": null,
   "id": "f83a650a",
   "metadata": {},
   "outputs": [],
   "source": [
    "dfInfoRtNetwork = pd.read_csv('Group_study/retweet_network_info.csv',usecols=['high_cred','no_vax'])"
   ]
  },
  {
   "cell_type": "markdown",
   "id": "8bdae8d0",
   "metadata": {},
   "source": [
    "### High credibility"
   ]
  },
  {
   "cell_type": "code",
   "execution_count": null,
   "id": "24c24bef",
   "metadata": {},
   "outputs": [],
   "source": [
    "listHighRtNt = list(dfInfoRtNetwork['high_cred'])\n",
    "dfHighRtNt = dfPosts[dfPosts.isin(listHighRtNt)['user_screen_name']]"
   ]
  },
  {
   "cell_type": "markdown",
   "id": "c492454e",
   "metadata": {},
   "source": [
    "### Novax"
   ]
  },
  {
   "cell_type": "code",
   "execution_count": null,
   "id": "9647a9ad",
   "metadata": {},
   "outputs": [],
   "source": [
    "listNovaxRtNt = list(dfInfoRtNetwork['no_vax'])\n",
    "dfNovaxRtNt = dfPosts[dfPosts.isin(listNovaxRtNt)['user_screen_name']]"
   ]
  },
  {
   "cell_type": "markdown",
   "id": "ab87e039",
   "metadata": {},
   "source": [
    "## Filtered by retweet"
   ]
  },
  {
   "cell_type": "code",
   "execution_count": null,
   "id": "fffa0aa5",
   "metadata": {},
   "outputs": [],
   "source": [
    "listSuspect = ['IacobellisT','Piero42395724', 'TommyBrain','xenonian1', 'Z3r0Rules','Pietro_Otto',\n",
    "               'MarySpes','manu_etoile','CarpaneseSilva1','il_brigante07','Sakurauchi_Hime','MinervaMcGrani1',\n",
    "              'marchesaangeli','lucabattanta',\n",
    "              'gael99','LPinicia','Mariang47614228','SoniaLaVera','valy_s','Samira1577','daniele19921','d_essere'\n",
    "              'anto_galli4','LuigiF97101292','EureosCriss','vaniacavi',\n",
    "              'markred17','RenzoCianchetti','12qbert','ManuQ24916888','bisagnino','thewaterflea',\n",
    "              'BarbaraRaval','noitre32','intuslegens','pbecchi','miia_2018','ladyonorato','cris_cersei','RadioSavana',\n",
    "              'lameduck1960','a_meluzzi','francescatotolo','Mr_Ozymandias','FmMosca','LaVeritaWeb','Bluefidel47',\n",
    "              'fdragoni','byoblu','MinutemanItaly','TarroGiulio','NicolaPorro','25O319','sabrina__sf','liliaragnar',\n",
    "              'FabioFranchi1','EliseiNicole']"
   ]
  },
  {
   "cell_type": "code",
   "execution_count": null,
   "id": "94aab06b",
   "metadata": {},
   "outputs": [],
   "source": [
    "listHighCred =  ['tagadala7', 'La7tv', 'Corriere', 'tg2rai', 'TgrRaiPuglia', 'Linkiesta', 'ilfoglio_it', \n",
    "                 'fanpage', 'LaStampa', 'RaiNews', 'fattoquotidiano', 'TgrRaiVeneto', 'agorarai', 'TgrRaiSicilia', \n",
    "                 'UnioneSarda', 'SkyTG24', 'repubblica', 'TgrRai', 'Agenzia_Ansa', 'Tg3web', 'TgrRaiToscana', \n",
    "                 'Affaritaliani', 'TgrRaiTrentino', 'PiazzapulitaLA7', 'Adnkronos', 'agerpres', 'RepubblicaTv', \n",
    "                 'TgrRaiFVG', 'ilpost', 'Open_gol', 'Radio1Rai', 'MediasetTgcom24', 'TgLa7', 'RaiStudio24', \n",
    "                 'TgrRaiMolise', 'sole24ore', 'Ticinonline', 'ricpuglisi', 'SimoneCosimi', 'giusmo1', 'RobertoBurioni',\n",
    "                 'rtl1025', 'messveneto', 'HuffPostItalia', 'Agenzia_Italia', 'ItaliaViva', 'iltirreno', 'Agenzia_Dire',\n",
    "                 'stebellentani', 'eziomauro', 'QRepubblica', 'lucianocapone', 'robersperanza', 'vocedelpatriota', \n",
    "                 'GiovaQuez', 'Cartabellotta', 'istsupsan', 'christianrocca', 'Zeta_Luiss', 'radioanchio', '24Mattino', \n",
    "                 'sottoinchiesta', 'riotta']"
   ]
  },
  {
   "cell_type": "code",
   "execution_count": null,
   "id": "e3ac2d88",
   "metadata": {},
   "outputs": [],
   "source": [
    "dfInfoRtNetwork = pd.read_csv('Group_study/retweet_network_info.csv',usecols=['fake_high','fake_novax'])\n",
    "listFakeNovax = list(dfInfoRtNetwork['fake_novax'])\n",
    "listFakeHigh = list(dfInfoRtNetwork['fake_high'])"
   ]
  },
  {
   "cell_type": "markdown",
   "id": "724d2b8b",
   "metadata": {},
   "source": [
    "### High credibility"
   ]
  },
  {
   "cell_type": "markdown",
   "id": "976dce47",
   "metadata": {},
   "source": [
    "#### Retweeted by an high credibility user"
   ]
  },
  {
   "cell_type": "raw",
   "id": "8e4624db",
   "metadata": {},
   "source": [
    "userNovax = listSuspect\n",
    "\n",
    "print('Generation 0')\n",
    "print(\"\\tNumber of users: %d\"%len(userNovax))\n",
    "\n",
    "for i in range(0,1):\n",
    "    print('Generation %d'%(i+1))\n",
    "    retweeted = ut.retweeted_by_suspect(dfPosts,userNovax)\n",
    "    userNovax = userNovax + list(retweeted.index)\n",
    "    userNovax = list(set(userNovax))\n",
    "    print(\"\\tNumber of users: %d\"%len(userNovax))\n",
    "len(userNovax)"
   ]
  },
  {
   "cell_type": "markdown",
   "id": "94b48b0f",
   "metadata": {},
   "source": [
    "#### Retweet  an high credibility user"
   ]
  },
  {
   "cell_type": "code",
   "execution_count": null,
   "id": "1516f1a7",
   "metadata": {},
   "outputs": [],
   "source": [
    "#Account that have retweeted a suspect (follower)\n",
    "userHighCred = listHighCred\n",
    "dfRetweet = pd.DataFrame()\n",
    "for i in range(0, 1):\n",
    "    dfRetweet = ut.retweet_a_suspect(dfPosts,userHighCred)\n",
    "    userHighCred = userHighCred + list(dfRetweet[dfRetweet['rt_rate']>=20.0].index)\n",
    "    userHighCred = list(set(userHighCred))\n",
    "dfRetweet"
   ]
  },
  {
   "cell_type": "code",
   "execution_count": null,
   "id": "d83f8dac",
   "metadata": {},
   "outputs": [],
   "source": [
    "fig = px.histogram(x=dfRetweet[dfRetweet['rt_rate']>0][\"rt_rate\"],\n",
    "                 histnorm='percent',title=\"Retweet rate on follower (high credibility)\")\n",
    "fig.update_xaxes(title='retweet rate')\n",
    "fig.show()"
   ]
  },
  {
   "cell_type": "code",
   "execution_count": null,
   "id": "492d2a1e",
   "metadata": {},
   "outputs": [],
   "source": [
    "dfHighRate = dfPosts[dfPosts.isin(userHighCred)['user_screen_name']]\n",
    "#Remove fake high credibility (from retweet network study)\n",
    "dfHighRate = dfHighRate[~dfHighRate.isin(listFakeHigh)['user_screen_name']]"
   ]
  },
  {
   "cell_type": "markdown",
   "id": "8058e7a7",
   "metadata": {},
   "source": [
    "### NoVax"
   ]
  },
  {
   "cell_type": "markdown",
   "id": "ea3eb806",
   "metadata": {},
   "source": [
    "#### Retweeted by a suspect\n",
    "Any user that is defined as a novax that retweets a user, the retweeted user will automatically be considered a novax"
   ]
  },
  {
   "cell_type": "raw",
   "id": "50647edc",
   "metadata": {},
   "source": [
    "userNovax = listSuspect\n",
    "\n",
    "print('Generation 0')\n",
    "print(\"\\tNumber of users: %d\"%len(userNovax))\n",
    "\n",
    "for i in range(0,1):\n",
    "    print('Generation %d'%(i+1))\n",
    "    retweeted = ut.retweeted_by_suspect(dfPosts,userNovax)\n",
    "    userNovax = userNovax + list(retweeted.index)\n",
    "    userNovax = list(set(userNovax))\n",
    "    print(\"\\tNumber of users: %d\"%len(userNovax))\n",
    "len(userNovax)"
   ]
  },
  {
   "cell_type": "markdown",
   "id": "2da50d22",
   "metadata": {},
   "source": [
    "#### Retweet a suspect"
   ]
  },
  {
   "cell_type": "code",
   "execution_count": null,
   "id": "53cc5be9",
   "metadata": {},
   "outputs": [],
   "source": [
    "#Account that have retweeted a suspect (follower)\n",
    "userNovax = listSuspect\n",
    "dfRetweet = pd.DataFrame()\n",
    "for i in range(0, 2):\n",
    "    print (\"Generation \",i, \": \",len(userNovax))\n",
    "    dfRetweet = ut.retweet_a_suspect(dfPosts,userNovax)\n",
    "    userNovax = userNovax + list(dfRetweet[dfRetweet['rt_rate']>=20.0].index)\n",
    "    userNovax = list(set(userNovax))\n",
    "dfRetweet"
   ]
  },
  {
   "cell_type": "code",
   "execution_count": null,
   "id": "8a848f82",
   "metadata": {},
   "outputs": [],
   "source": [
    "fig = px.histogram(x=dfRetweet[dfRetweet['rt_rate']>0][\"rt_rate\"],\n",
    "                 histnorm='percent',title=\"Suspect rate on follower (no vax)\")\n",
    "fig.update_xaxes(title='retweet rate')\n",
    "fig.show()"
   ]
  },
  {
   "cell_type": "code",
   "execution_count": null,
   "id": "7d486a1e",
   "metadata": {},
   "outputs": [],
   "source": [
    "dfNovaxSus = dfPosts[dfPosts.isin(userNovax)['user_screen_name']]\n",
    "#Remove fake high credibility (from retweet network study)\n",
    "dfNovaxSus = dfNovaxSus[~dfNovaxSus.isin(listFakeNovax)['user_screen_name']]"
   ]
  },
  {
   "cell_type": "markdown",
   "id": "ea30ca55",
   "metadata": {},
   "source": [
    "## Filtered by hashtag"
   ]
  },
  {
   "cell_type": "code",
   "execution_count": null,
   "id": "6544ccfc",
   "metadata": {},
   "outputs": [],
   "source": [
    "hashtagsNoVax = ['5g','billgates','dittatura*.','disobbedisco','nessunacorrelazione','byoblu*.']"
   ]
  },
  {
   "cell_type": "raw",
   "id": "84a442fb",
   "metadata": {},
   "source": [
    "hashtagsPolitics = ['.*lombardia.*','draghi','conte','m5s','mattarella','salvini','speranza','renzi','lega'\n",
    "                    ,'.*governo.*','.*moratti.*','zingaretti','scanzi','burioni','crisanti']"
   ]
  },
  {
   "cell_type": "markdown",
   "id": "6a22ddb5",
   "metadata": {},
   "source": [
    "### NoVax"
   ]
  },
  {
   "cell_type": "code",
   "execution_count": null,
   "id": "05707a8b",
   "metadata": {},
   "outputs": [],
   "source": [
    "userNoVaxHt = ut.process_df_hashtags(dfPosts,hashtagsNoVax)\n",
    "userNoVaxHt"
   ]
  },
  {
   "cell_type": "code",
   "execution_count": null,
   "id": "8ece844c",
   "metadata": {},
   "outputs": [],
   "source": [
    "dfNovaxHt = dfPosts[dfPosts.isin(userNoVaxHt)['user_screen_name']]"
   ]
  },
  {
   "cell_type": "raw",
   "id": "9d394dbe",
   "metadata": {},
   "source": [
    "### Politics"
   ]
  },
  {
   "cell_type": "raw",
   "id": "07a627c9",
   "metadata": {},
   "source": [
    "userPoliticHt = ut.process_df_hashtags(dfPosts,hashtagsPolitics)\n",
    "userPoliticHt"
   ]
  },
  {
   "cell_type": "raw",
   "id": "e9c18a47",
   "metadata": {
    "scrolled": true
   },
   "source": [
    "dfPoliticHt = pd.DataFrame()\n",
    "for u in userPoliticHt:\n",
    "    df1 = dfPosts[dfPosts['user_screen_name']==u]\n",
    "    dfPoliticHt = pd.concat([dfPoliticHt,df1])\n",
    "    del df1\n",
    "dfPoliticHt"
   ]
  },
  {
   "cell_type": "markdown",
   "id": "79e8944b",
   "metadata": {},
   "source": [
    "## Filtered by URL"
   ]
  },
  {
   "cell_type": "code",
   "execution_count": null,
   "id": "6b667300",
   "metadata": {},
   "outputs": [],
   "source": [
    "dfUrl = dfPosts.groupby('user_screen_name').first()\n",
    "dfUrl.drop(dfUrl.columns.difference(['user_credibility']), 1, inplace=True)"
   ]
  },
  {
   "cell_type": "code",
   "execution_count": null,
   "id": "c8aaebae",
   "metadata": {},
   "outputs": [],
   "source": [
    "fig = px.histogram(x=dfUrl['user_credibility'].dropna()[dfUrl['user_credibility']>0],nbins=100,\n",
    "                 histnorm='percent',title=\"Suspect rate on URL shared\")\n",
    "fig.show()"
   ]
  },
  {
   "cell_type": "markdown",
   "id": "bc6c51c7",
   "metadata": {},
   "source": [
    "### NoVax"
   ]
  },
  {
   "cell_type": "code",
   "execution_count": null,
   "id": "8c43a4b3",
   "metadata": {},
   "outputs": [],
   "source": [
    "dfUsernovaxURL = dfUrl[(dfUrl['user_credibility'].notna())&(dfUrl['user_credibility']<0.3)]\n",
    "dfUsernovaxURL"
   ]
  },
  {
   "cell_type": "markdown",
   "id": "3d7becf9",
   "metadata": {},
   "source": [
    "#### Comparison of users found with retweets and with URLs"
   ]
  },
  {
   "cell_type": "code",
   "execution_count": null,
   "id": "cc842053",
   "metadata": {},
   "outputs": [],
   "source": [
    "countSuspect = Counter(list(dfUsernovaxURL.index) + list(dfNovaxSus['user_screen_name'].unique()))\n",
    "\n",
    "inTwoDf = dict(takewhile(lambda i: i[1] == 2, countSuspect.most_common()))\n",
    "inOneDf = dict(dropwhile(lambda i: i[1] == 2, countSuspect.most_common()))"
   ]
  },
  {
   "cell_type": "code",
   "execution_count": null,
   "id": "c84f267f",
   "metadata": {},
   "outputs": [],
   "source": [
    "c = Counter(list(inOneDf.keys()) + list(dfUsernovaxURL.index))\n",
    "suspectInUrl = dict(takewhile(lambda i: i[1] == 2, c.most_common())).keys()\n",
    "(len(suspectInUrl) / len(dfUsernovaxURL)) * 100"
   ]
  },
  {
   "cell_type": "markdown",
   "id": "ea7a5997",
   "metadata": {},
   "source": [
    "### High credibility"
   ]
  },
  {
   "cell_type": "code",
   "execution_count": null,
   "id": "15c4294b",
   "metadata": {},
   "outputs": [],
   "source": [
    "dfUserHighURL = dfUrl[(dfUrl['user_credibility'].notna())&(dfUrl['user_credibility']<=0.2)]\n",
    "dfUserHighURL"
   ]
  },
  {
   "cell_type": "markdown",
   "id": "bc6ca701",
   "metadata": {},
   "source": [
    "#### Comparison of users found with retweets and with URLs"
   ]
  },
  {
   "cell_type": "code",
   "execution_count": null,
   "id": "7f18c752",
   "metadata": {},
   "outputs": [],
   "source": [
    "countUser = Counter(list(dfUserHighURL.index) + list(dfHighRate['user_screen_name'].unique()))\n",
    "\n",
    "inTwoDf = dict(takewhile(lambda i: i[1] == 2, countUser.most_common()))\n",
    "inOneDf = dict(dropwhile(lambda i: i[1] == 2, countUser.most_common()))\n",
    "\n",
    "(len(inTwoDf) / len(countUser)) * 100"
   ]
  },
  {
   "cell_type": "code",
   "execution_count": null,
   "id": "f4e3b87d",
   "metadata": {},
   "outputs": [],
   "source": [
    "c = Counter(list(inOneDf.keys()) + list(dfUserHighURL.index))\n",
    "userInUrl = dict(takewhile(lambda i: i[1] == 2, c.most_common())).keys()\n",
    "(len(userInUrl) / len(dfHighRate)) * 100"
   ]
  },
  {
   "cell_type": "markdown",
   "id": "628b08e4",
   "metadata": {},
   "source": [
    "## .CSV Creation "
   ]
  },
  {
   "cell_type": "markdown",
   "id": "9dc900d9",
   "metadata": {},
   "source": [
    "### Novax"
   ]
  },
  {
   "cell_type": "code",
   "execution_count": null,
   "id": "c627e0ed",
   "metadata": {},
   "outputs": [],
   "source": [
    "dfNovax = pd.concat([dfNovaxSus,dfNovaxRtNt])\n",
    "dfNovax.drop_duplicates(['id'],inplace=True)\n",
    "dfNovax"
   ]
  },
  {
   "cell_type": "markdown",
   "id": "ad9f7656",
   "metadata": {},
   "source": [
    "### High credibility"
   ]
  },
  {
   "cell_type": "code",
   "execution_count": null,
   "id": "99f33d33",
   "metadata": {},
   "outputs": [],
   "source": [
    "dfHigh = pd.concat([dfHighRate,dfHighRtNt])\n",
    "dfHigh.drop_duplicates(['id'],inplace=True)\n",
    "dfHigh"
   ]
  },
  {
   "cell_type": "markdown",
   "id": "21aa2700",
   "metadata": {},
   "source": [
    "### Other user"
   ]
  },
  {
   "cell_type": "code",
   "execution_count": null,
   "id": "1ec2b006",
   "metadata": {},
   "outputs": [],
   "source": [
    "idNovax = dfNovax.groupby('id').first().index\n",
    "dfOtherElem = dfPosts[dfPosts['id'].isin(idNovax) == False]\n",
    "\n",
    "idHigh = dfHigh.groupby('id').first().index\n",
    "dfOtherElem = dfOtherElem[dfOtherElem['id'].isin(idHigh) == False]\n",
    "\n",
    "dfOtherElem"
   ]
  },
  {
   "cell_type": "markdown",
   "id": "cf43999e",
   "metadata": {},
   "source": [
    "## Control if the dataframe are correctly created"
   ]
  },
  {
   "cell_type": "code",
   "execution_count": null,
   "id": "0297c7ae",
   "metadata": {},
   "outputs": [],
   "source": [
    "len(dfPosts) == len(dfHigh) + len(dfNovax) + len(dfOtherElem)"
   ]
  },
  {
   "cell_type": "code",
   "execution_count": null,
   "id": "177da782",
   "metadata": {},
   "outputs": [],
   "source": [
    "len(dfPosts.groupby('user_screen_name').first().index) == len(dfHigh.groupby('user_screen_name').first().index) \\\n",
    "                                                        + len(dfNovax.groupby('user_screen_name').first().index) \\\n",
    "                                                        + len(dfOtherElem.groupby('user_screen_name').first().index)"
   ]
  },
  {
   "cell_type": "markdown",
   "id": "7a99b0f9",
   "metadata": {},
   "source": [
    "### Write dataframe to .csv"
   ]
  },
  {
   "cell_type": "code",
   "execution_count": null,
   "id": "7aa79266",
   "metadata": {},
   "outputs": [],
   "source": [
    "dfOtherElem.to_csv('tweets_otherUser.csv', index=False)"
   ]
  },
  {
   "cell_type": "code",
   "execution_count": null,
   "id": "c65c6378",
   "metadata": {},
   "outputs": [],
   "source": [
    "dfHigh.to_csv('tweets_highCredibility.csv', index=False)"
   ]
  },
  {
   "cell_type": "code",
   "execution_count": null,
   "id": "9c7ad6a7",
   "metadata": {},
   "outputs": [],
   "source": [
    "dfNovax.to_csv('tweets_novax.csv', index=False)"
   ]
  },
  {
   "cell_type": "markdown",
   "id": "bcd3e7bd",
   "metadata": {},
   "source": [
    "# Redirect of doubled classified suspect"
   ]
  },
  {
   "cell_type": "code",
   "execution_count": null,
   "id": "92cd0459",
   "metadata": {},
   "outputs": [],
   "source": [
    "doubled_class = list(np.array(userNovax)[pd.Series(userNovax).isin(userHighCred)])\n",
    "\n",
    "#Todo with networks\n",
    "dfNovax = dfNovax[dfNovax['user_screen_name'].isin(doubled_class) == False]\n",
    "dfProvax = dfProvax[dfProvax['user_screen_name'].isin(doubled_class) == False]"
   ]
  },
  {
   "cell_type": "code",
   "execution_count": null,
   "id": "714e1a9e",
   "metadata": {},
   "outputs": [],
   "source": []
  },
  {
   "cell_type": "code",
   "execution_count": null,
   "id": "04da821f",
   "metadata": {},
   "outputs": [],
   "source": [
    "pd.DataFrame(dfNovaxSus.groupby('user_screen_name').count().index).to_csv('user_novax_endorsment.csv',index=False)\n",
    "pd.DataFrame(dfHighRate.groupby('user_screen_name').count().index).to_csv('user_high_endorsment.csv',index=False)"
   ]
  }
 ],
 "metadata": {
  "kernelspec": {
   "display_name": "Python 3",
   "language": "python",
   "name": "python3"
  },
  "language_info": {
   "codemirror_mode": {
    "name": "ipython",
    "version": 3
   },
   "file_extension": ".py",
   "mimetype": "text/x-python",
   "name": "python",
   "nbconvert_exporter": "python",
   "pygments_lexer": "ipython3",
   "version": "3.8.10"
  }
 },
 "nbformat": 4,
 "nbformat_minor": 5
}
