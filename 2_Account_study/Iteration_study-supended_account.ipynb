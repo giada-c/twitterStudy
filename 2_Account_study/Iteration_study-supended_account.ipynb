{
 "cells": [
  {
   "cell_type": "markdown",
   "id": "7f84a09f",
   "metadata": {},
   "source": [
    "# Account iteration study (supended account)"
   ]
  },
  {
   "cell_type": "markdown",
   "id": "8f95f8ed",
   "metadata": {},
   "source": [
    "## Import"
   ]
  },
  {
   "cell_type": "code",
   "execution_count": null,
   "id": "6fd03770",
   "metadata": {},
   "outputs": [],
   "source": [
    "import pandas as pd\n",
    "\n",
    "import plotly.express as px\n",
    "from plotly.subplots import make_subplots\n",
    "import plotly.graph_objects as go\n",
    "\n",
    "\n",
    "import sys\n",
    "import importlib\n",
    "\n",
    "sys.path.insert(0, '../')\n",
    "import general_utils as gen_ut\n",
    "\n",
    "sys.path.insert(0, '../3_Hashtag_study')\n",
    "import hashtag_util as ut_ht"
   ]
  },
  {
   "cell_type": "markdown",
   "id": "e8dbf9a3",
   "metadata": {},
   "source": [
    "## Function definition"
   ]
  },
  {
   "cell_type": "code",
   "execution_count": null,
   "id": "7819dbc3",
   "metadata": {},
   "outputs": [],
   "source": [
    "dfUsers = pd.read_csv('../tweets.csv',usecols=['user_screen_name','user_code_error'])\n",
    "dfUsers = dfUsers.groupby('user_screen_name').first()\n",
    "dfUsers"
   ]
  },
  {
   "cell_type": "code",
   "execution_count": null,
   "id": "9c10cc80",
   "metadata": {},
   "outputs": [],
   "source": [
    "def df_preparation(cols,filename='../tweets.csv'):\n",
    "    columns = list(set(cols + ['id','user_screen_name','rt_user_screen_name','in_reply_to_screen_name']))\n",
    "    \n",
    "    df = pd.read_csv(filename,low_memory=False, usecols=columns)\n",
    "    dfSuspect = pd.DataFrame()\n",
    "    for i,r in dfUsers.iterrows():\n",
    "        if r['user_code_error'] == 63:\n",
    "            df1 = df.loc[df['user_screen_name'] == i,:]\n",
    "            dfSuspect = pd.concat([df1,dfSuspect],ignore_index=True)\n",
    "\n",
    "            df1 = df.loc[df['rt_user_screen_name'] == i,:]\n",
    "            dfSuspect = pd.concat([df1,dfSuspect],ignore_index=True)\n",
    "\n",
    "            '''df1 = df.loc[df['in_reply_to_screen_name'] == i,:]\n",
    "            dfSuspect = pd.concat([df1,dfSuspect],ignore_index=True)'''\n",
    "            del df1\n",
    "        \n",
    "    dfSuspect.drop_duplicates(subset=['id'])\n",
    "    return dfSuspect"
   ]
  },
  {
   "cell_type": "markdown",
   "id": "185dae68",
   "metadata": {},
   "source": [
    "## Link study"
   ]
  },
  {
   "cell_type": "code",
   "execution_count": null,
   "id": "3cc51e1d",
   "metadata": {},
   "outputs": [],
   "source": [
    "df = df_preparation(['urls','created_at'])\n",
    "df['created_at'] = pd.to_datetime(df['created_at'], format=\"%a %b %d %X %z %Y\")\n",
    "df"
   ]
  },
  {
   "cell_type": "code",
   "execution_count": null,
   "id": "469a5699",
   "metadata": {},
   "outputs": [],
   "source": [
    "#Creating a map of all urls with the number of uses\n",
    "listUrls = []\n",
    "for s in df['urls']:\n",
    "    urls = gen_ut.get_string_json(s,'display_url')\n",
    "    for url in urls:\n",
    "        if url:\n",
    "            url = url.split(\"//\")\n",
    "            url = url[0].split(\"/\")\n",
    "            listUrls.append(url[0])\n",
    "\n",
    "\n",
    "dfUrls = pd.DataFrame()\n",
    "dfUrls['url'] = listUrls\n",
    "dfUrls['count'] = 1\n",
    "\n",
    "\n",
    "dfUrls = dfUrls.groupby('url').sum()\n",
    "dfUrls.sort_values(['count'], axis = 0,inplace=True,ascending=False)\n",
    "\n",
    "dfUrls"
   ]
  },
  {
   "cell_type": "code",
   "execution_count": null,
   "id": "bd56b3c5",
   "metadata": {},
   "outputs": [],
   "source": [
    "n = 20\n",
    "fig = px.histogram(dfUrls.head(n),y=dfUrls.head(n).index,x='count',\n",
    "            title=\"The most %d url used in the tweets\"% n,orientation = 'h')\n",
    "fig.update_yaxes(title='URL name')\n",
    "fig.show()"
   ]
  },
  {
   "cell_type": "code",
   "execution_count": null,
   "id": "2a88e89e",
   "metadata": {},
   "outputs": [],
   "source": [
    "#Creation of a dictionary of num of use per date\n",
    "my_dict = {\"url\":[],\"date\":[], \"count\":[]};\n",
    "for i in range(len(df)):\n",
    "    s = df.loc[i,'urls']\n",
    "    d = df.loc[i,'created_at']\n",
    "    url = gen_ut.get_string_json(s,'display_url')\n",
    "    if url:\n",
    "        url = url[0].split(\"//\")\n",
    "        url = url[0].split(\"/\")\n",
    "        \n",
    "        my_dict[\"url\"].append(url[0])\n",
    "        my_dict[\"date\"].append(d)\n",
    "        my_dict[\"count\"].append(1)\n",
    "\n",
    "dfUseUrl = pd.DataFrame.from_dict(my_dict)\n",
    "dfUseUrl['Week/Year'] = dfUseUrl['date'].apply(lambda x: \"%d-%d\" % (x.isocalendar()[1] , x.isocalendar()[0]))\n",
    "dfUseUrl.drop(['date'], axis=1,inplace=True)\n",
    "\n",
    "dfUseUrl = dfUseUrl.groupby(['Week/Year', 'url']).sum()\n",
    "dfUseUrl.reset_index(inplace=True)\n",
    "\n",
    "dfUseUrl['Week/Year'] =pd.to_datetime(dfUseUrl['Week/Year']+ '-1', format=\"%W-%Y-%w\")\n",
    "dfUseUrl.sort_values(['Week/Year'],axis = 0,inplace=True,ascending=True)\n",
    "\n",
    "dfUseUrl"
   ]
  },
  {
   "cell_type": "code",
   "execution_count": null,
   "id": "91fa1113",
   "metadata": {},
   "outputs": [],
   "source": [
    "#All in the same graphic\n",
    "fig = go.Figure()\n",
    "\n",
    "for w in dfUrls.head().index:\n",
    "    mask = dfUseUrl['url'] == w\n",
    "    fig.add_trace(go.Scatter(x=dfUseUrl.loc[mask,'Week/Year'], y=dfUseUrl.loc[mask,'count'],\n",
    "                    mode='lines+markers',\n",
    "                    name=w))\n",
    "fig.update_layout(title='All url history use',xaxis_title='Date',yaxis_title='use count')\n",
    "\n",
    "fig.show()"
   ]
  },
  {
   "cell_type": "code",
   "execution_count": null,
   "id": "526221a2",
   "metadata": {},
   "outputs": [],
   "source": [
    "# All in different graphic\n",
    "for w in dfUrls.head().index:\n",
    "    fig = go.Figure()\n",
    "    mask = dfUseUrl['url'] == w\n",
    "    fig.add_trace(go.Scatter(x=dfUseUrl.loc[mask,'Week/Year'], y=dfUseUrl.loc[mask,'count'],\n",
    "                    mode='lines+markers',\n",
    "                    name=w))\n",
    "    fig.update_layout(title=\"History use of url '%s'\"%w,xaxis_title='Date',yaxis_title='use count')\n",
    "\n",
    "    fig.show()"
   ]
  },
  {
   "cell_type": "markdown",
   "id": "32a3b11e",
   "metadata": {},
   "source": [
    "## Hahstag study"
   ]
  },
  {
   "cell_type": "code",
   "execution_count": null,
   "id": "330b2511",
   "metadata": {},
   "outputs": [],
   "source": [
    "df = df_preparation(['hashtags','created_at'])\n",
    "df['created_at'] = pd.to_datetime(df['created_at'], format=\"%a %b %d %X %z %Y\")"
   ]
  },
  {
   "cell_type": "code",
   "execution_count": null,
   "id": "2519f77a",
   "metadata": {},
   "outputs": [],
   "source": [
    "#Creating a map of all hashtags with the number of uses\n",
    "listHashtags = []\n",
    "\n",
    "for s in df['hashtags']:    \n",
    "    [ listHashtags.append(x) for x in gen_ut.get_string_json(s,'text') ]\n",
    "    \n",
    "dfHashtags = pd.DataFrame()\n",
    "dfHashtags['hashtags'] = listHashtags\n",
    "dfHashtags['count'] = 0\n",
    "\n",
    "dfHashtags = dfHashtags.groupby('hashtags').count()\n",
    "dfHashtags.sort_values(['count'],axis = 0,inplace=True,ascending=False)\n",
    "\n",
    "dfHashtags"
   ]
  },
  {
   "cell_type": "code",
   "execution_count": null,
   "id": "d7aad7b2",
   "metadata": {},
   "outputs": [],
   "source": [
    "importlib.reload(ut_ht)\n",
    "dfUse = ut_ht.process_dfUse(df)\n",
    "dfUse"
   ]
  },
  {
   "cell_type": "code",
   "execution_count": null,
   "id": "29e3a636",
   "metadata": {},
   "outputs": [],
   "source": [
    "ut_ht.visual_histogram(dfHashtags,30)"
   ]
  },
  {
   "cell_type": "code",
   "execution_count": null,
   "id": "f765f1c8",
   "metadata": {},
   "outputs": [],
   "source": [
    "sum(dfHashtags['count'])"
   ]
  },
  {
   "cell_type": "code",
   "execution_count": null,
   "id": "31f4bfce",
   "metadata": {},
   "outputs": [],
   "source": [
    "hastagRemove = ['vaccin.*','covid.*','corona.*','astrazeneca','pfizer','sarscov2','sputnikv','moderna']\n",
    "dfHashtagFiltered = dfHashtags\n",
    "for r in hastagRemove:\n",
    "    mask = dfHashtagFiltered.index.str.lower().str.match(r) == True\n",
    "    dfHashtagFiltered.drop(dfHashtagFiltered[mask].index, inplace=True)\n",
    "    \n",
    "dfMoreFiltered = dfHashtagFiltered\n",
    "hastagRemove = ['.*lombardia.*','draghi','conte','m5s','mattarella','salvini','speranza','renzi','lega','.*governo.*',\n",
    "           '.*moratti.*','zingaretti','scanzi','burioni','crisanti']\n",
    "for r in hastagRemove:\n",
    "    mask = dfMoreFiltered.index.str.lower().str.match(r) == True\n",
    "    dfMoreFiltered.drop(dfMoreFiltered[mask].index, inplace=True)\n",
    "\n",
    "ut_ht.visual_histogram(dfMoreFiltered,20)"
   ]
  },
  {
   "cell_type": "code",
   "execution_count": null,
   "id": "587e08ee",
   "metadata": {},
   "outputs": [],
   "source": [
    "ut_ht.visual_by_date_together(dfMoreFiltered,dfUse)"
   ]
  },
  {
   "cell_type": "code",
   "execution_count": null,
   "id": "f3e730d4",
   "metadata": {},
   "outputs": [],
   "source": [
    "ut_ht.visual_by_date_split(dfMoreFiltered,dfUse)"
   ]
  },
  {
   "cell_type": "markdown",
   "id": "045c257e",
   "metadata": {},
   "source": [
    "## Self retweet"
   ]
  },
  {
   "cell_type": "code",
   "execution_count": null,
   "id": "95d975da",
   "metadata": {},
   "outputs": [],
   "source": [
    "df = df_preparation(['is_self_rt'])"
   ]
  },
  {
   "cell_type": "code",
   "execution_count": null,
   "id": "621b025a",
   "metadata": {},
   "outputs": [],
   "source": [
    "dfSelf = df.groupby('user_screen_name').sum()\n",
    "dfSelf['all_rt'] = df.groupby('user_screen_name').count().iloc[:,0]\n",
    "dfSelf.sort_values(['all_rt'],inplace=True)\n",
    "dfSelf"
   ]
  },
  {
   "cell_type": "code",
   "execution_count": null,
   "id": "aff1b96e",
   "metadata": {},
   "outputs": [],
   "source": [
    "n = 20\n",
    "fig = make_subplots(rows=1, cols=1)\n",
    "\n",
    "fig.add_trace(go.Bar(y=dfSelf.tail(n).index, x=dfSelf.tail(n)['all_rt'],orientation='h',  name = 'All retweet'), row=1, col=1)\n",
    "fig.add_trace(go.Bar(y=dfSelf.tail(n).index, x=dfSelf.tail(n)['is_self_rt'],orientation='h', name = 'Self retweet'), row=1, col=1)\n",
    "\n",
    "fig.update_layout(title=\"How many retweet are self retweet (the most 20 retweeter)\")\n",
    "fig.update_xaxes(title=\"Count of retweets\")\n",
    "fig.update_yaxes(title=\"Username\")\n",
    "\n",
    "fig.update_layout(\n",
    "    barmode=\"overlay\",\n",
    "    bargap=0.1)\n",
    "\n",
    "\n",
    "fig.show()"
   ]
  },
  {
   "cell_type": "markdown",
   "id": "76f3c885",
   "metadata": {},
   "source": [
    "## Iteration with other users"
   ]
  },
  {
   "cell_type": "code",
   "execution_count": null,
   "id": "dfc4e371",
   "metadata": {},
   "outputs": [],
   "source": [
    "df = df_preparation(['is_self_rt'])\n",
    "df"
   ]
  },
  {
   "cell_type": "markdown",
   "id": "860985a7",
   "metadata": {},
   "source": [
    "### Retweet"
   ]
  },
  {
   "cell_type": "code",
   "execution_count": null,
   "id": "64749f5a",
   "metadata": {},
   "outputs": [],
   "source": [
    "dfRetweet = df.dropna(subset=['rt_user_screen_name']).copy()\n",
    "dfRetweet.drop(columns=['in_reply_to_screen_name'],inplace=True,errors='ignore')\n",
    "dfRetweet = dfRetweet.groupby('rt_user_screen_name').count()\n",
    "\n",
    "dfRetweet.rename(columns={'user_screen_name':'all_rt'},inplace=True,errors='ignore')\n",
    "dfRetweet['self_rt'] = df.dropna(subset=['rt_user_screen_name'\n",
    "                                        ]).copy().groupby('rt_user_screen_name').sum().loc[:,'is_self_rt']\n",
    "dfRetweet.drop(columns=['is_self_rt'],inplace=True,errors='ignore')\n",
    "\n",
    "dfRetweet['real_rt'] = dfRetweet['all_rt'] - dfRetweet['self_rt']\n",
    "dfRetweet.sort_values('real_rt',ascending=False,inplace=True)\n",
    "dfRetweet\n"
   ]
  },
  {
   "cell_type": "code",
   "execution_count": null,
   "id": "fd38df69",
   "metadata": {},
   "outputs": [],
   "source": [
    "n = 20\n",
    "fig =px.histogram(dfRetweet.head(n),y=dfRetweet.head(n).index,x='real_rt',orientation='h')\n",
    "fig.update_yaxes(title='username')\n",
    "fig.update_layout(title=\"The most %d users retweeted (without self retweet)\"%n)\n",
    "fig.show()"
   ]
  },
  {
   "cell_type": "markdown",
   "id": "fb4d4a32",
   "metadata": {},
   "source": [
    "### Reply"
   ]
  },
  {
   "cell_type": "code",
   "execution_count": null,
   "id": "3c59eb24",
   "metadata": {},
   "outputs": [],
   "source": [
    "dfReply = df.dropna(subset=['in_reply_to_screen_name']).copy()\n",
    "dfReply.drop(columns=['rt_user_screen_name'],inplace=True,errors='ignore')\n",
    "dfReply.drop(columns=['is_self_rt'],inplace=True,errors='ignore')\n",
    "\n",
    "dfReply = dfReply.groupby('in_reply_to_screen_name').count()\n",
    "\n",
    "dfReply.rename(columns={'user_screen_name':'count'},inplace=True,errors='ignore')\n",
    "dfReply.sort_values('count',ascending=False,inplace=True)\n",
    "\n",
    "dfReply"
   ]
  },
  {
   "cell_type": "code",
   "execution_count": null,
   "id": "03b9e318",
   "metadata": {},
   "outputs": [],
   "source": [
    "n = 20\n",
    "fig =px.histogram(dfReply.head(n),y=dfReply.head(n).index,x='count',orientation='h')\n",
    "fig.update_yaxes(title='username')\n",
    "fig.update_layout(title=\"The most %d users replied\"%n)\n",
    "fig.show()"
   ]
  },
  {
   "cell_type": "markdown",
   "id": "1c57a225",
   "metadata": {},
   "source": [
    "## Suspect iteration study"
   ]
  },
  {
   "cell_type": "code",
   "execution_count": null,
   "id": "2b7de57d",
   "metadata": {},
   "outputs": [],
   "source": [
    "df = df_preparation(['is_self_rt'])\n",
    "df1 = df.copy()\n",
    "\n",
    "df1['sum_total_posts'] = 1\n",
    "df1 = df1.groupby('user_screen_name').sum()\n",
    "\n",
    "df = df.groupby('user_screen_name').count()\n",
    "df['sum_total_posts'] = df1['sum_total_posts']\n",
    "df['sum_self_rt'] = df1['is_self_rt']\n",
    "del df1\n",
    "\n",
    "df.rename(columns={'in_reply_to_screen_name':'num_reply','rt_user_screen_name':'num_rt'},inplace=True,errors='ignore')\n",
    "\n",
    "'''df['num_in_reply'] = dfReply\n",
    "df.loc[df['num_in_reply'].isna(),'num_in_reply'] = 0'''\n",
    "\n",
    "df['num_in_rt'] = dfRetweet['real_rt']\n",
    "df.loc[df['num_in_rt'].isna(),'num_in_rt'] = 0\n",
    "\n",
    "df"
   ]
  },
  {
   "cell_type": "code",
   "execution_count": null,
   "id": "8345b9f0",
   "metadata": {},
   "outputs": [],
   "source": [
    "df.describe()"
   ]
  },
  {
   "cell_type": "code",
   "execution_count": null,
   "id": "7bd031b5",
   "metadata": {},
   "outputs": [],
   "source": [
    "df.sort_values('num_in_rt',ascending=False,inplace=True)\n",
    "df = df.head(10)\n",
    "df"
   ]
  },
  {
   "cell_type": "code",
   "execution_count": null,
   "id": "ede57515",
   "metadata": {},
   "outputs": [],
   "source": [
    "n = 20\n",
    "fig = make_subplots(rows=1, cols=1)\n",
    "\n",
    "fig.add_trace(go.Bar(y=df.head(n).index, x=df.head(n)['num_reply'],orientation='h',  name = 'Reply'), row=1, col=1)\n",
    "fig.add_trace(go.Bar(y=df.head(n).index, x=df.head(n)['num_in_rt'],orientation='h', name = 'Retweet'), row=1, col=1)\n",
    "fig.add_trace(go.Bar(y=df.head(n).index, x=df.head(n)['sum_self_rt'],orientation='h',  name = 'Self retweet')\n",
    "              , row=1, col=1)\n",
    "\n",
    "fig.update_layout(title=\"How many time this users are retweeted\")\n",
    "fig.update_xaxes(title=\"Count\")\n",
    "fig.update_yaxes(title=\"Username\")\n",
    "fig.show()"
   ]
  },
  {
   "cell_type": "markdown",
   "id": "35c57d32",
   "metadata": {},
   "source": [
    "## Comparison with noVax and high credibility users"
   ]
  },
  {
   "cell_type": "code",
   "execution_count": null,
   "id": "76317f0f",
   "metadata": {},
   "outputs": [],
   "source": [
    "df = df_preparation([])\n",
    "dfNovax = df_preparation([],filename='../tweets_novax.csv')\n",
    "dfProvax = df_preparation([],filename='../tweets_provax.csv')"
   ]
  },
  {
   "cell_type": "code",
   "execution_count": null,
   "id": "eb98d98d",
   "metadata": {},
   "outputs": [],
   "source": [
    "print(\"There are %d (%d%%) novax that have been suspended from Twitter\"%\n",
    "      (len(dfNovax),(len(dfNovax)/len(df))*100))"
   ]
  },
  {
   "cell_type": "code",
   "execution_count": null,
   "id": "10b9ee71",
   "metadata": {},
   "outputs": [],
   "source": [
    "print(\"There are %d (%d%%) provax that have been suspended from Twitter\"%\n",
    "      (len(dfProvax),(len(dfProvax)/len(df))*100))"
   ]
  }
 ],
 "metadata": {
  "kernelspec": {
   "display_name": "Python 3",
   "language": "python",
   "name": "python3"
  },
  "language_info": {
   "codemirror_mode": {
    "name": "ipython",
    "version": 3
   },
   "file_extension": ".py",
   "mimetype": "text/x-python",
   "name": "python",
   "nbconvert_exporter": "python",
   "pygments_lexer": "ipython3",
   "version": "3.8.10"
  }
 },
 "nbformat": 4,
 "nbformat_minor": 5
}
