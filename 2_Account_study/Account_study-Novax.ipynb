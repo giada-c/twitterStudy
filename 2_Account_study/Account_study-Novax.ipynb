{
 "cells": [
  {
   "cell_type": "markdown",
   "id": "4de183c0",
   "metadata": {},
   "source": [
    "# Account novax study"
   ]
  },
  {
   "cell_type": "markdown",
   "id": "8f95f8ed",
   "metadata": {},
   "source": [
    "## Import"
   ]
  },
  {
   "cell_type": "code",
   "execution_count": null,
   "id": "6fd03770",
   "metadata": {},
   "outputs": [],
   "source": [
    "import pandas as pd\n",
    "import json\n",
    "from collections import Counter\n",
    "\n",
    "from plotly.subplots import make_subplots\n",
    "import plotly.express as px\n",
    "import plotly.graph_objects as go\n",
    "\n",
    "import account_util as ut"
   ]
  },
  {
   "cell_type": "markdown",
   "id": "eaf3b72f",
   "metadata": {},
   "source": [
    "## Dataset preparation"
   ]
  },
  {
   "cell_type": "code",
   "execution_count": null,
   "id": "330b2511",
   "metadata": {},
   "outputs": [],
   "source": [
    "df = pd.read_csv('../tweets_novax.csv',low_memory=False,\n",
    "                 usecols=['user_id','user_created_at','user_screen_name','user_mentions','created_at',\n",
    "                          'user_verified','rt_created_at','in_reply_to_screen_name','rt_user_id','rt_user_screen_name',\n",
    "                         'is_self_rt','user_url_cred'])"
   ]
  },
  {
   "cell_type": "code",
   "execution_count": null,
   "id": "a31e29d5",
   "metadata": {},
   "outputs": [],
   "source": [
    "df['user_created_at'] = pd.to_datetime(df['user_created_at'], format=\"%a %b %d %X %z %Y\")\n",
    "df['created_at'] = pd.to_datetime(df['created_at'], format=\"%a %b %d %X %z %Y\")"
   ]
  },
  {
   "cell_type": "code",
   "execution_count": null,
   "id": "42d2acef",
   "metadata": {},
   "outputs": [],
   "source": [
    "df.info()"
   ]
  },
  {
   "cell_type": "code",
   "execution_count": null,
   "id": "7529b08c",
   "metadata": {},
   "outputs": [],
   "source": [
    "dfAccount = pd.DataFrame()\n",
    "\n",
    "df1 = df.groupby(['user_screen_name']).sum()\n",
    "df1.loc[:,df1.columns[df1.columns.str.contains('id', regex=False)==False]]\n",
    "\n",
    "dfAccount['user_verified'] = df1['user_verified']>0 \n",
    "dfAccount['created_at'] = df.groupby('user_screen_name').first()['user_created_at']"
   ]
  },
  {
   "cell_type": "markdown",
   "id": "7914904f",
   "metadata": {},
   "source": [
    "### General info study"
   ]
  },
  {
   "cell_type": "code",
   "execution_count": null,
   "id": "5c77549b",
   "metadata": {},
   "outputs": [],
   "source": [
    "#How many users verify the account (absolute)\n",
    "values = [sum(dfAccount['user_verified']), len(dfAccount) - sum(dfAccount['user_verified'])]\n",
    "names = ['Yes', 'No']\n",
    "  \n",
    "fig = px.pie(values=values, names=names)\n",
    "fig.update_layout(title=\"Is the user verified?\")\n",
    "\n",
    "fig.show()\n",
    "len(dfAccount)"
   ]
  },
  {
   "cell_type": "code",
   "execution_count": null,
   "id": "662ff84a",
   "metadata": {},
   "outputs": [],
   "source": [
    "dfCountUserCreation = dfAccount.resample('W', on='created_at').count().iloc[:,1].to_frame()\n",
    "dfCountUserCreation.rename(columns={\"created_at\": \"count\"},inplace=True)\n",
    "\n",
    "fig = px.histogram(dfCountUserCreation,x=dfCountUserCreation.index,y='count',\n",
    "                   title='User creation distribution',nbins=100)\n",
    "fig.update_yaxes(title='count')\n",
    "fig.update_xaxes(title='date')\n",
    "fig.show()"
   ]
  },
  {
   "cell_type": "markdown",
   "id": "306ee993",
   "metadata": {},
   "source": [
    "Dal grafico sovrastante, si possono notare due picchi nel 2012 e nel 2020 importanti e una crescita importante del numero di profili creati nell 2009.\n",
    "La prima crescita, che risale appunto al 2009, è dovuta all'introduzione (insieme a francese, tedesco e spagnolo) dell'italiano, come lingua attiva. \n",
    "\n",
    "Dopodiché, nel 2012, twitter ha per la prima volta battuto una notizia di rilevanza istituzionale con largo anticipo rispetto ai media tradizionali: la morte del presidente emerito Oscar Luigi Scalfaro. Questo ha portato ad un aumento, sopratutto in Italia delle iscrizioni a Twitter.\n",
    "\n",
    "Infine, verso fine marzo 2020, soprattutto in Italia, vi è stato un ferreo lockdown a causa del Covid. Questo lockdown, che ha costretto tutti a casa, ha portato ad un aumento di iscrizioni ai social, quindi anche Twitter,per riempire i momenti di noia."
   ]
  },
  {
   "cell_type": "code",
   "execution_count": null,
   "id": "18da3fc3",
   "metadata": {},
   "outputs": [],
   "source": [
    "#When the most user are created (since covid-19 started) \n",
    "date = \"2019-11-17\" # 2020-11-17 --> The first case of infection ascertained by COVID-19 is recorded\n",
    "\n",
    "df1 = dfAccount[(dfAccount['created_at']> date)] \n",
    "dfCountUserCreation = df1.resample('W', on='created_at').count().iloc[:,1].to_frame()\n",
    "dfCountUserCreation.rename(columns={\"created_at\": \"count\"},inplace=True)\n",
    "\n",
    "fig = px.histogram(dfCountUserCreation,x=dfCountUserCreation.index,y='count',\n",
    "                   title='User cration distribution (since covid-19 started)',nbins=100)\n",
    "fig.update_yaxes(title='count')\n",
    "fig.update_xaxes(title='date')\n",
    "fig.show()"
   ]
  },
  {
   "cell_type": "markdown",
   "id": "bbdfc986",
   "metadata": {},
   "source": [
    "Concentrando la distribuzione dall primo caso di covid-19 registrato si possono notare tre picchi interessanti, a marzo 2020 (già notato nel grafico precedente), a novembre 2020 e dicembre 2020. I nuovi picchi che si possono notare, a differenza di quello già notato a marzo, riguarda una specifica settimana.\n",
    "\n",
    "I picchi settimanali di novembre e dicembre, accadono propio in due momenti importanti importanti in italia, il primo, quello di novembre, capita durante la settimana del 3 novembre dove viene istituito un coprifuoco dalle 22:00 alle 05:00 per tutta l'Italia. Il secondo, invece, poco prima delle feste natalizie, quando, il governo ha istituito zona rossa nazionale. \n",
    "\n",
    "In questi periodi, come per marzo, le persone ritrovandosi senza nulla da fare, hanno visto nei social come Twitter un passatempo e uno sfogo."
   ]
  },
  {
   "cell_type": "markdown",
   "id": "422d23d7",
   "metadata": {},
   "source": [
    "### General study (tweet, retweet, replies)"
   ]
  },
  {
   "cell_type": "markdown",
   "id": "ee4995c7",
   "metadata": {},
   "source": [
    "#### Definition lists of intresting users"
   ]
  },
  {
   "cell_type": "code",
   "execution_count": null,
   "id": "080779d3",
   "metadata": {},
   "outputs": [],
   "source": [
    "with open('../1_Dataset_preparation/listControlledUsers.json','r') as file_object:  \n",
    "  data = json.load(file_object)  \n",
    "\n",
    "listNovax = data['Novax']\n",
    "listLinkLow = data['link_low']\n",
    "listProvax = data['Provax']\n"
   ]
  },
  {
   "cell_type": "markdown",
   "id": "0e0407d6",
   "metadata": {},
   "source": [
    "### All type of posts"
   ]
  },
  {
   "cell_type": "code",
   "execution_count": null,
   "id": "75066648",
   "metadata": {},
   "outputs": [],
   "source": [
    "#Perparation i df grouped by name\n",
    "dfTweetByName = pd.DataFrame(df.loc[:,'user_screen_name'])\n",
    "dfTweetByName = ut.get_df_raggruped(dfTweetByName,'tweet_count','user_screen_name')\n",
    "dfTweetByName = ut.add_user_type(dfTweetByName,listNovax,listProvax,listLinkLow)\n",
    "dfTweetByName"
   ]
  },
  {
   "cell_type": "code",
   "execution_count": null,
   "id": "8565b109",
   "metadata": {},
   "outputs": [],
   "source": [
    "#Show the most active user (in general)\n",
    "for i in (10,20,40,50):\n",
    "    ut.print_histogram_users(dfTweetByName,i,'tweet_count','Most %d active users'%i,'Count of tweets')"
   ]
  },
  {
   "cell_type": "markdown",
   "id": "896bfef3",
   "metadata": {},
   "source": [
    "### Tweet study"
   ]
  },
  {
   "cell_type": "code",
   "execution_count": null,
   "id": "6fcd4c50",
   "metadata": {},
   "outputs": [],
   "source": [
    "# get top 20 most frequent Tweet account\n",
    "df_tweets = df[df['in_reply_to_screen_name'].isna()]\n",
    "df_tweets = df_tweets[df_tweets['rt_created_at'].isna()]\n",
    "df_tweets = pd.DataFrame(df_tweets.loc[:,'user_screen_name'])\n",
    "df_tweets = ut.get_df_raggruped(df_tweets,'tweet_count','user_screen_name')\n",
    "dfTweetByName = ut.add_user_type(df_tweets,listNovax,listProvax,listLinkLow)\n",
    "df_tweets"
   ]
  },
  {
   "cell_type": "code",
   "execution_count": null,
   "id": "51a58194",
   "metadata": {},
   "outputs": [],
   "source": [
    "ut.print_histogram_users(df_tweets,20,'tweet_count','Most %d users that create posts'%20,'Count of tweets')"
   ]
  },
  {
   "cell_type": "markdown",
   "id": "03723fe0",
   "metadata": {},
   "source": [
    "### Retweet study"
   ]
  },
  {
   "cell_type": "code",
   "execution_count": null,
   "id": "f9dfac2a",
   "metadata": {},
   "outputs": [],
   "source": [
    "df_retweet = pd.DataFrame()\n",
    "df_retweet['all_rt']  = df[df['rt_created_at'].notna()].groupby('rt_user_screen_name').count()['user_id']\n",
    "df_retweet['self_rt'] = df[df['rt_created_at'].notna()].groupby('rt_user_screen_name').sum()['is_self_rt']\n",
    "df_retweet['real_rt'] = df_retweet['all_rt'] - df_retweet['self_rt']\n",
    "df_retweet.sort_values('real_rt',ascending=False,inplace=True)\n",
    "\n",
    "df_retweet = ut.add_user_type(df_retweet,listNovax,listProvax,listLinkLow)\n",
    "df_retweet"
   ]
  },
  {
   "cell_type": "code",
   "execution_count": null,
   "id": "154fb1b9",
   "metadata": {},
   "outputs": [],
   "source": [
    "for i in (10,20,40,50):\n",
    "        ut.print_histogram_users(df_retweet,i,'real_rt','Most %d retweeted users'%i,'Count of retweets')"
   ]
  },
  {
   "cell_type": "code",
   "execution_count": null,
   "id": "00bcebce",
   "metadata": {},
   "outputs": [],
   "source": [
    "for i in (10,20,40,50):\n",
    "    fig = make_subplots(rows=1, cols=1)\n",
    "    \n",
    "    if i <= 20:\n",
    "        fig.add_trace(go.Bar(y=df_retweet.head(i).index, x=df_retweet.head(i)['real_rt'],orientation='h', \n",
    "                             name = 'All retweet',marker_color='#636EFA'), row=1, col=1)\n",
    "        fig.add_trace(go.Bar(y=df_retweet.head(i).index, x=df_retweet.head(i)['self_rt'],orientation='h', \n",
    "                             name = 'Self retweet',marker_color='#EF553B'), row=1, col=1)\n",
    "    else:       \n",
    "        fig = make_subplots(rows=1, cols=2)\n",
    "        n = i//2 \n",
    "        fig.add_trace(go.Bar(y=df_retweet.head(i-n).index, x=df_retweet.head(i-n)['real_rt'],orientation='h', \n",
    "                             name = 'All retweet',marker_color='#636EFA'), row=1, col=1)\n",
    "        fig.add_trace(go.Bar(y=df_retweet.head(i-n).index, x=df_retweet.head(i-n)['self_rt'],orientation='h', \n",
    "                             name = 'Self retweet',marker_color='#EF553B'), row=1, col=1)\n",
    "        fig.add_trace(go.Bar(y=df_retweet.head(i).tail(n).index, x=df_retweet.head(i).tail(n)['real_rt'],orientation='h', \n",
    "                             name = 'All retweet',marker_color='#636EFA'), row=1, col=2)\n",
    "        fig.add_trace(go.Bar(y=df_retweet.head(i).tail(n).index, x=df_retweet.head(i).tail(n)['self_rt'],orientation='h', \n",
    "                             name = 'Self retweet',marker_color='#EF553B'), row=1, col=2)\n",
    "        \n",
    "\n",
    "    fig.update_layout(title=\"The most %d frequent retweet account\"%i)\n",
    "    fig.update_xaxes(title=\"Count of retweets\")\n",
    "    fig.update_yaxes(title=\"Username\")\n",
    "    fig.show()"
   ]
  },
  {
   "cell_type": "markdown",
   "id": "d5390da6",
   "metadata": {},
   "source": [
    "### Reply study"
   ]
  },
  {
   "cell_type": "code",
   "execution_count": null,
   "id": "94662fea",
   "metadata": {},
   "outputs": [],
   "source": [
    "df_replied = ut.get_df_raggruped(pd.DataFrame(df.loc[:,'in_reply_to_screen_name']),'reply_count','in_reply_to_screen_name')\n",
    "\n",
    "df_replied = ut.add_user_type(df_replied,listNovax,listProvax,listLinkLow)\n",
    "\n",
    "ut.print_histogram_users(df_replied,20,'reply_count','Most 20 replied users','Reply count')"
   ]
  },
  {
   "cell_type": "markdown",
   "id": "cef1b352",
   "metadata": {},
   "source": [
    "### Summary"
   ]
  },
  {
   "cell_type": "code",
   "execution_count": null,
   "id": "f5a1fd13",
   "metadata": {},
   "outputs": [],
   "source": [
    "retweet = sum(df_retweet['all_rt'])\n",
    "reply = sum(df_replied['reply_count'])\n",
    "tweet = len(df)-retweet-reply\n",
    "\n",
    "values = [tweet,retweet,reply]\n",
    "names = ['Tweets', 'Retweet','Reply']\n",
    "  \n",
    "fig = px.pie(values=values, names=names)\n",
    "fig.update_layout(title=\"How are the tweets distribuited\")\n",
    "fig.update_traces(textinfo='value+percent')\n",
    "fig.show()"
   ]
  },
  {
   "cell_type": "markdown",
   "id": "83f64015",
   "metadata": {},
   "source": [
    "### Most mentioned users"
   ]
  },
  {
   "cell_type": "code",
   "execution_count": null,
   "id": "0a2b5de9",
   "metadata": {},
   "outputs": [],
   "source": [
    "#Creating a map of all mentioned users\n",
    "listMention = []\n",
    "for s in df['user_mentions']:\n",
    "    for val in eval(s):\n",
    "        listMention.append(val['screen_name'])        \n",
    "        \n",
    "dfMentions = pd.DataFrame()\n",
    "dfMentions['name'] = listMention\n",
    "dfMentions['count'] = 0\n",
    "\n",
    "\n",
    "dfMentions = dfMentions.groupby('name').count()\n",
    "dfMentions.sort_values(['count'],axis = 0,inplace=True,ascending=False)\n",
    "\n",
    "dfMentions = ut.add_user_type(dfMentions,listNovax,listProvax,listLinkLow)\n",
    "dfMentions"
   ]
  },
  {
   "cell_type": "code",
   "execution_count": null,
   "id": "944e20d0",
   "metadata": {},
   "outputs": [],
   "source": [
    "n = 20\n",
    "#Show the most n mentioned user \n",
    "ut.print_histogram_users(dfMentions,n,'count','Most %d mentioned users'%n,'Number of mention')"
   ]
  },
  {
   "cell_type": "markdown",
   "id": "1c8e6487",
   "metadata": {},
   "source": [
    "### Tweets distrubution"
   ]
  },
  {
   "cell_type": "code",
   "execution_count": null,
   "id": "2ca4d4aa",
   "metadata": {},
   "outputs": [],
   "source": [
    "dfCountTweetCreation = df.resample('W', on='created_at').count().iloc[:,1].to_frame()\n",
    "dfCountTweetCreation.rename(columns={\"user_id\": \"count\"},inplace=True)\n",
    "\n",
    "fig = px.histogram(dfCountTweetCreation,x=dfCountTweetCreation.index,y='count',title='Tweets creation distribution'\n",
    "                   ,nbins=100)\n",
    "fig.show()"
   ]
  },
  {
   "cell_type": "markdown",
   "id": "bcf9f8b3",
   "metadata": {},
   "source": [
    "# User credibility (based on url shared)"
   ]
  },
  {
   "cell_type": "code",
   "execution_count": null,
   "id": "9135af25",
   "metadata": {},
   "outputs": [],
   "source": [
    "df1 = df[df['user_url_cred'].notna()]\n",
    "user_credibility = df1.loc[df1['user_url_cred']<1,'user_url_cred']\n",
    "fig = px.histogram(x=user_credibility,\n",
    "                 histnorm='percent',title=\"User credibility\")\n",
    "\n",
    "fig.show()"
   ]
  }
 ],
 "metadata": {
  "interpreter": {
   "hash": "1f708736793de3fc0c02bbe85b1c7aa3dac1d3a33c8c658a64d0d602cb53d4fc"
  },
  "kernelspec": {
   "display_name": "Python 3",
   "language": "python",
   "name": "python3"
  },
  "language_info": {
   "codemirror_mode": {
    "name": "ipython",
    "version": 3
   },
   "file_extension": ".py",
   "mimetype": "text/x-python",
   "name": "python",
   "nbconvert_exporter": "python",
   "pygments_lexer": "ipython3",
   "version": "3.8.10"
  }
 },
 "nbformat": 4,
 "nbformat_minor": 5
}
