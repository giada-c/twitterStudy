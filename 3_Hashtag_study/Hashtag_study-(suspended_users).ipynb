{
 "cells": [
  {
   "cell_type": "markdown",
   "id": "607f5bd3",
   "metadata": {},
   "source": [
    "# Hashtag study (on suspended users)"
   ]
  },
  {
   "cell_type": "markdown",
   "id": "8f95f8ed",
   "metadata": {},
   "source": [
    "## Import"
   ]
  },
  {
   "cell_type": "code",
   "execution_count": null,
   "id": "6fd03770",
   "metadata": {},
   "outputs": [],
   "source": [
    "import pandas as pd\n",
    "import json\n",
    "\n",
    "from plotly.subplots import make_subplots\n",
    "import plotly.express as px\n",
    "import plotly.graph_objects as go\n",
    "\n",
    "from concurrent.futures import wait as futures_wait\n",
    "from concurrent.futures.process import ProcessPoolExecutor\n",
    "\n",
    "import importlib\n",
    "import sys\n",
    "sys.path.insert(0, '../')\n",
    "\n",
    "import general_utils as gen_ut\n",
    "import hashtag_util as ut"
   ]
  },
  {
   "cell_type": "markdown",
   "id": "eaf3b72f",
   "metadata": {},
   "source": [
    "## Dataset preparation"
   ]
  },
  {
   "cell_type": "code",
   "execution_count": null,
   "id": "330b2511",
   "metadata": {},
   "outputs": [],
   "source": [
    "df = pd.read_csv('../tweets.csv',low_memory=False,\n",
    "                 usecols=['hashtags','created_at','user_code_error'])\n",
    "\n",
    "df['created_at'] = pd.to_datetime(df['created_at'], format=\"%a %b %d %X %z %Y\")\n",
    "df = df.loc[df['user_code_error']==63,:]\n",
    "\n",
    "df"
   ]
  },
  {
   "cell_type": "code",
   "execution_count": null,
   "id": "2519f77a",
   "metadata": {},
   "outputs": [],
   "source": [
    "#Creating a map of all hashtags with the number of uses\n",
    "listHashtags = []\n",
    "\n",
    "for s in df['hashtags']:    \n",
    "    [ listHashtags.append(x) for x in gen_ut.get_string_json(s,'text') ]\n",
    "    \n",
    "dfHashtags = pd.DataFrame()\n",
    "dfHashtags['hashtags'] = listHashtags\n",
    "dfHashtags['count'] = 0\n",
    "\n",
    "dfHashtags = dfHashtags.groupby('hashtags').count()\n",
    "dfHashtags.sort_values(['count'],axis = 0,inplace=True,ascending=False)\n",
    "\n",
    "dfHashtags"
   ]
  },
  {
   "cell_type": "code",
   "execution_count": null,
   "id": "d7aad7b2",
   "metadata": {},
   "outputs": [],
   "source": [
    "dfUse = ut.process_dfUse(df)\n",
    "dfUse"
   ]
  },
  {
   "cell_type": "markdown",
   "id": "4d18719b",
   "metadata": {},
   "source": [
    "## General study"
   ]
  },
  {
   "cell_type": "code",
   "execution_count": null,
   "id": "29e3a636",
   "metadata": {},
   "outputs": [],
   "source": [
    "ut.visual_histogram(dfHashtags,50)"
   ]
  },
  {
   "cell_type": "code",
   "execution_count": null,
   "id": "587e08ee",
   "metadata": {},
   "outputs": [],
   "source": [
    "ut.visual_by_date_together(dfHashtags,dfUse)"
   ]
  },
  {
   "cell_type": "code",
   "execution_count": null,
   "id": "f3e730d4",
   "metadata": {},
   "outputs": [],
   "source": [
    "ut.visual_by_date_split(dfHashtags,dfUse)"
   ]
  },
  {
   "cell_type": "markdown",
   "id": "eaced5e8",
   "metadata": {},
   "source": [
    "## Study without some hastag"
   ]
  },
  {
   "cell_type": "code",
   "execution_count": null,
   "id": "2ed24a81",
   "metadata": {},
   "outputs": [],
   "source": [
    "hastagRemove = ['vaccin.*','covid.*','corona.*','astrazeneca','pfizer','sarscov2','sputnikv','moderna']\n",
    "dfHashtagFiltered = dfHashtags\n",
    "for r in hastagRemove:\n",
    "    mask = dfHashtagFiltered.index.str.lower().str.match(r) == True\n",
    "    dfHashtagFiltered.drop(dfHashtagFiltered[mask].index, inplace=True)\n",
    "\n",
    "dfHashtagFiltered"
   ]
  },
  {
   "cell_type": "code",
   "execution_count": null,
   "id": "8448349c",
   "metadata": {},
   "outputs": [],
   "source": [
    "ut.visual_histogram(dfHashtagFiltered,20)"
   ]
  },
  {
   "cell_type": "code",
   "execution_count": null,
   "id": "0dcabaaf",
   "metadata": {},
   "outputs": [],
   "source": [
    "ut.visual_by_date_together(dfHashtagFiltered,dfUse)"
   ]
  },
  {
   "cell_type": "code",
   "execution_count": null,
   "id": "f9302b0c",
   "metadata": {},
   "outputs": [],
   "source": [
    "ut.visual_by_date_split(dfHashtagFiltered,dfUse)"
   ]
  }
 ],
 "metadata": {
  "interpreter": {
   "hash": "1f708736793de3fc0c02bbe85b1c7aa3dac1d3a33c8c658a64d0d602cb53d4fc"
  },
  "kernelspec": {
   "display_name": "Python 3.8.10 64-bit ('TwitterStudy': conda)",
   "name": "python3"
  },
  "language_info": {
   "codemirror_mode": {
    "name": "ipython",
    "version": 3
   },
   "file_extension": ".py",
   "mimetype": "text/x-python",
   "name": "python",
   "nbconvert_exporter": "python",
   "pygments_lexer": "ipython3",
   "version": "3.8.10"
  }
 },
 "nbformat": 4,
 "nbformat_minor": 5
}
