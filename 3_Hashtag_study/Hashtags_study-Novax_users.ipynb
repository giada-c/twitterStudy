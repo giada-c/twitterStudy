{
 "cells": [
  {
   "cell_type": "markdown",
   "id": "607f5bd3",
   "metadata": {},
   "source": [
    "# Hashtags study-Novax users"
   ]
  },
  {
   "cell_type": "markdown",
   "id": "8f95f8ed",
   "metadata": {},
   "source": [
    "## Import"
   ]
  },
  {
   "cell_type": "code",
   "execution_count": null,
   "id": "6fd03770",
   "metadata": {},
   "outputs": [],
   "source": [
    "import pandas as pd\n",
    "import json\n",
    "import numpy as np\n",
    "from itertools import repeat\n",
    "\n",
    "from plotly.subplots import make_subplots\n",
    "import plotly.express as px\n",
    "import plotly.graph_objects as go\n",
    "\n",
    "from concurrent.futures import wait as futures_wait\n",
    "from concurrent.futures.process import ProcessPoolExecutor\n",
    "\n",
    "import importlib\n",
    "import hashtag_util as ut\n",
    "import sys\n",
    "sys.path.insert(0, '../')\n",
    "import general_utils as gen_ut"
   ]
  },
  {
   "cell_type": "markdown",
   "id": "eaf3b72f",
   "metadata": {},
   "source": [
    "## Dataset preparation"
   ]
  },
  {
   "cell_type": "code",
   "execution_count": null,
   "id": "330b2511",
   "metadata": {},
   "outputs": [],
   "source": [
    "df = pd.read_csv('../tweets_novax.csv',low_memory=False,\n",
    "                 usecols=['user_screen_name','hashtags','created_at'])"
   ]
  },
  {
   "cell_type": "code",
   "execution_count": null,
   "id": "a31e29d5",
   "metadata": {},
   "outputs": [],
   "source": [
    "df['created_at'] = pd.to_datetime(df['created_at'], format=\"%a %b %d %X %z %Y\")"
   ]
  },
  {
   "cell_type": "code",
   "execution_count": null,
   "id": "2519f77a",
   "metadata": {},
   "outputs": [],
   "source": [
    "#Creating a map of all hashtags with the number of uses\n",
    "listHashtags = []\n",
    "\n",
    "for s in df['hashtags']:    \n",
    "    [ listHashtags.append(x) for x in gen_ut.get_string_json(s,'text') ]\n",
    "    \n",
    "dfHashtags = pd.DataFrame()\n",
    "dfHashtags['hashtags'] = listHashtags\n",
    "dfHashtags['count'] = 0\n",
    "\n",
    "dfHashtags = dfHashtags.groupby('hashtags').count()\n",
    "dfHashtags.sort_values(['count'],axis = 0,inplace=True,ascending=False)\n",
    "\n",
    "dfHashtags"
   ]
  },
  {
   "cell_type": "code",
   "execution_count": null,
   "id": "d7aad7b2",
   "metadata": {},
   "outputs": [],
   "source": [
    "importlib.reload(ut)\n",
    "dfUse = ut.process_dfUse(df)\n",
    "dfUse"
   ]
  },
  {
   "cell_type": "markdown",
   "id": "4d18719b",
   "metadata": {},
   "source": [
    "## General study"
   ]
  },
  {
   "cell_type": "code",
   "execution_count": null,
   "id": "29e3a636",
   "metadata": {},
   "outputs": [],
   "source": [
    "importlib.reload(ut)\n",
    "ut.visual_histogram(dfHashtags,200,50)"
   ]
  },
  {
   "cell_type": "code",
   "execution_count": null,
   "id": "587e08ee",
   "metadata": {},
   "outputs": [],
   "source": [
    "ut.visual_by_date_together(dfHashtags,dfUse)"
   ]
  },
  {
   "cell_type": "code",
   "execution_count": null,
   "id": "f3e730d4",
   "metadata": {},
   "outputs": [],
   "source": [
    "ut.visual_by_date_split(dfHashtags,dfUse)"
   ]
  },
  {
   "cell_type": "markdown",
   "id": "eaced5e8",
   "metadata": {},
   "source": [
    "## Study without some hastag"
   ]
  },
  {
   "cell_type": "code",
   "execution_count": null,
   "id": "2ed24a81",
   "metadata": {},
   "outputs": [],
   "source": [
    "hastagRemove = ['vaccin.*','covid.*','corona.*','astrazeneca','pfizer','sarscov2','sputnikv','moderna']\n",
    "dfHashtagFiltered = dfHashtags\n",
    "for r in hastagRemove:\n",
    "    mask = dfHashtagFiltered.index.str.lower().str.match(r) == True\n",
    "    dfHashtagFiltered.drop(dfHashtagFiltered[mask].index, inplace=True)\n",
    "\n",
    "dfHashtagFiltered"
   ]
  },
  {
   "cell_type": "code",
   "execution_count": null,
   "id": "8448349c",
   "metadata": {},
   "outputs": [],
   "source": [
    "ut.visual_histogram(dfHashtagFiltered,100,50)"
   ]
  },
  {
   "cell_type": "code",
   "execution_count": null,
   "id": "0dcabaaf",
   "metadata": {},
   "outputs": [],
   "source": [
    "ut.visual_by_date_together(dfHashtagFiltered,dfUse)"
   ]
  },
  {
   "cell_type": "code",
   "execution_count": null,
   "id": "f9302b0c",
   "metadata": {},
   "outputs": [],
   "source": [
    "ut.visual_by_date_split(dfHashtagFiltered,dfUse)"
   ]
  },
  {
   "cell_type": "markdown",
   "id": "ee0c082b",
   "metadata": {},
   "source": [
    "## Study without some hastag and hastags about politic"
   ]
  },
  {
   "cell_type": "code",
   "execution_count": null,
   "id": "7ce5884c",
   "metadata": {},
   "outputs": [],
   "source": [
    "dfMoreFiltered = dfHashtagFiltered\n",
    "hastagRemove = ['.*lombardia.*','draghi','conte','m5s','mattarella','salvini','speranza','renzi','lega','.*governo.*',\n",
    "           '.*moratti.*','zingaretti','scanzi','burioni','crisanti']\n",
    "for r in hastagRemove:\n",
    "    mask = dfMoreFiltered.index.str.lower().str.match(r) == True\n",
    "    dfMoreFiltered.drop(dfMoreFiltered[mask].index, inplace=True)\n",
    "\n",
    "dfMoreFiltered"
   ]
  },
  {
   "cell_type": "code",
   "execution_count": null,
   "id": "a6eea88c",
   "metadata": {},
   "outputs": [],
   "source": [
    "ut.visual_histogram(dfMoreFiltered,100,50)"
   ]
  },
  {
   "cell_type": "code",
   "execution_count": null,
   "id": "7cda46cb",
   "metadata": {},
   "outputs": [],
   "source": [
    "ut.visual_by_date_together(dfMoreFiltered,dfUse)"
   ]
  },
  {
   "cell_type": "code",
   "execution_count": null,
   "id": "110479da",
   "metadata": {},
   "outputs": [],
   "source": [
    "ut.visual_by_date_split(dfMoreFiltered,dfUse)"
   ]
  },
  {
   "cell_type": "markdown",
   "id": "7352f9cc",
   "metadata": {},
   "source": [
    "## Use of 'suspect' hashtag"
   ]
  },
  {
   "cell_type": "code",
   "execution_count": null,
   "id": "f9dd5057",
   "metadata": {},
   "outputs": [],
   "source": [
    "listHashtagsStudy = ['5g','billgates','dittatura*.','disobbedisco','nessunacorrelazione','byoblu*.']"
   ]
  },
  {
   "cell_type": "code",
   "execution_count": null,
   "id": "aa03918b",
   "metadata": {},
   "outputs": [],
   "source": [
    "dfSuspect = pd.DataFrame(index=listHashtagsStudy)\n",
    "for r in listHashtagsStudy:\n",
    "    mask = dfMoreFiltered.index.str.lower().str.match(r) == True\n",
    "    dfSuspect.loc[r,'count'] = sum(dfMoreFiltered.loc[mask,'count'])\n",
    "dfSuspect.sort_values('count',inplace=True)"
   ]
  },
  {
   "cell_type": "code",
   "execution_count": null,
   "id": "8d3e8f98",
   "metadata": {},
   "outputs": [],
   "source": [
    "fig = px.histogram(y=dfSuspect.index, x=dfSuspect['count']*100/sum(dfHashtags['count']), orientation='h')\n",
    "\n",
    "fig.update_layout(title=\"Use of suspect hashtag (as a proportion of the total)]\")\n",
    "fig.update_yaxes(title=\"Hashtag\")\n",
    "fig.update_xaxes(title=\"Usage percent\")\n",
    "\n",
    "fig.show()\n",
    "\n",
    "fig = px.histogram(y=dfSuspect.index, x=dfSuspect['count'], orientation='h')\n",
    "\n",
    "fig.update_layout(title=\"Use of suspect hashtag (total = %d)]\"%sum(dfHashtags['count']))\n",
    "fig.update_yaxes(title=\"Hashtag\")\n",
    "fig.update_xaxes(title=\"Usage\")\n",
    "\n",
    "fig.show()"
   ]
  },
  {
   "cell_type": "code",
   "execution_count": null,
   "id": "a40de360",
   "metadata": {},
   "outputs": [],
   "source": [
    "ut.visual_by_date_together(dfSuspect,dfUse)"
   ]
  },
  {
   "cell_type": "code",
   "execution_count": null,
   "id": "7b83d741",
   "metadata": {},
   "outputs": [],
   "source": [
    "dfUseSus = ut.process_df_uses_hashtags(df,dfSuspect.index)\n",
    "dfUseSus = dfUseSus.groupby('user').any()\n",
    "\n",
    "dfUseSus = ut.hashtagAND(dfSuspect.index,dfUseSus)\n",
    "\n",
    "for i in range(1,len(listHashtagsStudy)):\n",
    "    dfUseSus = ut.hashtagOR(dfSuspect.index,dfUseSus,'OR'+str(i),i)\n",
    "\n",
    "dfUseSus"
   ]
  },
  {
   "cell_type": "code",
   "execution_count": null,
   "id": "93a65d45",
   "metadata": {},
   "outputs": [],
   "source": [
    "print(\"Number of account noVax (in dataframe noVax) that uses at least i hashtags\")\n",
    "for i in range (1,6):\n",
    "    or_i = \"OR%d\"%i\n",
    "    dfUseHashtagNovax = dfUseSus[dfUseSus[or_i]]\n",
    "    print(\"\\ti =\",i,\":\\t\",(len(dfUseHashtagNovax) / len(dfUseSus))*100,\"%\")"
   ]
  },
  {
   "cell_type": "markdown",
   "id": "d0b979fe",
   "metadata": {},
   "source": [
    "# Save in html"
   ]
  },
  {
   "cell_type": "code",
   "execution_count": null,
   "id": "00d25cde",
   "metadata": {},
   "outputs": [],
   "source": [
    "%%javascript\n",
    "IPython.notebook.kernel.execute('nb_name = \"' + IPython.notebook.notebook_name + '\"')"
   ]
  },
  {
   "cell_type": "code",
   "execution_count": null,
   "id": "1071965c",
   "metadata": {},
   "outputs": [],
   "source": [
    "import os\n",
    "if os.system(\"jupyter nbconvert %s --to html\"%nb_name)==0:\n",
    "    print(\"Notebook converted correctly\")\n",
    "else:\n",
    "    print(\"Notebook convertion had an error\")"
   ]
  }
 ],
 "metadata": {
  "kernelspec": {
   "display_name": "Python 3",
   "language": "python",
   "name": "python3"
  },
  "language_info": {
   "codemirror_mode": {
    "name": "ipython",
    "version": 3
   },
   "file_extension": ".py",
   "mimetype": "text/x-python",
   "name": "python",
   "nbconvert_exporter": "python",
   "pygments_lexer": "ipython3",
   "version": "3.8.10"
  }
 },
 "nbformat": 4,
 "nbformat_minor": 5
}
