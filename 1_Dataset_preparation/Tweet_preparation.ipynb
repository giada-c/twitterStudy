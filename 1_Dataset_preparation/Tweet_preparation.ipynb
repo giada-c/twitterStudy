{
 "cells": [
  {
   "cell_type": "markdown",
   "id": "510d652f",
   "metadata": {},
   "source": [
    "# Import"
   ]
  },
  {
   "cell_type": "code",
   "execution_count": null,
   "id": "bccdfbda",
   "metadata": {},
   "outputs": [],
   "source": [
    "import pandas as pd\n",
    "\n",
    "import importlib\n",
    "import dataframes_util as ut\n",
    "importlib.reload(ut)"
   ]
  },
  {
   "cell_type": "markdown",
   "id": "cba38d26",
   "metadata": {},
   "source": [
    "# Concatenate all dataframes"
   ]
  },
  {
   "cell_type": "code",
   "execution_count": null,
   "id": "59ee3434",
   "metadata": {},
   "outputs": [],
   "source": [
    "dfPosts = ut.read_all_csv(\"data/**/tweets.csv\")"
   ]
  },
  {
   "cell_type": "code",
   "execution_count": null,
   "id": "0c09bcc3",
   "metadata": {},
   "outputs": [],
   "source": [
    "dfPosts.info()"
   ]
  },
  {
   "cell_type": "markdown",
   "id": "aa9f8c79",
   "metadata": {},
   "source": [
    "# Adding features to post dataframe"
   ]
  },
  {
   "cell_type": "markdown",
   "id": "26b705a9",
   "metadata": {},
   "source": [
    "## Adding info about user error"
   ]
  },
  {
   "cell_type": "code",
   "execution_count": null,
   "id": "3f8610d1",
   "metadata": {},
   "outputs": [],
   "source": [
    "dfUsersErrors = ut.read_all_csv(\"data/**/not_found_users/users_not_found_inspected.csv\")\n",
    "dfPosts['user_code_error'] = float('nan')\n",
    "\n",
    "for i,r in dfUsersErrors.iterrows():\n",
    "    #User\n",
    "    mask = dfPosts['user_id'] == r['id']\n",
    "    dfPosts.loc[mask,'user_code_error'] = r['code']\n",
    "    \n",
    "    #Retweeted user\n",
    "    mask = dfPosts['rt_user_id'] == r['id']\n",
    "    dfPosts.loc[mask,'rt_user_code_error'] = r['code']\n",
    "    \n",
    "    #Replied users\n",
    "    mask = dfPosts['in_reply_to_user_id'] == r['id']\n",
    "    dfPosts.loc[mask,'in_reply_to_user_code_error'] = r['code']"
   ]
  },
  {
   "cell_type": "code",
   "execution_count": null,
   "id": "ff84597f",
   "metadata": {},
   "outputs": [],
   "source": [
    "dfPosts"
   ]
  },
  {
   "cell_type": "markdown",
   "id": "47a3b1b3",
   "metadata": {},
   "source": [
    "## Adding info about self-retweet"
   ]
  },
  {
   "cell_type": "code",
   "execution_count": null,
   "id": "ba278b03",
   "metadata": {},
   "outputs": [],
   "source": [
    "dfPosts['is_self_rt'] = dfPosts['user_id'] == dfPosts['rt_user_id']"
   ]
  },
  {
   "cell_type": "markdown",
   "id": "121ba8e0",
   "metadata": {},
   "source": [
    "## Adding info about url credibility"
   ]
  },
  {
   "cell_type": "code",
   "execution_count": null,
   "id": "1f9d6a67",
   "metadata": {},
   "outputs": [],
   "source": [
    "tweets_with_urls = pd.read_csv('data/tweets_with_urls_and_domain_and_score.csv',low_memory=False,lineterminator='\\n',\n",
    "                              usecols=['user_id','number_of_urls','HIGH','LOW','UNKW','SOCIAL'])\n",
    "usersCred = ut.create_cred_score(tweets_with_urls)"
   ]
  },
  {
   "cell_type": "code",
   "execution_count": null,
   "id": "93bc4618",
   "metadata": {},
   "outputs": [],
   "source": [
    "dfPosts['user_url_cred'] = float('nan')\n",
    "dfPosts['rt_user_url_cred'] = float('nan')\n",
    "dfPosts['in_reply_to_user_url_cred'] = float('nan')\n",
    "\n",
    "\n",
    "for user_id,score in usersCred:    \n",
    "    #User\n",
    "    mask = dfPosts['user_id'] == user_id\n",
    "    dfPosts.loc[mask,'user_url_cred'] = score\n",
    "    \n",
    "    #Retweeted user\n",
    "    mask = dfPosts['rt_user_id'] == user_id\n",
    "    dfPosts.loc[mask,'rt_user_url_cred'] = score\n",
    "    \n",
    "    #Replied users\n",
    "    mask = dfPosts['in_reply_to_user_id'] == user_id\n",
    "    dfPosts.loc[mask,'in_reply_to_user_url_cred'] = score"
   ]
  },
  {
   "cell_type": "code",
   "execution_count": null,
   "id": "25b33162",
   "metadata": {},
   "outputs": [],
   "source": [
    "dfPosts"
   ]
  },
  {
   "cell_type": "markdown",
   "id": "172682ab",
   "metadata": {},
   "source": [
    "# Write to file .csv the complete dataframes"
   ]
  },
  {
   "cell_type": "code",
   "execution_count": null,
   "id": "63e6ceba",
   "metadata": {},
   "outputs": [],
   "source": [
    "dfPosts.to_csv('../tweets.csv', index=False) "
   ]
  }
 ],
 "metadata": {
  "kernelspec": {
   "display_name": "Python 3",
   "language": "python",
   "name": "python3"
  },
  "language_info": {
   "codemirror_mode": {
    "name": "ipython",
    "version": 3
   },
   "file_extension": ".py",
   "mimetype": "text/x-python",
   "name": "python",
   "nbconvert_exporter": "python",
   "pygments_lexer": "ipython3",
   "version": "3.8.10"
  }
 },
 "nbformat": 4,
 "nbformat_minor": 5
}
