{
 "cells": [
  {
   "cell_type": "markdown",
   "id": "510d652f",
   "metadata": {},
   "source": [
    "# Import"
   ]
  },
  {
   "cell_type": "code",
   "execution_count": null,
   "id": "bccdfbda",
   "metadata": {},
   "outputs": [],
   "source": [
    "import pandas as pd\n",
    "import numpy as np"
   ]
  },
  {
   "cell_type": "markdown",
   "id": "c7c54bcd",
   "metadata": {},
   "source": [
    "# Preparation "
   ]
  },
  {
   "cell_type": "code",
   "execution_count": null,
   "id": "0358c375",
   "metadata": {},
   "outputs": [],
   "source": [
    "dfPosts = pd.read_csv('../tweets.csv',low_memory=False)"
   ]
  },
  {
   "cell_type": "markdown",
   "id": "51ae0d27",
   "metadata": {},
   "source": [
    "# Retweet classification"
   ]
  },
  {
   "cell_type": "code",
   "execution_count": null,
   "id": "59ee3434",
   "metadata": {},
   "outputs": [],
   "source": [
    "dfProvaxRt = pd.read_csv('retweet_class/tweets_provax.csv',low_memory=False)\n",
    "dfNovaxRt = pd.read_csv('retweet_class/tweets_novax.csv',low_memory=False)\n",
    "dfDoubledRt = pd.read_csv('retweet_class/tweets_doubled_classified.csv',low_memory=False,usecols=['user_id'])"
   ]
  },
  {
   "cell_type": "markdown",
   "id": "bcd3e7bd",
   "metadata": {},
   "source": [
    "## Redirect of doubled classified suspect"
   ]
  },
  {
   "cell_type": "code",
   "execution_count": null,
   "id": "92cd0459",
   "metadata": {},
   "outputs": [],
   "source": [
    "doubled_class = dfDoubledRt['user_id'].unique()\n",
    "\n",
    "#TODO with networks\n",
    "dfNovaxRt = dfNovaxRt[dfNovaxRt['user_id'].isin(doubled_class) == False]\n",
    "dfProvaxRt = dfProvaxRt[dfProvaxRt['user_id'].isin(doubled_class) == False]"
   ]
  },
  {
   "cell_type": "markdown",
   "id": "628b08e4",
   "metadata": {},
   "source": [
    "# .CSV Creation "
   ]
  },
  {
   "cell_type": "markdown",
   "id": "9dc900d9",
   "metadata": {},
   "source": [
    "### Novax"
   ]
  },
  {
   "cell_type": "code",
   "execution_count": null,
   "id": "c627e0ed",
   "metadata": {},
   "outputs": [],
   "source": [
    "dfNovax = pd.concat([dfNovaxRt])\n",
    "dfNovax.drop_duplicates(['id'],inplace=True)\n",
    "dfNovax"
   ]
  },
  {
   "cell_type": "markdown",
   "id": "ad9f7656",
   "metadata": {},
   "source": [
    "### High credibility"
   ]
  },
  {
   "cell_type": "code",
   "execution_count": null,
   "id": "99f33d33",
   "metadata": {},
   "outputs": [],
   "source": [
    "dfProvax = pd.concat([dfProvaxRt])\n",
    "dfProvax.drop_duplicates(['id'],inplace=True)\n",
    "dfProvax"
   ]
  },
  {
   "cell_type": "markdown",
   "id": "21aa2700",
   "metadata": {},
   "source": [
    "### Other user"
   ]
  },
  {
   "cell_type": "code",
   "execution_count": null,
   "id": "1ec2b006",
   "metadata": {},
   "outputs": [],
   "source": [
    "idNovax = dfNovax.groupby('id').first().index\n",
    "dfOtherElem = dfPosts[dfPosts['id'].isin(idNovax) == False]\n",
    "\n",
    "idHigh = dfProvax.groupby('id').first().index\n",
    "dfOtherElem = dfOtherElem[dfOtherElem['id'].isin(idHigh) == False]\n",
    "\n",
    "dfOtherElem"
   ]
  },
  {
   "cell_type": "markdown",
   "id": "cf43999e",
   "metadata": {},
   "source": [
    "## Control if the dataframe are correctly created"
   ]
  },
  {
   "cell_type": "code",
   "execution_count": null,
   "id": "0297c7ae",
   "metadata": {},
   "outputs": [],
   "source": [
    "numPostControl = len(dfPosts) == len(dfProvax) + len(dfNovax) + len(dfOtherElem)\n",
    "numPostControl"
   ]
  },
  {
   "cell_type": "code",
   "execution_count": null,
   "id": "177da782",
   "metadata": {},
   "outputs": [],
   "source": [
    "numUserControl = len(dfPosts.groupby('user_screen_name').first().index) ==\\\n",
    "                                                        len(dfProvax.groupby('user_screen_name').first().index) \\\n",
    "                                                        + len(dfNovax.groupby('user_screen_name').first().index) \\\n",
    "                                                        + len(dfOtherElem.groupby('user_screen_name').first().index)\n",
    "numUserControl"
   ]
  },
  {
   "cell_type": "markdown",
   "id": "7a99b0f9",
   "metadata": {},
   "source": [
    "### Write dataframe to .csv"
   ]
  },
  {
   "cell_type": "code",
   "execution_count": null,
   "id": "7aa79266",
   "metadata": {},
   "outputs": [],
   "source": [
    "if (numPostControl & numUserControl):\n",
    "    dfOtherElem.to_csv('../tweets_notClass.csv', index=False)\n",
    "    dfProvax.to_csv('../tweets_provax.csv', index=False)\n",
    "    dfNovax.to_csv('../tweets_novax.csv', index=False)\n",
    "else:\n",
    "    print('The users are not correctly divided')"
   ]
  }
 ],
 "metadata": {
  "kernelspec": {
   "display_name": "Python 3",
   "language": "python",
   "name": "python3"
  },
  "language_info": {
   "codemirror_mode": {
    "name": "ipython",
    "version": 3
   },
   "file_extension": ".py",
   "mimetype": "text/x-python",
   "name": "python",
   "nbconvert_exporter": "python",
   "pygments_lexer": "ipython3",
   "version": "3.8.10"
  }
 },
 "nbformat": 4,
 "nbformat_minor": 5
}
