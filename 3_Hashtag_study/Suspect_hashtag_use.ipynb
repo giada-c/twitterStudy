{
 "cells": [
  {
   "cell_type": "markdown",
   "id": "607f5bd3",
   "metadata": {},
   "source": [
    "# Study usage of suspect hashtag"
   ]
  },
  {
   "cell_type": "markdown",
   "id": "8f95f8ed",
   "metadata": {},
   "source": [
    "## Import"
   ]
  },
  {
   "cell_type": "code",
   "execution_count": null,
   "id": "6fd03770",
   "metadata": {},
   "outputs": [],
   "source": [
    "import pandas as pd\n",
    "import json\n",
    "import numpy as np\n",
    "from itertools import repeat\n",
    "\n",
    "from plotly.subplots import make_subplots\n",
    "import plotly.express as px\n",
    "import plotly.graph_objects as go\n",
    "\n",
    "from concurrent.futures import wait as futures_wait\n",
    "from concurrent.futures.process import ProcessPoolExecutor\n",
    "\n",
    "import importlib\n",
    "import hashtag_util as ut"
   ]
  },
  {
   "cell_type": "markdown",
   "id": "eaf3b72f",
   "metadata": {},
   "source": [
    "## Dataset preparation"
   ]
  },
  {
   "cell_type": "code",
   "execution_count": null,
   "id": "330b2511",
   "metadata": {},
   "outputs": [],
   "source": [
    "df = pd.read_csv('../tweets.csv',low_memory=False,\n",
    "                 usecols=['hashtags','user_screen_name','created_at','user_created_at','user_code_error'])\n",
    "\n",
    "df"
   ]
  },
  {
   "cell_type": "code",
   "execution_count": null,
   "id": "b102f2f9",
   "metadata": {},
   "outputs": [],
   "source": [
    "df['created_at'] = pd.to_datetime(df['created_at'], format=\"%a %b %d %X %z %Y\")"
   ]
  },
  {
   "cell_type": "code",
   "execution_count": null,
   "id": "acc9ce99",
   "metadata": {},
   "outputs": [],
   "source": [
    "listHashtagsStudy = ['5g','billgates','dittatura*.','.*disobbedisco','nessunacorrelazione','byoblu*.']"
   ]
  },
  {
   "cell_type": "code",
   "execution_count": null,
   "id": "9c77bfd7",
   "metadata": {},
   "outputs": [],
   "source": [
    "importlib.reload(ut)\n",
    "\n",
    "dfUse = ut.process_df_uses_hashtags(df,listHashtagsStudy)\n",
    "dfUse"
   ]
  },
  {
   "cell_type": "code",
   "execution_count": null,
   "id": "336d973f",
   "metadata": {},
   "outputs": [],
   "source": [
    "dfUseHashtag = dfUse.groupby('user').any()\n",
    "dfUseHashtag['user_created_at'] = pd.to_datetime(df.groupby('user_screen_name').first()['user_created_at'],\n",
    "                                                 format=\"%a %b %d %X %z %Y\")\n",
    "dfUseHashtag['user_error'] = df.groupby('user_screen_name').first()['user_code_error']"
   ]
  },
  {
   "cell_type": "code",
   "execution_count": null,
   "id": "487c0985",
   "metadata": {},
   "outputs": [],
   "source": [
    "importlib.reload(ut)\n",
    "\n",
    "dfUseHashtag = ut.hashtagAND(listHashtagsStudy,dfUseHashtag)\n",
    "for i in range(1,len(listHashtagsStudy)):\n",
    "    dfUseHashtag = ut.hashtagOR(listHashtagsStudy,dfUseHashtag,'OR'+str(i),i)"
   ]
  },
  {
   "cell_type": "code",
   "execution_count": null,
   "id": "9d97e729",
   "metadata": {},
   "outputs": [],
   "source": [
    "dfUseHashtag"
   ]
  },
  {
   "cell_type": "markdown",
   "id": "5e4b3ef1",
   "metadata": {},
   "source": [
    "## General study of the hashtags"
   ]
  },
  {
   "cell_type": "code",
   "execution_count": null,
   "id": "367b5cb2",
   "metadata": {},
   "outputs": [],
   "source": [
    "for i in range(1,len(listHashtagsStudy)):\n",
    "    print(\"User that have used at least %d hashtags (%i)\"%(i,sum(dfUseHashtag['OR'+str(i)])))\n",
    "    for u in dfUseHashtag.index:\n",
    "        if dfUseHashtag['OR'+str(i)][u]:\n",
    "            print(\"\\t%s\"%u)\n"
   ]
  },
  {
   "cell_type": "code",
   "execution_count": null,
   "id": "7eed1e96",
   "metadata": {},
   "outputs": [],
   "source": [
    "fig = make_subplots(rows=1,cols=2,subplot_titles=(\"All account\",\"Account that used at least one hashtag\"))\n",
    "\n",
    "\n",
    "fig.add_trace(go.Histogram(x=dfUseHashtag['user_created_at'], y=dfUseHashtag['OR1'], nbinsx = 100),\n",
    "              row=1,col=1)\n",
    "fig.add_trace(go.Histogram(x=dfUseHashtag.loc[dfUseHashtag['OR1'],'user_created_at'], \n",
    "                           y=dfUseHashtag.loc[dfUseHashtag['OR1'],'OR1'],nbinsx = 100),\n",
    "             row=1,col=2)\n",
    "fig.update_layout(title=\"Relation between use of Hashtag and the date of creation of the account\",\n",
    "                  xaxis_title='Date',yaxis_title='user count',showlegend=False)\n",
    "fig.show()"
   ]
  },
  {
   "cell_type": "code",
   "execution_count": null,
   "id": "12c3c2d6",
   "metadata": {},
   "outputs": [],
   "source": [
    "fig = make_subplots(rows=1,cols=2,specs=[[{'type':'domain'}, {'type':'domain'}]])\n",
    "\n",
    "values = [sum(dfUseHashtag['AND']), len(dfUseHashtag) - sum(dfUseHashtag['AND'])]\n",
    "names = ['Yes', 'No']\n",
    "\n",
    "fig.add_trace(go.Pie(labels = names, values = values,title=\"Uses of the hashtag respect all hastags (AND)\",textposition='inside')\n",
    "              ,row=1,col=1)\n",
    "\n",
    "values = [sum(dfUseHashtag['OR1']), len(dfUseHashtag) - sum(dfUseHashtag['OR1'])]\n",
    "fig.add_trace(go.Pie(labels = names, values = values,title=\"Uses of the hashtag respect all hastags (at least one)\",textposition='inside')\n",
    "              ,row=1,col=2)\n",
    "\n",
    "fig.show()"
   ]
  },
  {
   "cell_type": "code",
   "execution_count": null,
   "id": "ac17e845",
   "metadata": {},
   "outputs": [],
   "source": [
    "df1 = pd.DataFrame()\n",
    "df1.loc[0,'name'] = 'AND'\n",
    "df1.loc[0,'numHashtags'] = sum(dfUseHashtag['AND'])\n",
    "for i in range(1,len(listHashtagsStudy)):\n",
    "    df1.loc[i,'name'] = 'OR'+str(i) \n",
    "    df1.loc[i,'numHashtags'] = sum(dfUseHashtag['OR'+str(i)])\n",
    "\n",
    "\n",
    "fig = px.pie(df1, values='numHashtags', names='name', title='Uses of suspicious hashtags')\n",
    "fig.show()\n",
    "\n",
    "df1.loc[0,'name'] = 'None'\n",
    "df1.loc[0,'numHashtags'] = len(dfUseHashtag) - sum(dfUseHashtag['OR1'])\n",
    "\n",
    "fig = px.pie(df1, values='numHashtags', names='name', title='Uses of suspicious hashtags')\n",
    "fig.show()"
   ]
  },
  {
   "cell_type": "code",
   "execution_count": null,
   "id": "c3b97af2",
   "metadata": {},
   "outputs": [],
   "source": [
    "for i,h in enumerate(listHashtagsStudy):\n",
    "    df1.loc[i,'name'] = h\n",
    "    df1.loc[i,'numHashtags'] = sum(dfUseHashtag[h])\n",
    "\n",
    "fig = px.pie(df1, values='numHashtags', names='name', title='Uses of suspicious hashtags')\n",
    "fig.update_traces(textinfo='percent+value')\n",
    "fig.show()"
   ]
  },
  {
   "cell_type": "code",
   "execution_count": null,
   "id": "e71c3664",
   "metadata": {},
   "outputs": [],
   "source": [
    "#Error code of user that uses this hashtag\n",
    "print (\"%d users have used a suspicious hashtag and have been suspended\"\n",
    "       %len(dfUseHashtag.loc[(dfUseHashtag['user_error']==63) & (dfUseHashtag['OR1']==True)]))\n",
    "dfUseHashtag.loc[(dfUseHashtag['user_error']==63) & (dfUseHashtag['OR1']==True)]"
   ]
  },
  {
   "cell_type": "markdown",
   "id": "14df2fd4",
   "metadata": {},
   "source": [
    "## Comparison with noVax users"
   ]
  },
  {
   "cell_type": "code",
   "execution_count": null,
   "id": "1466eddd",
   "metadata": {},
   "outputs": [],
   "source": [
    "dfNovax = pd.read_csv('../tweets_novax.csv',low_memory=False, usecols=['user_screen_name'])\n",
    "user_novax = list(dfNovax.groupby('user_screen_name').first().index)"
   ]
  },
  {
   "cell_type": "code",
   "execution_count": null,
   "id": "a62eea44",
   "metadata": {},
   "outputs": [],
   "source": [
    "print(\"Number of account noVax (in dataframe noVax) that uses at least i hashtags\")\n",
    "for i in range (1,6):\n",
    "    or_i = \"OR%d\"%i\n",
    "    df1 = dfUseHashtag[dfUseHashtag[or_i]]\n",
    "    dfUseHashtagNovax = df1[df1.index.isin(user_novax)]\n",
    "    print(\"\\ti =\",i,\":\\t\",(len(dfUseHashtagNovax) / len(df1))*100,\"%\")"
   ]
  },
  {
   "cell_type": "code",
   "execution_count": null,
   "id": "95d74d9d",
   "metadata": {},
   "outputs": [],
   "source": [
    "dfUseByDate = ut.process_dfUse(df)\n",
    "dfUseByDate"
   ]
  },
  {
   "cell_type": "code",
   "execution_count": null,
   "id": "3ba05491",
   "metadata": {},
   "outputs": [],
   "source": [
    "import re\n",
    "l = []\n",
    "for h in dfUseByDate['hashtag'].unique():\n",
    "    for r in listHashtagsStudy:\n",
    "        if re.match(r,h):\n",
    "            l.append(h)\n",
    "l = list(set(l))"
   ]
  },
  {
   "cell_type": "code",
   "execution_count": null,
   "id": "22e5dfd5",
   "metadata": {},
   "outputs": [],
   "source": [
    "ut.visual_by_date_together(pd.DataFrame(l).groupby(0).count(),dfUseByDate,50)"
   ]
  },
  {
   "cell_type": "markdown",
   "id": "d0b979fe",
   "metadata": {},
   "source": [
    "# Save in html"
   ]
  },
  {
   "cell_type": "code",
   "execution_count": null,
   "id": "00d25cde",
   "metadata": {},
   "outputs": [],
   "source": [
    "%%javascript\n",
    "IPython.notebook.kernel.execute('nb_name = \"' + IPython.notebook.notebook_name + '\"')"
   ]
  },
  {
   "cell_type": "code",
   "execution_count": null,
   "id": "1071965c",
   "metadata": {},
   "outputs": [],
   "source": [
    "import os\n",
    "if os.system(\"jupyter nbconvert %s --to html\"%nb_name)==0:\n",
    "    print(\"Notebook converted correctly\")\n",
    "else:\n",
    "    print(\"Notebook convertion had an error\")"
   ]
  }
 ],
 "metadata": {
  "kernelspec": {
   "display_name": "Python 3",
   "language": "python",
   "name": "python3"
  },
  "language_info": {
   "codemirror_mode": {
    "name": "ipython",
    "version": 3
   },
   "file_extension": ".py",
   "mimetype": "text/x-python",
   "name": "python",
   "nbconvert_exporter": "python",
   "pygments_lexer": "ipython3",
   "version": "3.8.10"
  }
 },
 "nbformat": 4,
 "nbformat_minor": 5
}
