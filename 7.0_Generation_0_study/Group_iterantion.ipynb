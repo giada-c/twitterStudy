{
 "cells": [
  {
   "cell_type": "markdown",
   "id": "4de183c0",
   "metadata": {},
   "source": [
    "# Group study - Retweet classification"
   ]
  },
  {
   "cell_type": "markdown",
   "id": "8f95f8ed",
   "metadata": {},
   "source": [
    "## Import"
   ]
  },
  {
   "cell_type": "code",
   "execution_count": 1,
   "id": "6fd03770",
   "metadata": {},
   "outputs": [],
   "source": [
    "import pandas as pd\n",
    "import numpy as np\n",
    "import plotly.express as px\n",
    "\n",
    "import importlib\n",
    "import sys\n",
    "sys.path.insert(0, '../5.0_Group_study(todo)')\n",
    "import group_util as ut\n",
    "sys.path.insert(0, '..')\n",
    "import general_utils as gen_ut"
   ]
  },
  {
   "cell_type": "markdown",
   "id": "b76d53d5",
   "metadata": {},
   "source": [
    "## Dataset and general info preparation"
   ]
  },
  {
   "cell_type": "code",
   "execution_count": 2,
   "id": "9b4b0fda",
   "metadata": {},
   "outputs": [],
   "source": [
    "cols_study = ['user_screen_name','user_mentions','rt_user_screen_name','in_reply_to_screen_name', 'user_url_cred',\n",
    "             'rt_created_at','quoted_status_id','in_reply_to_user_id','in_reply_to_screen_name','rt_user_screen_name']\n",
    "base_path = '../'"
   ]
  },
  {
   "cell_type": "code",
   "execution_count": 3,
   "id": "6eaa984e",
   "metadata": {},
   "outputs": [],
   "source": [
    "df = pd.read_csv('../tweets.csv',low_memory=False,\n",
    "                 usecols=cols_study)"
   ]
  },
  {
   "cell_type": "code",
   "execution_count": null,
   "id": "4e388cca",
   "metadata": {},
   "outputs": [],
   "source": []
  },
  {
   "cell_type": "code",
   "execution_count": 4,
   "id": "e0aefa09",
   "metadata": {},
   "outputs": [],
   "source": [
    "data = pd.read_csv('../1_Dataset_preparation/listControlledUsers.csv')  \n",
    "novaxUsers = data[data['malicious']]\n",
    "provaxUsers = data[data['benevolent']]\n",
    "\n",
    "dfNovax = df[np.in1d(df['user_screen_name'], novaxUsers)].copy()\n",
    "dfProvax = df[np.in1d(df['user_screen_name'], provaxUsers)].copy()"
   ]
  },
  {
   "cell_type": "code",
   "execution_count": 5,
   "id": "d1698ad2",
   "metadata": {},
   "outputs": [],
   "source": [
    "numTotalUsers = len(df.groupby('user_screen_name').count())\n",
    "numTotalPosts = len(df)"
   ]
  },
  {
   "cell_type": "code",
   "execution_count": 6,
   "id": "66f50470",
   "metadata": {},
   "outputs": [],
   "source": [
    "tweets,retweet,reply,quotes = gen_ut.separate_post_type(df)  \n",
    "\n",
    "numTotalRealTweet = len(tweets)"
   ]
  },
  {
   "cell_type": "markdown",
   "id": "637b2af0",
   "metadata": {},
   "source": [
    "## Dataframe about information populate"
   ]
  },
  {
   "cell_type": "code",
   "execution_count": 7,
   "id": "5b18feaa",
   "metadata": {},
   "outputs": [],
   "source": [
    "dfGeneralInfo = pd.DataFrame()\n",
    "dfOriginalTweetInfo = pd.DataFrame()\n",
    "dfRetweetInfo = pd.DataFrame()\n",
    "dfReplyInfo = pd.DataFrame()\n",
    "dfQuotesInfo = pd.DataFrame()"
   ]
  },
  {
   "cell_type": "code",
   "execution_count": 8,
   "id": "3c7a016e",
   "metadata": {},
   "outputs": [],
   "source": [
    "def dfInfoPopulate(index,df):\n",
    "    tweets,retweet,reply,quotes = gen_ut.separate_post_type(df)  \n",
    "    \n",
    "    dfGeneralInfo.loc[index,'user'] = len(df.groupby('user_screen_name').count())\n",
    "    dfGeneralInfo.loc[index,'user %'] = (dfGeneralInfo.loc[index,'user'] / numTotalUsers) * 100\n",
    "\n",
    "    dfGeneralInfo.loc[index,'post'] = len(df)\n",
    "    dfGeneralInfo.loc[index,'post %'] = (dfGeneralInfo.loc[index,'post'] / numTotalPosts) * 100\n",
    "    \n",
    "    #Original tweet\n",
    "    dfOriginalTweetInfo.loc[index,'original_tweets'] = len(tweets.groupby('user_screen_name').count())\n",
    "    dfOriginalTweetInfo.loc[index,'original_tweets %'] = (dfOriginalTweetInfo.loc[index,'original_tweets']\n",
    "                                                          / numTotalRealTweet) * 100\n",
    "\n",
    "    #Retweet\n",
    "    dfRetweetInfo.loc[index,'retweets'] = len(retweet)\n",
    "    rt_novax = len(retweet[np.in1d(retweet['rt_user_screen_name'], novaxUsers)])\n",
    "    rt_high = len(retweet[np.in1d(retweet['rt_user_screen_name'], provaxUsers)])\n",
    "    #rt_other = len(retweet[retweet['rt_user_screen_name'].isin(otherUser)])\n",
    "    \n",
    "    dfRetweetInfo.loc[index,'retweets (novax)'] = rt_novax\n",
    "    dfRetweetInfo.loc[index,'retweets %(novax)'] = (rt_novax / dfRetweetInfo.loc[index,'retweets']) * 100\n",
    "    \n",
    "    dfRetweetInfo.loc[index,'retweets (high credibility)'] = rt_high\n",
    "    dfRetweetInfo.loc[index,'retweets %(high credibility)'] = (rt_high / dfRetweetInfo.loc[index,'retweets']) * 100\n",
    "    \n",
    "    #dfRetweetInfo.loc[index,'retweets (other users)'] = rt_other\n",
    "    #dfRetweetInfo.loc[index,'retweets %(other users)'] = (rt_other / dfRetweetInfo.loc[index,'retweets']) * 100\n",
    "    \n",
    "    \n",
    "    #Reply\n",
    "    dfReplyInfo.loc[index,'reply'] = len(reply)\n",
    "    rp_novax = len(reply[np.in1d(reply['in_reply_to_screen_name'], novaxUsers)])\n",
    "    rp_high = len(reply[np.in1d(reply['in_reply_to_screen_name'], provaxUsers)])\n",
    "    #rp_other = len(reply[reply['in_reply_to_screen_name'].isin(otherUser)])\n",
    "    \n",
    "    dfReplyInfo.loc[index,'reply (novax)'] = rp_novax\n",
    "    dfReplyInfo.loc[index,'reply %(novax)'] = (rp_novax / dfReplyInfo.loc[index,'reply']) * 100\n",
    "    \n",
    "    dfReplyInfo.loc[index,'reply (high credibility)'] = rp_high\n",
    "    dfReplyInfo.loc[index,'reply %(high credibility)'] = (rp_high / dfReplyInfo.loc[index,'reply']) * 100\n",
    "    \n",
    "    #dfReplyInfo.loc[index,'reply (other users)'] = rp_other\n",
    "    #dfReplyInfo.loc[index,'reply %(other users)'] = (rp_other / dfReplyInfo.loc[index,'reply']) * 100\n",
    "    \n",
    "    \n",
    "    #Quotes\n",
    "    dfQuotesInfo.loc[index,'quotes'] = len(quotes)\n",
    "    qt_novax = len(quotes[np.in1d(quotes['user_mentions'], novaxUsers)])\n",
    "    qt_provax = len(quotes[np.in1d(quotes['user_mentions'], provaxUsers)])\n",
    "    #rp_other = len(reply[reply['in_reply_to_screen_name'].isin(otherUser)])\n",
    "    \n",
    "    dfQuotesInfo.loc[index,'quotes (novax)'] = qt_novax\n",
    "    dfQuotesInfo.loc[index,'quotes %(novax)'] = (qt_novax / dfQuotesInfo.loc[index,'quotes']) * 100\n",
    "    \n",
    "    dfQuotesInfo.loc[index,'quotes (high credibility)'] = qt_provax\n",
    "    dfQuotesInfo.loc[index,'quotes %(high credibility)'] = (qt_provax / dfQuotesInfo.loc[index,'quotes']) * 100\n",
    "    \n",
    "    #dfQuotesInfo.loc[index,'quotes (other users)'] = rp_other\n",
    "    #dfQuotesInfo.loc[index,'quotes %(other users)'] = (rp_other / dfQuotesInfo.loc[index,'quotes']) * 100"
   ]
  },
  {
   "cell_type": "code",
   "execution_count": 9,
   "id": "8c15ddd7",
   "metadata": {},
   "outputs": [],
   "source": [
    "dfInfoPopulate('benevolent',dfProvax)\n",
    "dfInfoPopulate('malicious',dfNovax)\n",
    "#dfInfoPopulate('other_user',dfOther)"
   ]
  },
  {
   "cell_type": "markdown",
   "id": "e5b447ea",
   "metadata": {},
   "source": [
    "## Information printing"
   ]
  },
  {
   "cell_type": "code",
   "execution_count": 10,
   "id": "9c2ca6db",
   "metadata": {},
   "outputs": [
    {
     "data": {
      "text/html": [
       "<div>\n",
       "<style scoped>\n",
       "    .dataframe tbody tr th:only-of-type {\n",
       "        vertical-align: middle;\n",
       "    }\n",
       "\n",
       "    .dataframe tbody tr th {\n",
       "        vertical-align: top;\n",
       "    }\n",
       "\n",
       "    .dataframe thead th {\n",
       "        text-align: right;\n",
       "    }\n",
       "</style>\n",
       "<table border=\"1\" class=\"dataframe\">\n",
       "  <thead>\n",
       "    <tr style=\"text-align: right;\">\n",
       "      <th></th>\n",
       "      <th>user</th>\n",
       "      <th>user %</th>\n",
       "      <th>post</th>\n",
       "      <th>post %</th>\n",
       "    </tr>\n",
       "  </thead>\n",
       "  <tbody>\n",
       "    <tr>\n",
       "      <th>benevolent</th>\n",
       "      <td>24.0</td>\n",
       "      <td>0.007862</td>\n",
       "      <td>3400.0</td>\n",
       "      <td>0.083884</td>\n",
       "    </tr>\n",
       "    <tr>\n",
       "      <th>malicious</th>\n",
       "      <td>55.0</td>\n",
       "      <td>0.018017</td>\n",
       "      <td>103552.0</td>\n",
       "      <td>2.554820</td>\n",
       "    </tr>\n",
       "  </tbody>\n",
       "</table>\n",
       "</div>"
      ],
      "text/plain": [
       "            user    user %      post    post %\n",
       "benevolent  24.0  0.007862    3400.0  0.083884\n",
       "malicious   55.0  0.018017  103552.0  2.554820"
      ]
     },
     "execution_count": 10,
     "metadata": {},
     "output_type": "execute_result"
    }
   ],
   "source": [
    "dfGeneralInfo"
   ]
  },
  {
   "cell_type": "code",
   "execution_count": 11,
   "id": "8408ac55",
   "metadata": {},
   "outputs": [
    {
     "data": {
      "text/html": [
       "<div>\n",
       "<style scoped>\n",
       "    .dataframe tbody tr th:only-of-type {\n",
       "        vertical-align: middle;\n",
       "    }\n",
       "\n",
       "    .dataframe tbody tr th {\n",
       "        vertical-align: top;\n",
       "    }\n",
       "\n",
       "    .dataframe thead th {\n",
       "        text-align: right;\n",
       "    }\n",
       "</style>\n",
       "<table border=\"1\" class=\"dataframe\">\n",
       "  <thead>\n",
       "    <tr style=\"text-align: right;\">\n",
       "      <th></th>\n",
       "      <th>original_tweets</th>\n",
       "      <th>original_tweets %</th>\n",
       "    </tr>\n",
       "  </thead>\n",
       "  <tbody>\n",
       "    <tr>\n",
       "      <th>benevolent</th>\n",
       "      <td>24.0</td>\n",
       "      <td>0.003278</td>\n",
       "    </tr>\n",
       "    <tr>\n",
       "      <th>malicious</th>\n",
       "      <td>52.0</td>\n",
       "      <td>0.007103</td>\n",
       "    </tr>\n",
       "  </tbody>\n",
       "</table>\n",
       "</div>"
      ],
      "text/plain": [
       "            original_tweets  original_tweets %\n",
       "benevolent             24.0           0.003278\n",
       "malicious              52.0           0.007103"
      ]
     },
     "execution_count": 11,
     "metadata": {},
     "output_type": "execute_result"
    }
   ],
   "source": [
    "dfOriginalTweetInfo"
   ]
  },
  {
   "cell_type": "code",
   "execution_count": 12,
   "id": "acad9c09",
   "metadata": {},
   "outputs": [
    {
     "data": {
      "text/html": [
       "<div>\n",
       "<style scoped>\n",
       "    .dataframe tbody tr th:only-of-type {\n",
       "        vertical-align: middle;\n",
       "    }\n",
       "\n",
       "    .dataframe tbody tr th {\n",
       "        vertical-align: top;\n",
       "    }\n",
       "\n",
       "    .dataframe thead th {\n",
       "        text-align: right;\n",
       "    }\n",
       "</style>\n",
       "<table border=\"1\" class=\"dataframe\">\n",
       "  <thead>\n",
       "    <tr style=\"text-align: right;\">\n",
       "      <th></th>\n",
       "      <th>retweets</th>\n",
       "      <th>retweets (novax)</th>\n",
       "      <th>retweets %(novax)</th>\n",
       "      <th>retweets (high credibility)</th>\n",
       "      <th>retweets %(high credibility)</th>\n",
       "    </tr>\n",
       "  </thead>\n",
       "  <tbody>\n",
       "    <tr>\n",
       "      <th>benevolent</th>\n",
       "      <td>882.0</td>\n",
       "      <td>0.0</td>\n",
       "      <td>0.000000</td>\n",
       "      <td>537.0</td>\n",
       "      <td>60.884354</td>\n",
       "    </tr>\n",
       "    <tr>\n",
       "      <th>malicious</th>\n",
       "      <td>75806.0</td>\n",
       "      <td>19151.0</td>\n",
       "      <td>25.263172</td>\n",
       "      <td>17.0</td>\n",
       "      <td>0.022426</td>\n",
       "    </tr>\n",
       "  </tbody>\n",
       "</table>\n",
       "</div>"
      ],
      "text/plain": [
       "            retweets  retweets (novax)  retweets %(novax)  \\\n",
       "benevolent     882.0               0.0           0.000000   \n",
       "malicious    75806.0           19151.0          25.263172   \n",
       "\n",
       "            retweets (high credibility)  retweets %(high credibility)  \n",
       "benevolent                        537.0                     60.884354  \n",
       "malicious                          17.0                      0.022426  "
      ]
     },
     "execution_count": 12,
     "metadata": {},
     "output_type": "execute_result"
    }
   ],
   "source": [
    "dfRetweetInfo"
   ]
  },
  {
   "cell_type": "code",
   "execution_count": 13,
   "id": "4c699100",
   "metadata": {},
   "outputs": [
    {
     "data": {
      "text/html": [
       "<div>\n",
       "<style scoped>\n",
       "    .dataframe tbody tr th:only-of-type {\n",
       "        vertical-align: middle;\n",
       "    }\n",
       "\n",
       "    .dataframe tbody tr th {\n",
       "        vertical-align: top;\n",
       "    }\n",
       "\n",
       "    .dataframe thead th {\n",
       "        text-align: right;\n",
       "    }\n",
       "</style>\n",
       "<table border=\"1\" class=\"dataframe\">\n",
       "  <thead>\n",
       "    <tr style=\"text-align: right;\">\n",
       "      <th></th>\n",
       "      <th>reply</th>\n",
       "      <th>reply (novax)</th>\n",
       "      <th>reply %(novax)</th>\n",
       "      <th>reply (high credibility)</th>\n",
       "      <th>reply %(high credibility)</th>\n",
       "    </tr>\n",
       "  </thead>\n",
       "  <tbody>\n",
       "    <tr>\n",
       "      <th>benevolent</th>\n",
       "      <td>841.0</td>\n",
       "      <td>8.0</td>\n",
       "      <td>0.951249</td>\n",
       "      <td>199.0</td>\n",
       "      <td>23.662307</td>\n",
       "    </tr>\n",
       "    <tr>\n",
       "      <th>malicious</th>\n",
       "      <td>7437.0</td>\n",
       "      <td>1235.0</td>\n",
       "      <td>16.606158</td>\n",
       "      <td>94.0</td>\n",
       "      <td>1.263951</td>\n",
       "    </tr>\n",
       "  </tbody>\n",
       "</table>\n",
       "</div>"
      ],
      "text/plain": [
       "             reply  reply (novax)  reply %(novax)  reply (high credibility)  \\\n",
       "benevolent   841.0            8.0        0.951249                     199.0   \n",
       "malicious   7437.0         1235.0       16.606158                      94.0   \n",
       "\n",
       "            reply %(high credibility)  \n",
       "benevolent                  23.662307  \n",
       "malicious                    1.263951  "
      ]
     },
     "execution_count": 13,
     "metadata": {},
     "output_type": "execute_result"
    }
   ],
   "source": [
    "dfReplyInfo"
   ]
  },
  {
   "cell_type": "code",
   "execution_count": 14,
   "id": "3176a13e",
   "metadata": {},
   "outputs": [
    {
     "data": {
      "text/html": [
       "<div>\n",
       "<style scoped>\n",
       "    .dataframe tbody tr th:only-of-type {\n",
       "        vertical-align: middle;\n",
       "    }\n",
       "\n",
       "    .dataframe tbody tr th {\n",
       "        vertical-align: top;\n",
       "    }\n",
       "\n",
       "    .dataframe thead th {\n",
       "        text-align: right;\n",
       "    }\n",
       "</style>\n",
       "<table border=\"1\" class=\"dataframe\">\n",
       "  <thead>\n",
       "    <tr style=\"text-align: right;\">\n",
       "      <th></th>\n",
       "      <th>quotes</th>\n",
       "      <th>quotes (novax)</th>\n",
       "      <th>quotes %(novax)</th>\n",
       "      <th>quotes (high credibility)</th>\n",
       "      <th>quotes %(high credibility)</th>\n",
       "    </tr>\n",
       "  </thead>\n",
       "  <tbody>\n",
       "    <tr>\n",
       "      <th>benevolent</th>\n",
       "      <td>463.0</td>\n",
       "      <td>0.0</td>\n",
       "      <td>0.0</td>\n",
       "      <td>0.0</td>\n",
       "      <td>0.0</td>\n",
       "    </tr>\n",
       "    <tr>\n",
       "      <th>malicious</th>\n",
       "      <td>5287.0</td>\n",
       "      <td>0.0</td>\n",
       "      <td>0.0</td>\n",
       "      <td>0.0</td>\n",
       "      <td>0.0</td>\n",
       "    </tr>\n",
       "  </tbody>\n",
       "</table>\n",
       "</div>"
      ],
      "text/plain": [
       "            quotes  quotes (novax)  quotes %(novax)  \\\n",
       "benevolent   463.0             0.0              0.0   \n",
       "malicious   5287.0             0.0              0.0   \n",
       "\n",
       "            quotes (high credibility)  quotes %(high credibility)  \n",
       "benevolent                        0.0                         0.0  \n",
       "malicious                         0.0                         0.0  "
      ]
     },
     "execution_count": 14,
     "metadata": {},
     "output_type": "execute_result"
    }
   ],
   "source": [
    "dfQuotesInfo"
   ]
  }
 ],
 "metadata": {
  "interpreter": {
   "hash": "1f708736793de3fc0c02bbe85b1c7aa3dac1d3a33c8c658a64d0d602cb53d4fc"
  },
  "kernelspec": {
   "display_name": "Python 3",
   "language": "python",
   "name": "python3"
  },
  "language_info": {
   "codemirror_mode": {
    "name": "ipython",
    "version": 3
   },
   "file_extension": ".py",
   "mimetype": "text/x-python",
   "name": "python",
   "nbconvert_exporter": "python",
   "pygments_lexer": "ipython3",
   "version": "3.8.10"
  }
 },
 "nbformat": 4,
 "nbformat_minor": 5
}
