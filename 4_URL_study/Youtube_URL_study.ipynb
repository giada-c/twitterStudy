{
 "cells": [
  {
   "cell_type": "markdown",
   "id": "607f5bd3",
   "metadata": {},
   "source": [
    "# Youtube URL study"
   ]
  },
  {
   "cell_type": "markdown",
   "id": "8f95f8ed",
   "metadata": {},
   "source": [
    "## Import"
   ]
  },
  {
   "cell_type": "code",
   "execution_count": 1,
   "id": "6fd03770",
   "metadata": {},
   "outputs": [],
   "source": [
    "import pandas as pd\n",
    "\n",
    "from matplotlib.pyplot import figure\n",
    "import matplotlib.pyplot as plt\n",
    "\n",
    "import sys\n",
    "import url_util as ut\n",
    "sys.path.insert(0, '../')\n",
    "import general_utils as gen_ut"
   ]
  },
  {
   "cell_type": "markdown",
   "id": "eaf3b72f",
   "metadata": {},
   "source": [
    "## Dataset preparation"
   ]
  },
  {
   "cell_type": "code",
   "execution_count": 2,
   "id": "330b2511",
   "metadata": {},
   "outputs": [
    {
     "data": {
      "text/html": [
       "<div>\n",
       "<style scoped>\n",
       "    .dataframe tbody tr th:only-of-type {\n",
       "        vertical-align: middle;\n",
       "    }\n",
       "\n",
       "    .dataframe tbody tr th {\n",
       "        vertical-align: top;\n",
       "    }\n",
       "\n",
       "    .dataframe thead th {\n",
       "        text-align: right;\n",
       "    }\n",
       "</style>\n",
       "<table border=\"1\" class=\"dataframe\">\n",
       "  <thead>\n",
       "    <tr style=\"text-align: right;\">\n",
       "      <th></th>\n",
       "      <th>title</th>\n",
       "      <th>description</th>\n",
       "      <th>type</th>\n",
       "      <th>available</th>\n",
       "      <th>reason</th>\n",
       "      <th>occurrency</th>\n",
       "    </tr>\n",
       "    <tr>\n",
       "      <th>url</th>\n",
       "      <th></th>\n",
       "      <th></th>\n",
       "      <th></th>\n",
       "      <th></th>\n",
       "      <th></th>\n",
       "      <th></th>\n",
       "    </tr>\n",
       "  </thead>\n",
       "  <tbody>\n",
       "    <tr>\n",
       "      <th>https://www.youtube.com/watch?v=U-kC9XkT7Eo</th>\n",
       "      <td>I LOCKDOWNS: DISTRUGGERANNO PIU' VITE DI QUANT...</td>\n",
       "      <td>Intervista all'epidemiologa di punta della Har...</td>\n",
       "      <td>decompressed</td>\n",
       "      <td>True</td>\n",
       "      <td>Parsed</td>\n",
       "      <td>508</td>\n",
       "    </tr>\n",
       "    <tr>\n",
       "      <th>https://www.youtube.com/watch?v=xgfQfDh4puk</th>\n",
       "      <td>DAL TOP DI HARVARD, LE INCOGNITE DI CoV-2, IMM...</td>\n",
       "      <td>David R. Walt della Harvard University Medical...</td>\n",
       "      <td>decompressed</td>\n",
       "      <td>True</td>\n",
       "      <td>Parsed</td>\n",
       "      <td>346</td>\n",
       "    </tr>\n",
       "    <tr>\n",
       "      <th>https://www.youtube.com/watch?v=-BbnIlxaqJM</th>\n",
       "      <td>VACCINI OBBLIGATORI AGGRAVEREBBERO LA SITUAZIO...</td>\n",
       "      <td>ISCRIVITI AL NOSTRO CANALE YOUTUBE: https://bi...</td>\n",
       "      <td>decompressed</td>\n",
       "      <td>True</td>\n",
       "      <td>Parsed</td>\n",
       "      <td>265</td>\n",
       "    </tr>\n",
       "    <tr>\n",
       "      <th>https://youtu.be/kHGtn_vnrJ8</th>\n",
       "      <td>IL PARERE DEL PREMIO NOBEL LUC MONTAGNIER SULL...</td>\n",
       "      <td>- Vi farete vaccinare oggi contro il #Covid?\\n...</td>\n",
       "      <td>compressed</td>\n",
       "      <td>True</td>\n",
       "      <td>Parsed</td>\n",
       "      <td>192</td>\n",
       "    </tr>\n",
       "    <tr>\n",
       "      <th>https://youtu.be/GJrC0xAAXoU</th>\n",
       "      <td>VACCINO: i dubbi più grossi</td>\n",
       "      <td>Ho cercato di fare da tramite tra gli enti per...</td>\n",
       "      <td>compressed</td>\n",
       "      <td>True</td>\n",
       "      <td>Parsed</td>\n",
       "      <td>165</td>\n",
       "    </tr>\n",
       "  </tbody>\n",
       "</table>\n",
       "</div>"
      ],
      "text/plain": [
       "                                                                                         title  \\\n",
       "url                                                                                              \n",
       "https://www.youtube.com/watch?v=U-kC9XkT7Eo  I LOCKDOWNS: DISTRUGGERANNO PIU' VITE DI QUANT...   \n",
       "https://www.youtube.com/watch?v=xgfQfDh4puk  DAL TOP DI HARVARD, LE INCOGNITE DI CoV-2, IMM...   \n",
       "https://www.youtube.com/watch?v=-BbnIlxaqJM  VACCINI OBBLIGATORI AGGRAVEREBBERO LA SITUAZIO...   \n",
       "https://youtu.be/kHGtn_vnrJ8                 IL PARERE DEL PREMIO NOBEL LUC MONTAGNIER SULL...   \n",
       "https://youtu.be/GJrC0xAAXoU                                       VACCINO: i dubbi più grossi   \n",
       "\n",
       "                                                                                   description  \\\n",
       "url                                                                                              \n",
       "https://www.youtube.com/watch?v=U-kC9XkT7Eo  Intervista all'epidemiologa di punta della Har...   \n",
       "https://www.youtube.com/watch?v=xgfQfDh4puk  David R. Walt della Harvard University Medical...   \n",
       "https://www.youtube.com/watch?v=-BbnIlxaqJM  ISCRIVITI AL NOSTRO CANALE YOUTUBE: https://bi...   \n",
       "https://youtu.be/kHGtn_vnrJ8                 - Vi farete vaccinare oggi contro il #Covid?\\n...   \n",
       "https://youtu.be/GJrC0xAAXoU                 Ho cercato di fare da tramite tra gli enti per...   \n",
       "\n",
       "                                                     type  available  reason  \\\n",
       "url                                                                            \n",
       "https://www.youtube.com/watch?v=U-kC9XkT7Eo  decompressed       True  Parsed   \n",
       "https://www.youtube.com/watch?v=xgfQfDh4puk  decompressed       True  Parsed   \n",
       "https://www.youtube.com/watch?v=-BbnIlxaqJM  decompressed       True  Parsed   \n",
       "https://youtu.be/kHGtn_vnrJ8                   compressed       True  Parsed   \n",
       "https://youtu.be/GJrC0xAAXoU                   compressed       True  Parsed   \n",
       "\n",
       "                                             occurrency  \n",
       "url                                                      \n",
       "https://www.youtube.com/watch?v=U-kC9XkT7Eo         508  \n",
       "https://www.youtube.com/watch?v=xgfQfDh4puk         346  \n",
       "https://www.youtube.com/watch?v=-BbnIlxaqJM         265  \n",
       "https://youtu.be/kHGtn_vnrJ8                        192  \n",
       "https://youtu.be/GJrC0xAAXoU                        165  "
      ]
     },
     "execution_count": 2,
     "metadata": {},
     "output_type": "execute_result"
    }
   ],
   "source": [
    "df_yt_complete = pd.read_csv('Youtube_URL.csv',low_memory=False)\n",
    "df_yt_complete = df_yt_complete.groupby('url').first().sort_values(by='occurrency',ascending=False)\n",
    "df_yt_complete.head()"
   ]
  },
  {
   "cell_type": "code",
   "execution_count": 3,
   "id": "a31e29d5",
   "metadata": {},
   "outputs": [
    {
     "data": {
      "text/html": [
       "<div>\n",
       "<style scoped>\n",
       "    .dataframe tbody tr th:only-of-type {\n",
       "        vertical-align: middle;\n",
       "    }\n",
       "\n",
       "    .dataframe tbody tr th {\n",
       "        vertical-align: top;\n",
       "    }\n",
       "\n",
       "    .dataframe thead th {\n",
       "        text-align: right;\n",
       "    }\n",
       "</style>\n",
       "<table border=\"1\" class=\"dataframe\">\n",
       "  <thead>\n",
       "    <tr style=\"text-align: right;\">\n",
       "      <th></th>\n",
       "      <th>user_screen_name</th>\n",
       "      <th>urls</th>\n",
       "    </tr>\n",
       "  </thead>\n",
       "  <tbody>\n",
       "    <tr>\n",
       "      <th>0</th>\n",
       "      <td>alessia_smile6</td>\n",
       "      <td>[]</td>\n",
       "    </tr>\n",
       "    <tr>\n",
       "      <th>1</th>\n",
       "      <td>GiornaledPuglia</td>\n",
       "      <td>[{'url': 'https://t.co/bQGJH64Mac', 'expanded_...</td>\n",
       "    </tr>\n",
       "    <tr>\n",
       "      <th>2</th>\n",
       "      <td>TestPerTutti</td>\n",
       "      <td>[{'url': 'https://t.co/oQZpHUBKrt', 'expanded_...</td>\n",
       "    </tr>\n",
       "    <tr>\n",
       "      <th>3</th>\n",
       "      <td>CapitanHarlok6</td>\n",
       "      <td>[]</td>\n",
       "    </tr>\n",
       "    <tr>\n",
       "      <th>4</th>\n",
       "      <td>soteros1</td>\n",
       "      <td>[]</td>\n",
       "    </tr>\n",
       "  </tbody>\n",
       "</table>\n",
       "</div>"
      ],
      "text/plain": [
       "  user_screen_name                                               urls\n",
       "0   alessia_smile6                                                 []\n",
       "1  GiornaledPuglia  [{'url': 'https://t.co/bQGJH64Mac', 'expanded_...\n",
       "2     TestPerTutti  [{'url': 'https://t.co/oQZpHUBKrt', 'expanded_...\n",
       "3   CapitanHarlok6                                                 []\n",
       "4         soteros1                                                 []"
      ]
     },
     "execution_count": 3,
     "metadata": {},
     "output_type": "execute_result"
    }
   ],
   "source": [
    "df = pd.read_csv('../Tweets.csv',low_memory=False,usecols=['user_screen_name','urls'])\n",
    "df.head()"
   ]
  },
  {
   "cell_type": "markdown",
   "id": "ff1d2fee",
   "metadata": {},
   "source": [
    "## General info about the video shared"
   ]
  },
  {
   "cell_type": "code",
   "execution_count": 4,
   "id": "2df8e2c5",
   "metadata": {},
   "outputs": [
    {
     "ename": "NameError",
     "evalue": "name 'df_yt' is not defined",
     "output_type": "error",
     "traceback": [
      "\u001b[1;31m---------------------------------------------------------------------------\u001b[0m",
      "\u001b[1;31mNameError\u001b[0m                                 Traceback (most recent call last)",
      "\u001b[1;32m<ipython-input-4-fbf490e7062d>\u001b[0m in \u001b[0;36m<module>\u001b[1;34m\u001b[0m\n\u001b[1;32m----> 1\u001b[1;33m \u001b[0mdf_yt_summary\u001b[0m \u001b[1;33m=\u001b[0m \u001b[0mdf_yt\u001b[0m\u001b[1;33m.\u001b[0m\u001b[0mgroupby\u001b[0m\u001b[1;33m(\u001b[0m\u001b[1;33m[\u001b[0m\u001b[1;34m'reason'\u001b[0m\u001b[1;33m]\u001b[0m\u001b[1;33m)\u001b[0m\u001b[1;33m.\u001b[0m\u001b[0mcount\u001b[0m\u001b[1;33m(\u001b[0m\u001b[1;33m)\u001b[0m\u001b[1;33m\u001b[0m\u001b[1;33m\u001b[0m\u001b[0m\n\u001b[0m\u001b[0;32m      2\u001b[0m \u001b[0mdf_yt_summary\u001b[0m\u001b[1;33m\u001b[0m\u001b[1;33m\u001b[0m\u001b[0m\n",
      "\u001b[1;31mNameError\u001b[0m: name 'df_yt' is not defined"
     ]
    }
   ],
   "source": [
    "df_yt_summary = df_yt.groupby(['reason']).count()\n",
    "df_yt_summary"
   ]
  },
  {
   "cell_type": "code",
   "execution_count": null,
   "id": "d320ca3a",
   "metadata": {},
   "outputs": [],
   "source": [
    "plt.figure(figsize=(20,10))\n",
    "s = df_yt_summary['occurrency'].sum()\n",
    "plt.pie(df_yt_summary['occurrency'], labels=df_yt_summary.index, shadow=True, startangle=100,\n",
    "       autopct=lambda p:f'{p:.2f}% ({p*(s)/100 :,.0f})'.replace(',', '\\''),\n",
    "       explode = [0.25,0.0,0.25,0.0,0.0])\n",
    "plt.show()"
   ]
  },
  {
   "cell_type": "code",
   "execution_count": null,
   "id": "5959b370",
   "metadata": {},
   "outputs": [],
   "source": [
    "df_yt = df_yt_complete[np.logical_or(df_yt_complete['reason']=='Parsed' , df_yt_complete['reason']=='Unavailable')]\n",
    "df_yt"
   ]
  },
  {
   "cell_type": "markdown",
   "id": "cb2ecd23",
   "metadata": {},
   "source": [
    "## Tracking user with type youtbe video shared\n",
    "Done only for unavailbe and parsed video"
   ]
  },
  {
   "cell_type": "code",
   "execution_count": null,
   "id": "965a1cef",
   "metadata": {},
   "outputs": [],
   "source": [
    "df_url = df[df['urls'] != '[]'].copy()\n",
    "\n",
    "df_url = ut.get_dfYt_line(df_url,df_yt.index)\n",
    "df_url = df_url[df_url['yt']]\n",
    "\n",
    "df_url"
   ]
  },
  {
   "cell_type": "code",
   "execution_count": null,
   "id": "4020a209",
   "metadata": {},
   "outputs": [],
   "source": [
    "df_user_yt = pd.DataFrame(columns=['name','url','type'])\n",
    "\n",
    "for i in df_url.index:\n",
    "    user = df.at[i, 'user_screen_name']\n",
    "    s = df.at[i, 'urls']\n",
    "    urls = gen_ut.get_string_json(s, 'expanded_url')\n",
    "    for url in urls:\n",
    "        if url in df_yt.index:\n",
    "            df_user_yt.loc[df_user_yt.shape[0]] = [user,url,df_yt.loc[url,'reason']]\n",
    "            \n",
    "\n",
    "df_user_yt        "
   ]
  },
  {
   "cell_type": "code",
   "execution_count": null,
   "id": "47ae32b5",
   "metadata": {},
   "outputs": [],
   "source": [
    "df_user_yt['isParsed'] = 0\n",
    "df_user_yt.loc[df_user_yt['type']=='Parsed','isParsed'] = 1\n",
    "df_user_yt['total'] = 1\n",
    "\n",
    "\n",
    "df_user_group = df_user_yt.groupby(['name']).sum().sort_values(['total'],ascending=False)\n",
    "df_user_group"
   ]
  },
  {
   "cell_type": "code",
   "execution_count": null,
   "id": "5e890e02",
   "metadata": {},
   "outputs": [],
   "source": [
    "plt.figure(figsize=(15,10))\n",
    "plt.barh(df_user_group.head(20).index,df_user_group.head(20).total,label='Total')\n",
    "plt.barh(df_user_group.head(20).index,df_user_group.head(20).total-df_user_group.head(20).isParsed\n",
    "        ,label='Unavailbe')\n",
    "plt.legend()\n",
    "plt.title('Number of youtube video shared ')"
   ]
  }
 ],
 "metadata": {
  "kernelspec": {
   "display_name": "Python 3",
   "language": "python",
   "name": "python3"
  },
  "language_info": {
   "codemirror_mode": {
    "name": "ipython",
    "version": 3
   },
   "file_extension": ".py",
   "mimetype": "text/x-python",
   "name": "python",
   "nbconvert_exporter": "python",
   "pygments_lexer": "ipython3",
   "version": "3.8.10"
  }
 },
 "nbformat": 4,
 "nbformat_minor": 5
}
