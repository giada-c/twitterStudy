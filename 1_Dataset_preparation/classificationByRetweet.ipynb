{
 "cells": [
  {
   "cell_type": "markdown",
   "id": "510d652f",
   "metadata": {},
   "source": [
    "## Import"
   ]
  },
  {
   "cell_type": "code",
   "execution_count": null,
   "id": "bccdfbda",
   "metadata": {},
   "outputs": [],
   "source": [
    "import pandas as pd\n",
    "import numpy as np\n",
    "import os\n",
    "\n",
    "\n",
    "from itertools import takewhile, dropwhile\n",
    "from collections import Counter\n",
    "\n",
    "import plotly.express as px\n",
    "import plotly.graph_objects as go\n",
    "from plotly.subplots import make_subplots\n",
    "\n",
    "import dataframes_util as ut"
   ]
  },
  {
   "cell_type": "markdown",
   "id": "d4196de7",
   "metadata": {},
   "source": [
    "# Import base df"
   ]
  },
  {
   "cell_type": "code",
   "execution_count": null,
   "id": "f992d31e",
   "metadata": {},
   "outputs": [],
   "source": [
    "if (not os.path.isfile('../tweets.csv')):\n",
    "    %run userPreparation.ipynb\n",
    "\n",
    "dfPosts = pd.read_csv('../tweets.csv',low_memory=False)"
   ]
  },
  {
   "cell_type": "code",
   "execution_count": null,
   "id": "439ec01a",
   "metadata": {},
   "outputs": [],
   "source": [
    "dfPosts"
   ]
  },
  {
   "cell_type": "markdown",
   "id": "ab87e039",
   "metadata": {},
   "source": [
    "## Filtered by retweet"
   ]
  },
  {
   "cell_type": "markdown",
   "id": "724d2b8b",
   "metadata": {},
   "source": [
    "### High credibility"
   ]
  },
  {
   "cell_type": "code",
   "execution_count": null,
   "id": "94aab06b",
   "metadata": {},
   "outputs": [],
   "source": [
    "listHighCred =  ['tagadala7', 'La7tv', 'Corriere', 'tg2rai', 'TgrRaiPuglia', 'Linkiesta', 'ilfoglio_it', \n",
    "                 'fanpage', 'LaStampa', 'RaiNews', 'fattoquotidiano', 'TgrRaiVeneto', 'agorarai', 'TgrRaiSicilia', \n",
    "                 'UnioneSarda', 'SkyTG24', 'repubblica', 'TgrRai', 'Agenzia_Ansa', 'Tg3web', 'TgrRaiToscana', \n",
    "                 'Affaritaliani', 'TgrRaiTrentino', 'PiazzapulitaLA7', 'Adnkronos', 'agerpres', 'RepubblicaTv', \n",
    "                 'TgrRaiFVG', 'ilpost', 'Open_gol', 'Radio1Rai', 'MediasetTgcom24', 'TgLa7', 'RaiStudio24', \n",
    "                 'TgrRaiMolise', 'sole24ore', 'Ticinonline', 'ricpuglisi', 'SimoneCosimi', 'giusmo1', 'RobertoBurioni',\n",
    "                 'rtl1025', 'messveneto', 'HuffPostItalia', 'Agenzia_Italia', 'ItaliaViva', 'iltirreno', 'Agenzia_Dire',\n",
    "                 'stebellentani', 'eziomauro', 'QRepubblica', 'lucianocapone', 'robersperanza', 'vocedelpatriota', \n",
    "                 'GiovaQuez', 'Cartabellotta', 'istsupsan', 'christianrocca', 'Zeta_Luiss', 'radioanchio', '24Mattino', \n",
    "                 'sottoinchiesta', 'riotta']"
   ]
  },
  {
   "cell_type": "markdown",
   "id": "976dce47",
   "metadata": {},
   "source": [
    "#### Retweeted by an high credibility user"
   ]
  },
  {
   "cell_type": "raw",
   "id": "8e4624db",
   "metadata": {},
   "source": [
    "userNovax = listSuspect\n",
    "\n",
    "print('Generation 0')\n",
    "print(\"\\tNumber of users: %d\"%len(userNovax))\n",
    "\n",
    "for i in range(0,1):\n",
    "    print('Generation %d'%(i+1))\n",
    "    retweeted = ut.retweeted_by_suspect(dfPosts,userNovax)\n",
    "    userNovax = userNovax + list(retweeted.index)\n",
    "    userNovax = list(set(userNovax))\n",
    "    print(\"\\tNumber of users: %d\"%len(userNovax))\n",
    "len(userNovax)"
   ]
  },
  {
   "cell_type": "markdown",
   "id": "94b48b0f",
   "metadata": {},
   "source": [
    "#### Retweet  an high credibility user"
   ]
  },
  {
   "cell_type": "code",
   "execution_count": null,
   "id": "1516f1a7",
   "metadata": {},
   "outputs": [],
   "source": [
    "#Account that have retweeted a suspect (follower)\n",
    "userHighCred = listHighCred\n",
    "dfRetweet = pd.DataFrame()\n",
    "print (\"Generation \",0, \": \",len(userHighCred))\n",
    "\n",
    "for i in range(0, 1):\n",
    "    dfRetweet = ut.retweet_a_suspect(dfPosts,userHighCred)\n",
    "    userHighCred = userHighCred + list(dfRetweet[dfRetweet['rt_rate']>=10.0].index)\n",
    "    userHighCred = list(set(userHighCred))\n",
    "    print (\"Generation \",i+1, \": \",len(userHighCred))\n",
    "dfRetweet"
   ]
  },
  {
   "cell_type": "code",
   "execution_count": null,
   "id": "d83f8dac",
   "metadata": {},
   "outputs": [],
   "source": [
    "fig = px.histogram(x=dfRetweet[dfRetweet['rt_rate']>0][\"rt_rate\"],\n",
    "                 histnorm='percent',title=\"Retweet rate on follower (high credibility)\")\n",
    "fig.update_xaxes(title='retweet rate')\n",
    "fig.show()"
   ]
  },
  {
   "cell_type": "code",
   "execution_count": null,
   "id": "2d0a2ace",
   "metadata": {},
   "outputs": [],
   "source": [
    "dfProvax = dfPosts[dfPosts.isin(userHighCred)['user_screen_name']].copy()"
   ]
  },
  {
   "cell_type": "markdown",
   "id": "8058e7a7",
   "metadata": {},
   "source": [
    "### NoVax"
   ]
  },
  {
   "cell_type": "code",
   "execution_count": null,
   "id": "fffa0aa5",
   "metadata": {},
   "outputs": [],
   "source": [
    "listSuspect = ['IacobellisT','Piero42395724', 'TommyBrain','xenonian1', 'Z3r0Rules','Pietro_Otto',\n",
    "               'MarySpes','manu_etoile','CarpaneseSilva1','il_brigante07','Sakurauchi_Hime','MinervaMcGrani1',\n",
    "              'marchesaangeli','lucabattanta',\n",
    "              'gael99','LPinicia','Mariang47614228','SoniaLaVera','valy_s','Samira1577','daniele19921','d_essere'\n",
    "              'anto_galli4','LuigiF97101292','EureosCriss','vaniacavi',\n",
    "              'markred17','RenzoCianchetti','12qbert','ManuQ24916888','bisagnino','thewaterflea',\n",
    "              'BarbaraRaval','noitre32','intuslegens','pbecchi','miia_2018','ladyonorato','cris_cersei','RadioSavana',\n",
    "              'lameduck1960','a_meluzzi','francescatotolo','Mr_Ozymandias','FmMosca','LaVeritaWeb','Bluefidel47',\n",
    "              'fdragoni','byoblu','MinutemanItaly','TarroGiulio','NicolaPorro','25O319','sabrina__sf','liliaragnar',\n",
    "              'FabioFranchi1','EliseiNicole']"
   ]
  },
  {
   "cell_type": "markdown",
   "id": "ea3eb806",
   "metadata": {},
   "source": [
    "#### Retweeted by a suspect\n",
    "Any user that is defined as a novax that retweets a user, the retweeted user will automatically be considered a novax"
   ]
  },
  {
   "cell_type": "raw",
   "id": "50647edc",
   "metadata": {},
   "source": [
    "userNovax = listSuspect\n",
    "\n",
    "print('Generation 0')\n",
    "print(\"\\tNumber of users: %d\"%len(userNovax))\n",
    "\n",
    "for i in range(0,1):\n",
    "    print('Generation %d'%(i+1))\n",
    "    retweeted = ut.retweeted_by_suspect(dfPosts,userNovax)\n",
    "    userNovax = userNovax + list(retweeted.index)\n",
    "    userNovax = list(set(userNovax))\n",
    "    print(\"\\tNumber of users: %d\"%len(userNovax))\n",
    "len(userNovax)"
   ]
  },
  {
   "cell_type": "markdown",
   "id": "2da50d22",
   "metadata": {},
   "source": [
    "#### Retweet a suspect"
   ]
  },
  {
   "cell_type": "code",
   "execution_count": null,
   "id": "53cc5be9",
   "metadata": {},
   "outputs": [],
   "source": [
    "#Account that have retweeted a suspect (follower)\n",
    "userNovax = listSuspect\n",
    "dfRetweet = pd.DataFrame()\n",
    "print (\"Generation \",0, \": \",len(userNovax))\n",
    "for i in range(0, 2):\n",
    "    dfRetweet = ut.retweet_a_suspect(dfPosts,userNovax)\n",
    "    userNovax = userNovax + list(dfRetweet[dfRetweet['rt_rate']>=20.0].index)\n",
    "    userNovax = list(set(userNovax))\n",
    "    \n",
    "    print (\"Generation \",i+1, \": \",len(userNovax))\n",
    "\n",
    "dfRetweet"
   ]
  },
  {
   "cell_type": "code",
   "execution_count": null,
   "id": "41af24bd",
   "metadata": {},
   "outputs": [],
   "source": [
    "fig = px.histogram(x=dfRetweet[dfRetweet['rt_rate']>0][\"rt_rate\"],\n",
    "                 histnorm='percent',title=\"Retweet rate on follower (novax)\")\n",
    "fig.update_xaxes(title='retweet rate')\n",
    "fig.show()"
   ]
  },
  {
   "cell_type": "code",
   "execution_count": null,
   "id": "ad0f8769",
   "metadata": {},
   "outputs": [],
   "source": [
    "dfNovax = dfPosts[dfPosts.isin(userNovax)['user_screen_name']].copy()"
   ]
  },
  {
   "cell_type": "markdown",
   "id": "628b08e4",
   "metadata": {},
   "source": [
    "# .CSV Creation "
   ]
  },
  {
   "cell_type": "markdown",
   "id": "9dc900d9",
   "metadata": {},
   "source": [
    "### Novax"
   ]
  },
  {
   "cell_type": "code",
   "execution_count": null,
   "id": "c627e0ed",
   "metadata": {},
   "outputs": [],
   "source": [
    "dfNovax.drop_duplicates(['id'],inplace=True)\n",
    "dfNovax"
   ]
  },
  {
   "cell_type": "markdown",
   "id": "ad9f7656",
   "metadata": {},
   "source": [
    "### High credibility"
   ]
  },
  {
   "cell_type": "code",
   "execution_count": null,
   "id": "99f33d33",
   "metadata": {},
   "outputs": [],
   "source": [
    "dfProvax.drop_duplicates(['id'],inplace=True)\n",
    "dfProvax"
   ]
  },
  {
   "cell_type": "markdown",
   "id": "21aa2700",
   "metadata": {},
   "source": [
    "### Other user"
   ]
  },
  {
   "cell_type": "code",
   "execution_count": null,
   "id": "1ec2b006",
   "metadata": {},
   "outputs": [],
   "source": [
    "idNovax = dfNovax.groupby('id').first().index\n",
    "dfOtherElem = dfPosts[dfPosts['id'].isin(idNovax) == False]\n",
    "\n",
    "idProvax = dfProvax.groupby('id').first().index\n",
    "dfOtherElem = dfOtherElem[dfOtherElem['id'].isin(idProvax) == False]\n",
    "\n",
    "dfOtherElem"
   ]
  },
  {
   "cell_type": "markdown",
   "id": "7a99b0f9",
   "metadata": {},
   "source": [
    "### Write dataframe to .csv"
   ]
  },
  {
   "cell_type": "code",
   "execution_count": null,
   "id": "79a5b684",
   "metadata": {},
   "outputs": [],
   "source": [
    "dfProvax.to_csv('retweet_class/tweets_provax.csv', index=False)"
   ]
  },
  {
   "cell_type": "code",
   "execution_count": null,
   "id": "238cfb03",
   "metadata": {},
   "outputs": [],
   "source": [
    "dfNovax.to_csv('retweet_class/tweets_novax.csv', index=False)"
   ]
  },
  {
   "cell_type": "code",
   "execution_count": null,
   "id": "3e79633e",
   "metadata": {},
   "outputs": [],
   "source": [
    "dfOtherElem.to_csv('retweet_class/tweets_otherUser.csv', index=False)"
   ]
  },
  {
   "cell_type": "code",
   "execution_count": null,
   "id": "b8fc5e3a",
   "metadata": {},
   "outputs": [],
   "source": [
    "#Extract to another dataframe info about doubled classified users\n",
    "doubled_class = list(np.array(dfNovax['user_id'])[pd.Series(dfNovax['user_id']).isin(dfProvax['user_id'])])\n",
    "dfDoubled = dfPosts[dfPosts['user_id'].isin(doubled_class)]\n",
    "\n",
    "dfDoubled.to_csv('retweet_class/tweets_doubled_classified.csv', index=False)"
   ]
  }
 ],
 "metadata": {
  "interpreter": {
   "hash": "1f708736793de3fc0c02bbe85b1c7aa3dac1d3a33c8c658a64d0d602cb53d4fc"
  },
  "kernelspec": {
   "display_name": "Python 3",
   "language": "python",
   "name": "python3"
  },
  "language_info": {
   "codemirror_mode": {
    "name": "ipython",
    "version": 3
   },
   "file_extension": ".py",
   "mimetype": "text/x-python",
   "name": "python",
   "nbconvert_exporter": "python",
   "pygments_lexer": "ipython3",
   "version": "3.8.10"
  }
 },
 "nbformat": 4,
 "nbformat_minor": 5
}
