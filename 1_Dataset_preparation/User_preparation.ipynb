{
 "cells": [
  {
   "cell_type": "markdown",
   "id": "510d652f",
   "metadata": {},
   "source": [
    "# Import"
   ]
  },
  {
   "cell_type": "code",
   "execution_count": null,
   "id": "bccdfbda",
   "metadata": {},
   "outputs": [],
   "source": [
    "import glob\n",
    "\n",
    "import importlib\n",
    "import dataframes_util as ut"
   ]
  },
  {
   "cell_type": "markdown",
   "id": "26bdefcf",
   "metadata": {},
   "source": [
    "# Users dataframe"
   ]
  },
  {
   "cell_type": "code",
   "execution_count": null,
   "id": "aede00f9",
   "metadata": {},
   "outputs": [],
   "source": [
    "dfUsers = ut.read_all_csv(\"data/**/not_found_users/users_not_found.csv\")\n",
    "dfUsers.drop_duplicates(subset=['id'],inplace=True)"
   ]
  },
  {
   "cell_type": "code",
   "execution_count": null,
   "id": "f7a8e6d2",
   "metadata": {},
   "outputs": [],
   "source": [
    "dfUsers.info()"
   ]
  },
  {
   "cell_type": "markdown",
   "id": "4a8e068a",
   "metadata": {},
   "source": [
    "## Control user"
   ]
  },
  {
   "cell_type": "markdown",
   "id": "9cf37c0f",
   "metadata": {},
   "source": [
    "### Control if all the users have a code error"
   ]
  },
  {
   "cell_type": "code",
   "execution_count": null,
   "id": "5f7b2613",
   "metadata": {},
   "outputs": [],
   "source": [
    "data_folders = glob.glob(\"data/20**\")\n",
    "for folder in data_folders:\n",
    "    not_matched = ut.inspect_users(folder)\n",
    "    if len(not_matched) > 0:\n",
    "        print(not_matched)\n",
    "    else:\n",
    "        print(f\"{folder} is ok\")"
   ]
  },
  {
   "cell_type": "markdown",
   "id": "172682ab",
   "metadata": {},
   "source": [
    "# Write to file .csv the complete dataframes"
   ]
  },
  {
   "cell_type": "code",
   "execution_count": null,
   "id": "3c4fff02",
   "metadata": {},
   "outputs": [],
   "source": [
    "dfUsers.to_csv('../users.csv', index=False)"
   ]
  }
 ],
 "metadata": {
  "interpreter": {
   "hash": "1f708736793de3fc0c02bbe85b1c7aa3dac1d3a33c8c658a64d0d602cb53d4fc"
  },
  "kernelspec": {
   "display_name": "Python 3.8.10 64-bit ('TwitterStudy': conda)",
   "name": "python3"
  },
  "language_info": {
   "codemirror_mode": {
    "name": "ipython",
    "version": 3
   },
   "file_extension": ".py",
   "mimetype": "text/x-python",
   "name": "python",
   "nbconvert_exporter": "python",
   "pygments_lexer": "ipython3",
   "version": "3.8.10"
  }
 },
 "nbformat": 4,
 "nbformat_minor": 5
}
