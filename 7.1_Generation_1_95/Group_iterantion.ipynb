{
 "cells": [
  {
   "cell_type": "markdown",
   "id": "4de183c0",
   "metadata": {},
   "source": [
    "# Group study - Retweet classification"
   ]
  },
  {
   "cell_type": "markdown",
   "id": "8f95f8ed",
   "metadata": {},
   "source": [
    "## Import"
   ]
  },
  {
   "cell_type": "code",
   "execution_count": 1,
   "id": "6fd03770",
   "metadata": {},
   "outputs": [],
   "source": [
    "import pandas as pd\n",
    "import numpy as np\n",
    "import plotly.express as px\n",
    "\n",
    "import importlib\n",
    "import sys\n",
    "sys.path.insert(0, '../5.0_Group_study(todo)')\n",
    "import group_util as ut\n",
    "sys.path.insert(0, '..')\n",
    "import general_utils as gen_ut"
   ]
  },
  {
   "cell_type": "markdown",
   "id": "b76d53d5",
   "metadata": {},
   "source": [
    "## Dataset and general info preparation"
   ]
  },
  {
   "cell_type": "code",
   "execution_count": 2,
   "id": "9b4b0fda",
   "metadata": {},
   "outputs": [],
   "source": [
    "cols_study = ['user_screen_name','user_mentions','rt_user_screen_name','in_reply_to_screen_name', 'user_url_cred',\n",
    "             'rt_created_at','quoted_status_id','in_reply_to_user_id','in_reply_to_screen_name','rt_user_screen_name']\n",
    "base_path = '../'"
   ]
  },
  {
   "cell_type": "code",
   "execution_count": 3,
   "id": "6eaa984e",
   "metadata": {},
   "outputs": [],
   "source": [
    "df = pd.read_csv('../tweets.csv',low_memory=False,\n",
    "                 usecols=cols_study)"
   ]
  },
  {
   "cell_type": "code",
   "execution_count": 4,
   "id": "4e388cca",
   "metadata": {},
   "outputs": [],
   "source": [
    "dfProvax, provaxUsers = ut.read_csv_and_user_list('tweets_provax_100.csv',cols_study)\n",
    "dfNovax, novaxUsers = ut.read_csv_and_user_list('tweets_novax_100.csv',cols_study)\n",
    "dfOther, otherUser = ut.read_csv_and_user_list('tweets_otherUser_100.csv', cols_study)"
   ]
  },
  {
   "cell_type": "code",
   "execution_count": 5,
   "id": "d1698ad2",
   "metadata": {},
   "outputs": [],
   "source": [
    "numTotalUsers = len(df.groupby('user_screen_name').count())\n",
    "numTotalPosts = len(df)"
   ]
  },
  {
   "cell_type": "code",
   "execution_count": 6,
   "id": "66f50470",
   "metadata": {},
   "outputs": [],
   "source": [
    "tweets,retweet,reply,quotes = gen_ut.separate_post_type(df)  \n",
    "\n",
    "numTotalRealTweet = len(tweets)"
   ]
  },
  {
   "cell_type": "markdown",
   "id": "637b2af0",
   "metadata": {},
   "source": [
    "## Dataframe about information populate"
   ]
  },
  {
   "cell_type": "code",
   "execution_count": 7,
   "id": "5b18feaa",
   "metadata": {},
   "outputs": [],
   "source": [
    "dfGeneralInfo = pd.DataFrame()\n",
    "dfOriginalTweetInfo = pd.DataFrame()\n",
    "dfRetweetInfo = pd.DataFrame()\n",
    "dfReplyInfo = pd.DataFrame()\n",
    "dfQuotesInfo = pd.DataFrame()"
   ]
  },
  {
   "cell_type": "code",
   "execution_count": 8,
   "id": "3c7a016e",
   "metadata": {},
   "outputs": [],
   "source": [
    "def dfInfoPopulate(index,df):\n",
    "    tweets,retweet,reply,quotes = gen_ut.separate_post_type(df)  \n",
    "    \n",
    "    dfGeneralInfo.loc[index,'user'] = len(df.groupby('user_screen_name').count())\n",
    "    dfGeneralInfo.loc[index,'user %'] = (dfGeneralInfo.loc[index,'user'] / numTotalUsers) * 100\n",
    "\n",
    "    dfGeneralInfo.loc[index,'post'] = len(df)\n",
    "    dfGeneralInfo.loc[index,'post %'] = (dfGeneralInfo.loc[index,'post'] / numTotalPosts) * 100\n",
    "    \n",
    "    #Original tweet\n",
    "    dfOriginalTweetInfo.loc[index,'original_tweets'] = len(tweets.groupby('user_screen_name').count())\n",
    "    dfOriginalTweetInfo.loc[index,'original_tweets %'] = (dfOriginalTweetInfo.loc[index,'original_tweets']\n",
    "                                                          / numTotalRealTweet) * 100\n",
    "\n",
    "    #Retweet\n",
    "    dfRetweetInfo.loc[index,'retweets'] = len(retweet)\n",
    "    rt_novax = len(retweet[np.in1d(retweet['rt_user_screen_name'], novaxUsers)])\n",
    "    rt_high = len(retweet[np.in1d(retweet['rt_user_screen_name'], provaxUsers)])\n",
    "    rt_other = len(retweet[np.in1d(retweet['rt_user_screen_name'], otherUser)])\n",
    "    \n",
    "    dfRetweetInfo.loc[index,'retweets (novax)'] = rt_novax\n",
    "    dfRetweetInfo.loc[index,'retweets %(novax)'] = (rt_novax / dfRetweetInfo.loc[index,'retweets']) * 100\n",
    "    \n",
    "    dfRetweetInfo.loc[index,'retweets (high credibility)'] = rt_high\n",
    "    dfRetweetInfo.loc[index,'retweets %(high credibility)'] = (rt_high / dfRetweetInfo.loc[index,'retweets']) * 100\n",
    "    \n",
    "    dfRetweetInfo.loc[index,'retweets (other users)'] = rt_other\n",
    "    dfRetweetInfo.loc[index,'retweets %(other users)'] = (rt_other / dfRetweetInfo.loc[index,'retweets']) * 100\n",
    "    \n",
    "    \n",
    "    #Reply\n",
    "    dfReplyInfo.loc[index,'reply'] = len(reply)\n",
    "    rp_novax = len(reply[np.in1d(reply['in_reply_to_screen_name'], novaxUsers)])\n",
    "    rp_high = len(reply[np.in1d(reply['in_reply_to_screen_name'], provaxUsers)])\n",
    "    rp_other = len(reply[np.in1d(reply['in_reply_to_screen_name'], otherUser)])\n",
    "    \n",
    "    dfReplyInfo.loc[index,'reply (novax)'] = rp_novax\n",
    "    dfReplyInfo.loc[index,'reply %(novax)'] = (rp_novax / dfReplyInfo.loc[index,'reply']) * 100\n",
    "    \n",
    "    dfReplyInfo.loc[index,'reply (high credibility)'] = rp_high\n",
    "    dfReplyInfo.loc[index,'reply %(high credibility)'] = (rp_high / dfReplyInfo.loc[index,'reply']) * 100\n",
    "    \n",
    "    dfReplyInfo.loc[index,'reply (other users)'] = rp_other\n",
    "    dfReplyInfo.loc[index,'reply %(other users)'] = (rp_other / dfReplyInfo.loc[index,'reply']) * 100\n",
    "    \n",
    "    \n",
    "    #Quotes\n",
    "    dfQuotesInfo.loc[index,'quotes'] = len(quotes)\n",
    "    qt_novax = len(quotes[np.in1d(quotes['user_mentions'], novaxUsers)])\n",
    "    qt_provax = len(quotes[np.in1d(quotes['user_mentions'], provaxUsers)])\n",
    "    qt_other = len(quotes[np.in1d(quotes['user_mentions'], otherUser)])\n",
    "    \n",
    "    dfQuotesInfo.loc[index,'quotes (novax)'] = qt_novax\n",
    "    dfQuotesInfo.loc[index,'quotes %(novax)'] = (qt_novax / dfQuotesInfo.loc[index,'quotes']) * 100\n",
    "    \n",
    "    dfQuotesInfo.loc[index,'quotes (high credibility)'] = qt_provax\n",
    "    dfQuotesInfo.loc[index,'quotes %(high credibility)'] = (qt_provax / dfQuotesInfo.loc[index,'quotes']) * 100\n",
    "    \n",
    "    dfQuotesInfo.loc[index,'quotes (other users)'] = qt_other\n",
    "    dfQuotesInfo.loc[index,'quotes %(other users)'] = (qt_other / dfQuotesInfo.loc[index,'quotes']) * 100"
   ]
  },
  {
   "cell_type": "code",
   "execution_count": null,
   "id": "8c15ddd7",
   "metadata": {},
   "outputs": [],
   "source": [
    "dfInfoPopulate('benevolent',dfProvax)\n",
    "dfInfoPopulate('malicious',dfNovax)\n",
    "dfInfoPopulate('other_user',dfOther)"
   ]
  },
  {
   "cell_type": "markdown",
   "id": "e5b447ea",
   "metadata": {},
   "source": [
    "## Information printing"
   ]
  },
  {
   "cell_type": "code",
   "execution_count": null,
   "id": "9c2ca6db",
   "metadata": {},
   "outputs": [],
   "source": [
    "dfGeneralInfo"
   ]
  },
  {
   "cell_type": "code",
   "execution_count": null,
   "id": "8408ac55",
   "metadata": {},
   "outputs": [],
   "source": [
    "dfOriginalTweetInfo"
   ]
  },
  {
   "cell_type": "code",
   "execution_count": null,
   "id": "acad9c09",
   "metadata": {},
   "outputs": [],
   "source": [
    "dfRetweetInfo"
   ]
  },
  {
   "cell_type": "code",
   "execution_count": null,
   "id": "4c699100",
   "metadata": {},
   "outputs": [],
   "source": [
    "dfReplyInfo"
   ]
  },
  {
   "cell_type": "code",
   "execution_count": null,
   "id": "3176a13e",
   "metadata": {},
   "outputs": [],
   "source": [
    "dfQuotesInfo"
   ]
  }
 ],
 "metadata": {
  "interpreter": {
   "hash": "1f708736793de3fc0c02bbe85b1c7aa3dac1d3a33c8c658a64d0d602cb53d4fc"
  },
  "kernelspec": {
   "display_name": "Python 3",
   "language": "python",
   "name": "python3"
  },
  "language_info": {
   "codemirror_mode": {
    "name": "ipython",
    "version": 3
   },
   "file_extension": ".py",
   "mimetype": "text/x-python",
   "name": "python",
   "nbconvert_exporter": "python",
   "pygments_lexer": "ipython3",
   "version": "3.8.10"
  }
 },
 "nbformat": 4,
 "nbformat_minor": 5
}
